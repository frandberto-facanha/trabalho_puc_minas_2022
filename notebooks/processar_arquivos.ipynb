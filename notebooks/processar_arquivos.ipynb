{
 "cells": [
  {
   "cell_type": "markdown",
   "metadata": {},
   "source": [
    "Processamento dos arquivos de medição de CPU e Memória"
   ]
  },
  {
   "cell_type": "code",
   "execution_count": 92,
   "metadata": {},
   "outputs": [],
   "source": [
    "import pandas as pd\n",
    "import hashlib\n",
    "import glob"
   ]
  },
  {
   "cell_type": "code",
   "execution_count": 97,
   "metadata": {},
   "outputs": [
    {
     "name": "stdout",
     "output_type": "stream",
     "text": [
      "./dados/metrics/cpu/cpu_10000302062022.csv\n",
      "./dados/metrics/cpu/cpu_14440602062022.csv\n",
      "./dados/metrics/cpu/cpu_11000402062022.csv\n",
      "./dados/metrics/cpu/cpu_15000402062022.csv\n",
      "./dados/metrics/cpu/cpu_23000401062022.csv\n",
      "./dados/metrics/cpu/cpu_20000402062022.csv\n",
      "./dados/metrics/cpu/cpu_01000502062022.csv\n",
      "./dados/metrics/cpu/cpu_02000502062022.csv\n",
      "./dados/metrics/cpu/cpu_12000402062022.csv\n",
      "./dados/metrics/cpu/cpu_13001202062022.csv\n",
      "./dados/metrics/cpu/cpu_07000402062022.csv\n",
      "./dados/metrics/cpu/cpu_14000502062022.csv\n",
      "./dados/metrics/cpu/cpu_03000502062022.csv\n",
      "./dados/metrics/cpu/cpu_17000302062022.csv\n",
      "./dados/metrics/cpu/cpu_22000601062022.csv\n",
      "./dados/metrics/cpu/cpu_04000602062022.csv\n",
      "./dados/metrics/cpu/cpu_21004601062022.csv\n",
      "./dados/metrics/cpu/cpu_22012302062022.csv\n",
      "./dados/metrics/cpu/cpu_06000402062022.csv\n",
      "./dados/metrics/cpu/cpu_16000402062022.csv\n",
      "./dados/metrics/cpu/cpu_08000502062022.csv\n",
      "./dados/metrics/cpu/cpu_18000502062022.csv\n",
      "./dados/metrics/cpu/cpu_21001602062022.csv\n",
      "./dados/metrics/cpu/cpu_00000402062022.csv\n",
      "./dados/metrics/cpu/cpu_19000502062022.csv\n",
      "./dados/metrics/cpu/cpu_09000302062022.csv\n",
      "./dados/metrics/cpu/cpu_05000402062022.csv\n",
      "./dados/metrics/cpu/cpu_20311401062022.csv\n",
      "Fim processsamento\n"
     ]
    }
   ],
   "source": [
    "# Processamento de arquivos de CPU\n",
    "header_list = [\"Sistema\", \"Ambiente\", \"Modulo\", \"Pod\", \"Uso_CPU\"]\n",
    "path_processados = './dados/metrics/cpu/processados'\n",
    "path = './dados/metrics/cpu/'\n",
    "csv_files = glob.glob(path + \"*.csv\")\n",
    "\n",
    "def hash(ambiente, pod):\n",
    "    return hashlib.md5(f'{ambiente}{pod}'.encode('utf-8')).hexdigest()\n",
    "\n",
    "for file in csv_files:\n",
    "    print(file)\n",
    "    data = pd.read_csv(file, sep=';', header=None, names=header_list)\n",
    "    # obtem horario\n",
    "    filename = file.replace(path, \"\")\n",
    "    hora = int(filename[4:6]) - 3 # GMT - 3\n",
    "    \n",
    "    if hora == -1:\n",
    "        hora = 23\n",
    "    if hora == -2:\n",
    "        hora = 22\n",
    "    if hora == -3:\n",
    "        hora = 21\n",
    "        \n",
    "    # acrescenta coluna de horário    \n",
    "    data['Hora'] = hora\n",
    "    # acrescenta coluna de hash\n",
    "    data['Hash'] = [hash(x, y) for x, y in zip(data['Ambiente'], data['Pod'])]\n",
    "    \n",
    "    # salva arquivo\n",
    "    data.to_csv(f'{path_processados}/cpu_{hora}.csv', index=False)\n",
    "    \n",
    "print('Fim processsamento CPU')\n",
    "    # pd.read_csv(file, sep=';', header=None, names=header_list)\n",
    "\n",
    "# df_list = (pd.read_csv(file, sep=';', header=None, names=header_list) for file in csv_files)\n",
    "\n",
    "# hora = int(filename[4:6]) - 3 # GMT - 3\n",
    "# print('Hora:', hora)\n",
    "# data = pd.read_csv(f'{dir_path}/{filename}', sep=';', header=None, names=header_list)\n"
   ]
  },
  {
   "cell_type": "code",
   "execution_count": 103,
   "metadata": {},
   "outputs": [
    {
     "name": "stdout",
     "output_type": "stream",
     "text": [
      "memory_19000502062022.csv\n",
      "memory_07000402062022.csv\n",
      "memory_06000402062022.csv\n",
      "memory_01000402062022.csv\n",
      "memory_13001102062022.csv\n",
      "memory_21000401062022.csv\n",
      "memory_05000302062022.csv\n",
      "memory_03000402062022.csv\n",
      "memory_12000402062022.csv\n",
      "memory_23000401062022.csv\n",
      "memory_04000602062022.csv\n",
      "memory_08000402062022.csv\n",
      "memory_09000302062022.csv\n",
      "memory_16000402062022.csv\n",
      "memory_20000402062022.csv\n",
      "memory_02000402062022.csv\n",
      "memory_17000302062022.csv\n",
      "memory_22003702062022.csv\n",
      "memory_14000602062022.csv\n",
      "memory_11000402062022.csv\n",
      "memory_20311301062022.csv\n",
      "memory_22000501062022.csv\n",
      "memory_21001702062022.csv\n",
      "memory_18000502062022.csv\n",
      "memory_14440602062022.csv\n",
      "memory_15000402062022.csv\n",
      "memory_10000302062022.csv\n",
      "memory_00000402062022.csv\n",
      "Fim processsamento de Memoria\n"
     ]
    }
   ],
   "source": [
    "# Processamento de dados de memória\n",
    "\n",
    "header_list = [\"Sistema\", \"Ambiente\", \"Modulo\", \"Pod\", \"Uso_Memoria\"]\n",
    "path_processados = './dados/metrics/memoria/processados'\n",
    "path = './dados/metrics/memoria/'\n",
    "csv_files = glob.glob(path + \"*.csv\")\n",
    "\n",
    "for file in csv_files:    \n",
    "    data = pd.read_csv(file, sep=';', header=None, names=header_list)\n",
    "    # obtem horario\n",
    "    filename = file.replace(path, \"\")\n",
    "    print(filename)\n",
    "    hora = int(filename[7:9]) - 3 # GMT - 3\n",
    "    \n",
    "    if hora == -1:\n",
    "        hora = 23\n",
    "    if hora == -2:\n",
    "        hora = 22\n",
    "    if hora == -3:\n",
    "        hora = 21\n",
    "        \n",
    "    # acrescenta coluna de horário    \n",
    "    data['Hora'] = hora\n",
    "    # acrescenta coluna de hash\n",
    "    data['Hash'] = [hash(x, y) for x, y in zip(data['Ambiente'], data['Pod'])]\n",
    "    \n",
    "    # salva arquivo\n",
    "    data.to_csv(f'{path_processados}/memoria_{hora}.csv', index=False)\n",
    "    \n",
    "print('Fim processsamento de Memoria')\n",
    "    # pd.read_csv(file, sep=';', header=None, names=header_list)\n"
   ]
  },
  {
   "cell_type": "code",
   "execution_count": null,
   "metadata": {},
   "outputs": [],
   "source": []
  }
 ],
 "metadata": {
  "kernelspec": {
   "display_name": "Python 3 (ipykernel)",
   "language": "python",
   "name": "python3"
  },
  "language_info": {
   "codemirror_mode": {
    "name": "ipython",
    "version": 3
   },
   "file_extension": ".py",
   "mimetype": "text/x-python",
   "name": "python",
   "nbconvert_exporter": "python",
   "pygments_lexer": "ipython3",
   "version": "3.7.4"
  }
 },
 "nbformat": 4,
 "nbformat_minor": 2
}
