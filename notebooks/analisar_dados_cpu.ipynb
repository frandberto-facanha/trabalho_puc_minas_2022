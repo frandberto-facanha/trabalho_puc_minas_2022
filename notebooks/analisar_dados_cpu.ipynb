{
 "cells": [
  {
   "cell_type": "code",
   "execution_count": 2,
   "metadata": {},
   "outputs": [
    {
     "name": "stdout",
     "output_type": "stream",
     "text": [
      "Requirement already satisfied: pandas in /home/56740050368/Softwares/anaconda3/lib/python3.7/site-packages (0.25.1)\n",
      "Collecting pandas\n",
      "  Downloading pandas-1.3.5-cp37-cp37m-manylinux_2_17_x86_64.manylinux2014_x86_64.whl (11.3 MB)\n",
      "\u001b[2K     \u001b[90m━━━━━━━━━━━━━━━━━━━━━━━━━━━━━━━━━━━━━━━━\u001b[0m \u001b[32m11.3/11.3 MB\u001b[0m \u001b[31m23.1 MB/s\u001b[0m eta \u001b[36m0:00:00\u001b[0m00:01\u001b[0m0:01\u001b[0m\n",
      "\u001b[?25hRequirement already satisfied: numpy>=1.17.3 in /home/56740050368/Softwares/anaconda3/lib/python3.7/site-packages (from pandas) (1.21.6)\n",
      "Requirement already satisfied: pytz>=2017.3 in /home/56740050368/Softwares/anaconda3/lib/python3.7/site-packages (from pandas) (2022.1)\n",
      "Requirement already satisfied: python-dateutil>=2.7.3 in /home/56740050368/Softwares/anaconda3/lib/python3.7/site-packages (from pandas) (2.8.2)\n",
      "Requirement already satisfied: six>=1.5 in /home/56740050368/Softwares/anaconda3/lib/python3.7/site-packages (from python-dateutil>=2.7.3->pandas) (1.16.0)\n",
      "Installing collected packages: pandas\n",
      "  Attempting uninstall: pandas\n",
      "    Found existing installation: pandas 0.25.1\n",
      "    Uninstalling pandas-0.25.1:\n",
      "      Successfully uninstalled pandas-0.25.1\n",
      "\u001b[31mERROR: pip's dependency resolver does not currently take into account all the packages that are installed. This behaviour is the source of the following dependency conflicts.\n",
      "datashader 0.14.1 requires numba>=0.51, but you have numba 0.45.1 which is incompatible.\u001b[0m\u001b[31m\n",
      "\u001b[0mSuccessfully installed pandas-1.3.5\n"
     ]
    }
   ],
   "source": [
    "!pip3 install pandas --upgrade"
   ]
  },
  {
   "cell_type": "code",
   "execution_count": 3,
   "metadata": {},
   "outputs": [],
   "source": [
    "import pandas as pd\n",
    "import numpy as np\n",
    "import hashlib\n",
    "import glob"
   ]
  },
  {
   "cell_type": "code",
   "execution_count": 4,
   "metadata": {},
   "outputs": [
    {
     "name": "stdout",
     "output_type": "stream",
     "text": [
      "1.3.5\n"
     ]
    }
   ],
   "source": [
    "print(pd.__version__)"
   ]
  },
  {
   "cell_type": "code",
   "execution_count": 11,
   "metadata": {},
   "outputs": [],
   "source": [
    "path_processados = './dados/metrics/cpu/processados/'\n",
    "\n",
    "header_list = ['Hash', 'Hora', 'CPU']\n",
    "\n",
    "df_cpu = pd.read_csv(f'{path_processados}consolidado_cpu.csv', skiprows = 1, header=None, names=header_list)"
   ]
  },
  {
   "cell_type": "code",
   "execution_count": 12,
   "metadata": {},
   "outputs": [
    {
     "data": {
      "text/html": [
       "<div>\n",
       "<style scoped>\n",
       "    .dataframe tbody tr th:only-of-type {\n",
       "        vertical-align: middle;\n",
       "    }\n",
       "\n",
       "    .dataframe tbody tr th {\n",
       "        vertical-align: top;\n",
       "    }\n",
       "\n",
       "    .dataframe thead th {\n",
       "        text-align: right;\n",
       "    }\n",
       "</style>\n",
       "<table border=\"1\" class=\"dataframe\">\n",
       "  <thead>\n",
       "    <tr style=\"text-align: right;\">\n",
       "      <th></th>\n",
       "      <th>Hash</th>\n",
       "      <th>Hora</th>\n",
       "      <th>CPU</th>\n",
       "    </tr>\n",
       "  </thead>\n",
       "  <tbody>\n",
       "    <tr>\n",
       "      <th>0</th>\n",
       "      <td>ce4468ee8389709c20b40ed1c09a36c1</td>\n",
       "      <td>1</td>\n",
       "      <td>0.000956</td>\n",
       "    </tr>\n",
       "    <tr>\n",
       "      <th>1</th>\n",
       "      <td>0dcf61756612a9edfc06d254802e4b28</td>\n",
       "      <td>1</td>\n",
       "      <td>0.001107</td>\n",
       "    </tr>\n",
       "    <tr>\n",
       "      <th>2</th>\n",
       "      <td>d1ba4017a8bc09b01bae73e48dba56ea</td>\n",
       "      <td>1</td>\n",
       "      <td>0.000995</td>\n",
       "    </tr>\n",
       "    <tr>\n",
       "      <th>3</th>\n",
       "      <td>19d9963e0460ed384a60ef724eb79ba0</td>\n",
       "      <td>1</td>\n",
       "      <td>0.000964</td>\n",
       "    </tr>\n",
       "    <tr>\n",
       "      <th>4</th>\n",
       "      <td>1e300feefc2f05d7e69bbae4dd0a7bda</td>\n",
       "      <td>1</td>\n",
       "      <td>0.001019</td>\n",
       "    </tr>\n",
       "  </tbody>\n",
       "</table>\n",
       "</div>"
      ],
      "text/plain": [
       "                               Hash  Hora       CPU\n",
       "0  ce4468ee8389709c20b40ed1c09a36c1     1  0.000956\n",
       "1  0dcf61756612a9edfc06d254802e4b28     1  0.001107\n",
       "2  d1ba4017a8bc09b01bae73e48dba56ea     1  0.000995\n",
       "3  19d9963e0460ed384a60ef724eb79ba0     1  0.000964\n",
       "4  1e300feefc2f05d7e69bbae4dd0a7bda     1  0.001019"
      ]
     },
     "execution_count": 12,
     "metadata": {},
     "output_type": "execute_result"
    }
   ],
   "source": [
    "df_cpu.head()"
   ]
  },
  {
   "cell_type": "code",
   "execution_count": 13,
   "metadata": {},
   "outputs": [],
   "source": [
    "# Filtrando uma aplicação\n",
    "hash_app = '22441e2eeb47622b4d98f806457e202e'\n",
    "app1 = df_cpu[df_cpu['Hash']==hash_app].sort_values('Hora')\n",
    "app1 = app1[['Hora', 'CPU']]"
   ]
  },
  {
   "cell_type": "code",
   "execution_count": 14,
   "metadata": {},
   "outputs": [
    {
     "data": {
      "text/plain": [
       "<AxesSubplot:xlabel='Hora'>"
      ]
     },
     "execution_count": 14,
     "metadata": {},
     "output_type": "execute_result"
    },
    {
     "data": {
      "image/png": "[encoded data removed]",
      "text/plain": [
       "<Figure size 640x480 with 1 Axes>"
      ]
     },
     "metadata": {},
     "output_type": "display_data"
    }
   ],
   "source": [
    "app1.plot(x ='Hora', y='CPU', kind = 'line')"
   ]
  },
  {
   "cell_type": "code",
   "execution_count": 15,
   "metadata": {},
   "outputs": [],
   "source": [
    "# Medições de memoria\n",
    "path__memoria_processados = './dados/metrics/memoria/processados/'\n",
    "\n",
    "header_list = ['Hash', 'Hora', 'Memoria']\n",
    "\n",
    "df_memoria = pd.read_csv(f'{path__memoria_processados}consolidado_memoria.csv', skiprows = 1, header=None, names=header_list)"
   ]
  },
  {
   "cell_type": "code",
   "execution_count": 16,
   "metadata": {},
   "outputs": [
    {
     "data": {
      "text/html": [
       "<div>\n",
       "<style scoped>\n",
       "    .dataframe tbody tr th:only-of-type {\n",
       "        vertical-align: middle;\n",
       "    }\n",
       "\n",
       "    .dataframe tbody tr th {\n",
       "        vertical-align: top;\n",
       "    }\n",
       "\n",
       "    .dataframe thead th {\n",
       "        text-align: right;\n",
       "    }\n",
       "</style>\n",
       "<table border=\"1\" class=\"dataframe\">\n",
       "  <thead>\n",
       "    <tr style=\"text-align: right;\">\n",
       "      <th></th>\n",
       "      <th>Hora</th>\n",
       "      <th>Memoria</th>\n",
       "    </tr>\n",
       "  </thead>\n",
       "  <tbody>\n",
       "    <tr>\n",
       "      <th>193984</th>\n",
       "      <td>0</td>\n",
       "      <td>86949888</td>\n",
       "    </tr>\n",
       "    <tr>\n",
       "      <th>234777</th>\n",
       "      <td>1</td>\n",
       "      <td>87982080</td>\n",
       "    </tr>\n",
       "    <tr>\n",
       "      <th>30615</th>\n",
       "      <td>2</td>\n",
       "      <td>87695360</td>\n",
       "    </tr>\n",
       "    <tr>\n",
       "      <th>20424</th>\n",
       "      <td>3</td>\n",
       "      <td>87130112</td>\n",
       "    </tr>\n",
       "    <tr>\n",
       "      <th>10230</th>\n",
       "      <td>4</td>\n",
       "      <td>87838720</td>\n",
       "    </tr>\n",
       "    <tr>\n",
       "      <th>142969</th>\n",
       "      <td>5</td>\n",
       "      <td>88084480</td>\n",
       "    </tr>\n",
       "    <tr>\n",
       "      <th>112340</th>\n",
       "      <td>6</td>\n",
       "      <td>88285184</td>\n",
       "    </tr>\n",
       "    <tr>\n",
       "      <th>132785</th>\n",
       "      <td>7</td>\n",
       "      <td>88436736</td>\n",
       "    </tr>\n",
       "    <tr>\n",
       "      <th>61239</th>\n",
       "      <td>8</td>\n",
       "      <td>88293376</td>\n",
       "    </tr>\n",
       "    <tr>\n",
       "      <th>10</th>\n",
       "      <td>9</td>\n",
       "      <td>91459584</td>\n",
       "    </tr>\n",
       "    <tr>\n",
       "      <th>224559</th>\n",
       "      <td>10</td>\n",
       "      <td>85504000</td>\n",
       "    </tr>\n",
       "    <tr>\n",
       "      <th>183758</th>\n",
       "      <td>11</td>\n",
       "      <td>86810624</td>\n",
       "    </tr>\n",
       "    <tr>\n",
       "      <th>71438</th>\n",
       "      <td>12</td>\n",
       "      <td>86200320</td>\n",
       "    </tr>\n",
       "    <tr>\n",
       "      <th>102127</th>\n",
       "      <td>13</td>\n",
       "      <td>85716992</td>\n",
       "    </tr>\n",
       "    <tr>\n",
       "      <th>81673</th>\n",
       "      <td>14</td>\n",
       "      <td>85643264</td>\n",
       "    </tr>\n",
       "    <tr>\n",
       "      <th>91902</th>\n",
       "      <td>15</td>\n",
       "      <td>85409792</td>\n",
       "    </tr>\n",
       "    <tr>\n",
       "      <th>122527</th>\n",
       "      <td>16</td>\n",
       "      <td>84930560</td>\n",
       "    </tr>\n",
       "    <tr>\n",
       "      <th>51004</th>\n",
       "      <td>17</td>\n",
       "      <td>86188032</td>\n",
       "    </tr>\n",
       "    <tr>\n",
       "      <th>173517</th>\n",
       "      <td>18</td>\n",
       "      <td>85708800</td>\n",
       "    </tr>\n",
       "    <tr>\n",
       "      <th>204162</th>\n",
       "      <td>19</td>\n",
       "      <td>86425600</td>\n",
       "    </tr>\n",
       "    <tr>\n",
       "      <th>40802</th>\n",
       "      <td>20</td>\n",
       "      <td>86368256</td>\n",
       "    </tr>\n",
       "    <tr>\n",
       "      <th>153153</th>\n",
       "      <td>21</td>\n",
       "      <td>86573056</td>\n",
       "    </tr>\n",
       "    <tr>\n",
       "      <th>214375</th>\n",
       "      <td>22</td>\n",
       "      <td>85078016</td>\n",
       "    </tr>\n",
       "    <tr>\n",
       "      <th>163336</th>\n",
       "      <td>23</td>\n",
       "      <td>86552576</td>\n",
       "    </tr>\n",
       "  </tbody>\n",
       "</table>\n",
       "</div>"
      ],
      "text/plain": [
       "        Hora   Memoria\n",
       "193984     0  86949888\n",
       "234777     1  87982080\n",
       "30615      2  87695360\n",
       "20424      3  87130112\n",
       "10230      4  87838720\n",
       "142969     5  88084480\n",
       "112340     6  88285184\n",
       "132785     7  88436736\n",
       "61239      8  88293376\n",
       "10         9  91459584\n",
       "224559    10  85504000\n",
       "183758    11  86810624\n",
       "71438     12  86200320\n",
       "102127    13  85716992\n",
       "81673     14  85643264\n",
       "91902     15  85409792\n",
       "122527    16  84930560\n",
       "51004     17  86188032\n",
       "173517    18  85708800\n",
       "204162    19  86425600\n",
       "40802     20  86368256\n",
       "153153    21  86573056\n",
       "214375    22  85078016\n",
       "163336    23  86552576"
      ]
     },
     "execution_count": 16,
     "metadata": {},
     "output_type": "execute_result"
    }
   ],
   "source": [
    "# Filtrando uma aplicação\n",
    "app1_mm = df_memoria[df_memoria['Hash']==hash_app].sort_values('Hora')\n",
    "app1_mm = app1_mm[['Hora', 'Memoria']]\n",
    "app1_mm"
   ]
  },
  {
   "cell_type": "code",
   "execution_count": 17,
   "metadata": {},
   "outputs": [
    {
     "data": {
      "text/plain": [
       "<AxesSubplot:xlabel='Hora'>"
      ]
     },
     "execution_count": 17,
     "metadata": {},
     "output_type": "execute_result"
    },
    {
     "data": {
      "image/png": "[encoded data removed]",
      "text/plain": [
       "<Figure size 640x480 with 1 Axes>"
      ]
     },
     "metadata": {},
     "output_type": "display_data"
    }
   ],
   "source": [
    "app1_mm.plot(x ='Hora', y='Memoria', kind = 'line')"
   ]
  },
  {
   "cell_type": "code",
   "execution_count": null,
   "metadata": {},
   "outputs": [],
   "source": []
  },
  {
   "cell_type": "code",
   "execution_count": null,
   "metadata": {},
   "outputs": [],
   "source": []
  }
 ],
 "metadata": {
  "kernelspec": {
   "display_name": "Python 3",
   "language": "python",
   "name": "python3"
  },
  "language_info": {
   "codemirror_mode": {
    "name": "ipython",
    "version": 3
   },
   "file_extension": ".py",
   "mimetype": "text/x-python",
   "name": "python",
   "nbconvert_exporter": "python",
   "pygments_lexer": "ipython3",
   "version": "3.7.4"
  }
 },
 "nbformat": 4,
 "nbformat_minor": 2
}
