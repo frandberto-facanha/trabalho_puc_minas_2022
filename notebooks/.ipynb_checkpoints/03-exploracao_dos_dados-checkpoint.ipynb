{
 "cells": [
  {
   "cell_type": "markdown",
   "metadata": {},
   "source": [
    "## Exploração de dados consolidados das métricas\n",
    "\n",
    "O objetivo desse notebook é explorar o comportamento das métricas coletadas de cpu e memória de uma aplicação típica"
   ]
  },
  {
   "cell_type": "code",
   "execution_count": 1,
   "metadata": {},
   "outputs": [],
   "source": [
    "import pandas as pd\n",
    "import numpy as np\n",
    "import hashlib\n",
    "import glob"
   ]
  },
  {
   "cell_type": "code",
   "execution_count": 2,
   "metadata": {},
   "outputs": [
    {
     "data": {
      "text/html": [
       "<div>\n",
       "<style scoped>\n",
       "    .dataframe tbody tr th:only-of-type {\n",
       "        vertical-align: middle;\n",
       "    }\n",
       "\n",
       "    .dataframe tbody tr th {\n",
       "        vertical-align: top;\n",
       "    }\n",
       "\n",
       "    .dataframe thead th {\n",
       "        text-align: right;\n",
       "    }\n",
       "</style>\n",
       "<table border=\"1\" class=\"dataframe\">\n",
       "  <thead>\n",
       "    <tr style=\"text-align: right;\">\n",
       "      <th></th>\n",
       "      <th>hash</th>\n",
       "      <th>hora</th>\n",
       "      <th>minuto</th>\n",
       "      <th>consumo_cpu</th>\n",
       "    </tr>\n",
       "  </thead>\n",
       "  <tbody>\n",
       "    <tr>\n",
       "      <th>6</th>\n",
       "      <td>6ea197bec278345eb050a1c3afd023b2</td>\n",
       "      <td>0</td>\n",
       "      <td>15</td>\n",
       "      <td>0.005029</td>\n",
       "    </tr>\n",
       "    <tr>\n",
       "      <th>7</th>\n",
       "      <td>e718d2154c7f59c5526938d772d6193a</td>\n",
       "      <td>0</td>\n",
       "      <td>15</td>\n",
       "      <td>0.006504</td>\n",
       "    </tr>\n",
       "    <tr>\n",
       "      <th>8</th>\n",
       "      <td>62eaefb7f62ea7efcae0032d167dd9b4</td>\n",
       "      <td>0</td>\n",
       "      <td>15</td>\n",
       "      <td>0.004874</td>\n",
       "    </tr>\n",
       "    <tr>\n",
       "      <th>9</th>\n",
       "      <td>e4bb80ff171229f80352e22ad8850418</td>\n",
       "      <td>0</td>\n",
       "      <td>15</td>\n",
       "      <td>0.004592</td>\n",
       "    </tr>\n",
       "    <tr>\n",
       "      <th>10</th>\n",
       "      <td>a32693a31404181acb1a5caec23950a4</td>\n",
       "      <td>0</td>\n",
       "      <td>15</td>\n",
       "      <td>0.004757</td>\n",
       "    </tr>\n",
       "  </tbody>\n",
       "</table>\n",
       "</div>"
      ],
      "text/plain": [
       "                                hash  hora  minuto  consumo_cpu\n",
       "6   6ea197bec278345eb050a1c3afd023b2     0      15     0.005029\n",
       "7   e718d2154c7f59c5526938d772d6193a     0      15     0.006504\n",
       "8   62eaefb7f62ea7efcae0032d167dd9b4     0      15     0.004874\n",
       "9   e4bb80ff171229f80352e22ad8850418     0      15     0.004592\n",
       "10  a32693a31404181acb1a5caec23950a4     0      15     0.004757"
      ]
     },
     "execution_count": 2,
     "metadata": {},
     "output_type": "execute_result"
    }
   ],
   "source": [
    "path_projeto = '/home/56740050368/Treinamento/IA-PUC_Minas/Trabalho_Cientifico'\n",
    "path_processados = '/dados/metrics/cpu/processados/'\n",
    "\n",
    "header_list = ['hash', 'hora', 'minuto', 'consumo_cpu']\n",
    "\n",
    "df_cpu = pd.read_csv(f'{path_projeto}{path_processados}consolidado_cpu.csv', skiprows = 1, header=None, names=header_list)\n",
    "\n",
    "df_cpu = df_cpu[df_cpu['consumo_cpu'] > 0.001]\n",
    "\n",
    "df_cpu.head()"
   ]
  },
  {
   "cell_type": "markdown",
   "metadata": {},
   "source": [
    "## Comportamento de uma aplicação típica"
   ]
  },
  {
   "cell_type": "code",
   "execution_count": 3,
   "metadata": {},
   "outputs": [
    {
     "data": {
      "text/html": [
       "<div>\n",
       "<style scoped>\n",
       "    .dataframe tbody tr th:only-of-type {\n",
       "        vertical-align: middle;\n",
       "    }\n",
       "\n",
       "    .dataframe tbody tr th {\n",
       "        vertical-align: top;\n",
       "    }\n",
       "\n",
       "    .dataframe thead th {\n",
       "        text-align: right;\n",
       "    }\n",
       "</style>\n",
       "<table border=\"1\" class=\"dataframe\">\n",
       "  <thead>\n",
       "    <tr style=\"text-align: right;\">\n",
       "      <th></th>\n",
       "      <th>hash</th>\n",
       "      <th>hora</th>\n",
       "      <th>minuto</th>\n",
       "      <th>consumo_cpu</th>\n",
       "    </tr>\n",
       "  </thead>\n",
       "  <tbody>\n",
       "    <tr>\n",
       "      <th>662144</th>\n",
       "      <td>e718d2154c7f59c5526938d772d6193a</td>\n",
       "      <td>0</td>\n",
       "      <td>0</td>\n",
       "      <td>0.007895</td>\n",
       "    </tr>\n",
       "    <tr>\n",
       "      <th>7</th>\n",
       "      <td>e718d2154c7f59c5526938d772d6193a</td>\n",
       "      <td>0</td>\n",
       "      <td>15</td>\n",
       "      <td>0.006504</td>\n",
       "    </tr>\n",
       "    <tr>\n",
       "      <th>1080612</th>\n",
       "      <td>e718d2154c7f59c5526938d772d6193a</td>\n",
       "      <td>0</td>\n",
       "      <td>30</td>\n",
       "      <td>0.007717</td>\n",
       "    </tr>\n",
       "    <tr>\n",
       "      <th>522836</th>\n",
       "      <td>e718d2154c7f59c5526938d772d6193a</td>\n",
       "      <td>0</td>\n",
       "      <td>45</td>\n",
       "      <td>0.006620</td>\n",
       "    </tr>\n",
       "    <tr>\n",
       "      <th>313754</th>\n",
       "      <td>e718d2154c7f59c5526938d772d6193a</td>\n",
       "      <td>1</td>\n",
       "      <td>0</td>\n",
       "      <td>0.007449</td>\n",
       "    </tr>\n",
       "    <tr>\n",
       "      <th>...</th>\n",
       "      <td>...</td>\n",
       "      <td>...</td>\n",
       "      <td>...</td>\n",
       "      <td>...</td>\n",
       "    </tr>\n",
       "    <tr>\n",
       "      <th>1022487</th>\n",
       "      <td>e718d2154c7f59c5526938d772d6193a</td>\n",
       "      <td>22</td>\n",
       "      <td>45</td>\n",
       "      <td>0.007966</td>\n",
       "    </tr>\n",
       "    <tr>\n",
       "      <th>151017</th>\n",
       "      <td>e718d2154c7f59c5526938d772d6193a</td>\n",
       "      <td>23</td>\n",
       "      <td>0</td>\n",
       "      <td>0.007385</td>\n",
       "    </tr>\n",
       "    <tr>\n",
       "      <th>987607</th>\n",
       "      <td>e718d2154c7f59c5526938d772d6193a</td>\n",
       "      <td>23</td>\n",
       "      <td>15</td>\n",
       "      <td>0.007676</td>\n",
       "    </tr>\n",
       "    <tr>\n",
       "      <th>615674</th>\n",
       "      <td>e718d2154c7f59c5526938d772d6193a</td>\n",
       "      <td>23</td>\n",
       "      <td>30</td>\n",
       "      <td>0.007572</td>\n",
       "    </tr>\n",
       "    <tr>\n",
       "      <th>580812</th>\n",
       "      <td>e718d2154c7f59c5526938d772d6193a</td>\n",
       "      <td>23</td>\n",
       "      <td>45</td>\n",
       "      <td>0.007525</td>\n",
       "    </tr>\n",
       "  </tbody>\n",
       "</table>\n",
       "<p>96 rows × 4 columns</p>\n",
       "</div>"
      ],
      "text/plain": [
       "                                     hash  hora  minuto  consumo_cpu\n",
       "662144   e718d2154c7f59c5526938d772d6193a     0       0     0.007895\n",
       "7        e718d2154c7f59c5526938d772d6193a     0      15     0.006504\n",
       "1080612  e718d2154c7f59c5526938d772d6193a     0      30     0.007717\n",
       "522836   e718d2154c7f59c5526938d772d6193a     0      45     0.006620\n",
       "313754   e718d2154c7f59c5526938d772d6193a     1       0     0.007449\n",
       "...                                   ...   ...     ...          ...\n",
       "1022487  e718d2154c7f59c5526938d772d6193a    22      45     0.007966\n",
       "151017   e718d2154c7f59c5526938d772d6193a    23       0     0.007385\n",
       "987607   e718d2154c7f59c5526938d772d6193a    23      15     0.007676\n",
       "615674   e718d2154c7f59c5526938d772d6193a    23      30     0.007572\n",
       "580812   e718d2154c7f59c5526938d772d6193a    23      45     0.007525\n",
       "\n",
       "[96 rows x 4 columns]"
      ]
     },
     "execution_count": 3,
     "metadata": {},
     "output_type": "execute_result"
    }
   ],
   "source": [
    "# Filtrando uma aplicação típica\n",
    "hash_app = 'e718d2154c7f59c5526938d772d6193a'\n",
    "app1 = df_cpu[df_cpu['hash']==hash_app].sort_values(['hora','minuto'])\n",
    "app1"
   ]
  },
  {
   "cell_type": "code",
   "execution_count": 4,
   "metadata": {},
   "outputs": [
    {
     "data": {
      "text/html": [
       "<div>\n",
       "<style scoped>\n",
       "    .dataframe tbody tr th:only-of-type {\n",
       "        vertical-align: middle;\n",
       "    }\n",
       "\n",
       "    .dataframe tbody tr th {\n",
       "        vertical-align: top;\n",
       "    }\n",
       "\n",
       "    .dataframe thead th {\n",
       "        text-align: right;\n",
       "    }\n",
       "</style>\n",
       "<table border=\"1\" class=\"dataframe\">\n",
       "  <thead>\n",
       "    <tr style=\"text-align: right;\">\n",
       "      <th></th>\n",
       "      <th>hash</th>\n",
       "      <th>hora</th>\n",
       "      <th>minuto</th>\n",
       "      <th>consumo_cpu</th>\n",
       "      <th>minutos</th>\n",
       "    </tr>\n",
       "  </thead>\n",
       "  <tbody>\n",
       "    <tr>\n",
       "      <th>662144</th>\n",
       "      <td>e718d2154c7f59c5526938d772d6193a</td>\n",
       "      <td>0</td>\n",
       "      <td>0</td>\n",
       "      <td>0.007895</td>\n",
       "      <td>0</td>\n",
       "    </tr>\n",
       "    <tr>\n",
       "      <th>7</th>\n",
       "      <td>e718d2154c7f59c5526938d772d6193a</td>\n",
       "      <td>0</td>\n",
       "      <td>15</td>\n",
       "      <td>0.006504</td>\n",
       "      <td>15</td>\n",
       "    </tr>\n",
       "    <tr>\n",
       "      <th>1080612</th>\n",
       "      <td>e718d2154c7f59c5526938d772d6193a</td>\n",
       "      <td>0</td>\n",
       "      <td>30</td>\n",
       "      <td>0.007717</td>\n",
       "      <td>30</td>\n",
       "    </tr>\n",
       "    <tr>\n",
       "      <th>522836</th>\n",
       "      <td>e718d2154c7f59c5526938d772d6193a</td>\n",
       "      <td>0</td>\n",
       "      <td>45</td>\n",
       "      <td>0.006620</td>\n",
       "      <td>45</td>\n",
       "    </tr>\n",
       "    <tr>\n",
       "      <th>313754</th>\n",
       "      <td>e718d2154c7f59c5526938d772d6193a</td>\n",
       "      <td>1</td>\n",
       "      <td>0</td>\n",
       "      <td>0.007449</td>\n",
       "      <td>60</td>\n",
       "    </tr>\n",
       "    <tr>\n",
       "      <th>...</th>\n",
       "      <td>...</td>\n",
       "      <td>...</td>\n",
       "      <td>...</td>\n",
       "      <td>...</td>\n",
       "      <td>...</td>\n",
       "    </tr>\n",
       "    <tr>\n",
       "      <th>1022487</th>\n",
       "      <td>e718d2154c7f59c5526938d772d6193a</td>\n",
       "      <td>22</td>\n",
       "      <td>45</td>\n",
       "      <td>0.007966</td>\n",
       "      <td>1365</td>\n",
       "    </tr>\n",
       "    <tr>\n",
       "      <th>151017</th>\n",
       "      <td>e718d2154c7f59c5526938d772d6193a</td>\n",
       "      <td>23</td>\n",
       "      <td>0</td>\n",
       "      <td>0.007385</td>\n",
       "      <td>1380</td>\n",
       "    </tr>\n",
       "    <tr>\n",
       "      <th>987607</th>\n",
       "      <td>e718d2154c7f59c5526938d772d6193a</td>\n",
       "      <td>23</td>\n",
       "      <td>15</td>\n",
       "      <td>0.007676</td>\n",
       "      <td>1395</td>\n",
       "    </tr>\n",
       "    <tr>\n",
       "      <th>615674</th>\n",
       "      <td>e718d2154c7f59c5526938d772d6193a</td>\n",
       "      <td>23</td>\n",
       "      <td>30</td>\n",
       "      <td>0.007572</td>\n",
       "      <td>1410</td>\n",
       "    </tr>\n",
       "    <tr>\n",
       "      <th>580812</th>\n",
       "      <td>e718d2154c7f59c5526938d772d6193a</td>\n",
       "      <td>23</td>\n",
       "      <td>45</td>\n",
       "      <td>0.007525</td>\n",
       "      <td>1425</td>\n",
       "    </tr>\n",
       "  </tbody>\n",
       "</table>\n",
       "<p>96 rows × 5 columns</p>\n",
       "</div>"
      ],
      "text/plain": [
       "                                     hash  hora  minuto  consumo_cpu  minutos\n",
       "662144   e718d2154c7f59c5526938d772d6193a     0       0     0.007895        0\n",
       "7        e718d2154c7f59c5526938d772d6193a     0      15     0.006504       15\n",
       "1080612  e718d2154c7f59c5526938d772d6193a     0      30     0.007717       30\n",
       "522836   e718d2154c7f59c5526938d772d6193a     0      45     0.006620       45\n",
       "313754   e718d2154c7f59c5526938d772d6193a     1       0     0.007449       60\n",
       "...                                   ...   ...     ...          ...      ...\n",
       "1022487  e718d2154c7f59c5526938d772d6193a    22      45     0.007966     1365\n",
       "151017   e718d2154c7f59c5526938d772d6193a    23       0     0.007385     1380\n",
       "987607   e718d2154c7f59c5526938d772d6193a    23      15     0.007676     1395\n",
       "615674   e718d2154c7f59c5526938d772d6193a    23      30     0.007572     1410\n",
       "580812   e718d2154c7f59c5526938d772d6193a    23      45     0.007525     1425\n",
       "\n",
       "[96 rows x 5 columns]"
      ]
     },
     "execution_count": 4,
     "metadata": {},
     "output_type": "execute_result"
    }
   ],
   "source": [
    "# app1.plot(x ='Hora', y='CPU', kind = 'line')\n",
    "# Calculo dos minutos\n",
    "app1['minutos'] = app1['hora'] * 60 + app1['minuto']\n",
    "app1"
   ]
  },
  {
   "cell_type": "code",
   "execution_count": 5,
   "metadata": {},
   "outputs": [
    {
     "name": "stderr",
     "output_type": "stream",
     "text": [
      "/tmp/ipykernel_21704/1801243153.py:5: SettingWithCopyWarning: \n",
      "A value is trying to be set on a copy of a slice from a DataFrame.\n",
      "Try using .loc[row_indexer,col_indexer] = value instead\n",
      "\n",
      "See the caveats in the documentation: https://pandas.pydata.org/pandas-docs/stable/user_guide/indexing.html#returning-a-view-versus-a-copy\n",
      "  app_selected['consumo_cpu'] = app_selected['consumo_cpu'].apply(lambda x: x * 1000)\n"
     ]
    }
   ],
   "source": [
    "# Selecão das colunas\n",
    "app_selected = app1[['minutos', 'consumo_cpu']]\n",
    "\n",
    "# Transforma o consumo de cpu em mCPU (*1000)\n",
    "app_selected['consumo_cpu'] = app_selected['consumo_cpu'].apply(lambda x: x * 1000)\n"
   ]
  },
  {
   "cell_type": "code",
   "execution_count": 6,
   "metadata": {},
   "outputs": [
    {
     "data": {
      "text/plain": [
       "<AxesSubplot:xlabel='minutos', ylabel='mCPU'>"
      ]
     },
     "execution_count": 6,
     "metadata": {},
     "output_type": "execute_result"
    },
    {
     "data": {
      "image/png": "[encoded data removed]",
      "text/plain": [
       "<Figure size 432x288 with 1 Axes>"
      ]
     },
     "metadata": {
      "needs_background": "light"
     },
     "output_type": "display_data"
    }
   ],
   "source": [
    "app_selected.plot(x ='minutos', y='consumo_cpu', kind = 'line', ylabel='mCPU')"
   ]
  },
  {
   "cell_type": "code",
   "execution_count": 7,
   "metadata": {},
   "outputs": [
    {
     "data": {
      "text/html": [
       "<div>\n",
       "<style scoped>\n",
       "    .dataframe tbody tr th:only-of-type {\n",
       "        vertical-align: middle;\n",
       "    }\n",
       "\n",
       "    .dataframe tbody tr th {\n",
       "        vertical-align: top;\n",
       "    }\n",
       "\n",
       "    .dataframe thead th {\n",
       "        text-align: right;\n",
       "    }\n",
       "</style>\n",
       "<table border=\"1\" class=\"dataframe\">\n",
       "  <thead>\n",
       "    <tr style=\"text-align: right;\">\n",
       "      <th></th>\n",
       "      <th>hash</th>\n",
       "      <th>hora</th>\n",
       "      <th>minuto</th>\n",
       "      <th>consumo_memoria</th>\n",
       "    </tr>\n",
       "  </thead>\n",
       "  <tbody>\n",
       "    <tr>\n",
       "      <th>0</th>\n",
       "      <td>ce4468ee8389709c20b40ed1c09a36c1</td>\n",
       "      <td>7</td>\n",
       "      <td>30</td>\n",
       "      <td>1706799104</td>\n",
       "    </tr>\n",
       "    <tr>\n",
       "      <th>1</th>\n",
       "      <td>0dcf61756612a9edfc06d254802e4b28</td>\n",
       "      <td>7</td>\n",
       "      <td>30</td>\n",
       "      <td>1880600576</td>\n",
       "    </tr>\n",
       "    <tr>\n",
       "      <th>2</th>\n",
       "      <td>19d9963e0460ed384a60ef724eb79ba0</td>\n",
       "      <td>7</td>\n",
       "      <td>30</td>\n",
       "      <td>1742057472</td>\n",
       "    </tr>\n",
       "    <tr>\n",
       "      <th>3</th>\n",
       "      <td>71fda736ff39dfe174e01df9d489ee11</td>\n",
       "      <td>7</td>\n",
       "      <td>30</td>\n",
       "      <td>972967936</td>\n",
       "    </tr>\n",
       "    <tr>\n",
       "      <th>4</th>\n",
       "      <td>1e300feefc2f05d7e69bbae4dd0a7bda</td>\n",
       "      <td>7</td>\n",
       "      <td>30</td>\n",
       "      <td>2030047232</td>\n",
       "    </tr>\n",
       "    <tr>\n",
       "      <th>...</th>\n",
       "      <td>...</td>\n",
       "      <td>...</td>\n",
       "      <td>...</td>\n",
       "      <td>...</td>\n",
       "    </tr>\n",
       "    <tr>\n",
       "      <th>1120603</th>\n",
       "      <td>549e6de29086031460e6dc2b5b5a23b2</td>\n",
       "      <td>0</td>\n",
       "      <td>30</td>\n",
       "      <td>321482752</td>\n",
       "    </tr>\n",
       "    <tr>\n",
       "      <th>1120604</th>\n",
       "      <td>923e73720e11ced1e0278319563d4002</td>\n",
       "      <td>0</td>\n",
       "      <td>30</td>\n",
       "      <td>319995904</td>\n",
       "    </tr>\n",
       "    <tr>\n",
       "      <th>1120605</th>\n",
       "      <td>3d72b13248e9c2655339a30d6cac122c</td>\n",
       "      <td>0</td>\n",
       "      <td>30</td>\n",
       "      <td>296550400</td>\n",
       "    </tr>\n",
       "    <tr>\n",
       "      <th>1120606</th>\n",
       "      <td>71616988da26ec9cb9d4c031498c9379</td>\n",
       "      <td>0</td>\n",
       "      <td>30</td>\n",
       "      <td>266776576</td>\n",
       "    </tr>\n",
       "    <tr>\n",
       "      <th>1120607</th>\n",
       "      <td>876355bc466f7be19a7d9bfdb85b4d4e</td>\n",
       "      <td>0</td>\n",
       "      <td>30</td>\n",
       "      <td>300064768</td>\n",
       "    </tr>\n",
       "  </tbody>\n",
       "</table>\n",
       "<p>1120608 rows × 4 columns</p>\n",
       "</div>"
      ],
      "text/plain": [
       "                                     hash  hora  minuto  consumo_memoria\n",
       "0        ce4468ee8389709c20b40ed1c09a36c1     7      30       1706799104\n",
       "1        0dcf61756612a9edfc06d254802e4b28     7      30       1880600576\n",
       "2        19d9963e0460ed384a60ef724eb79ba0     7      30       1742057472\n",
       "3        71fda736ff39dfe174e01df9d489ee11     7      30        972967936\n",
       "4        1e300feefc2f05d7e69bbae4dd0a7bda     7      30       2030047232\n",
       "...                                   ...   ...     ...              ...\n",
       "1120603  549e6de29086031460e6dc2b5b5a23b2     0      30        321482752\n",
       "1120604  923e73720e11ced1e0278319563d4002     0      30        319995904\n",
       "1120605  3d72b13248e9c2655339a30d6cac122c     0      30        296550400\n",
       "1120606  71616988da26ec9cb9d4c031498c9379     0      30        266776576\n",
       "1120607  876355bc466f7be19a7d9bfdb85b4d4e     0      30        300064768\n",
       "\n",
       "[1120608 rows x 4 columns]"
      ]
     },
     "execution_count": 7,
     "metadata": {},
     "output_type": "execute_result"
    }
   ],
   "source": [
    "# Medições de memoria\n",
    "path_memoria_processados = '/dados/metrics/memoria/processados/'\n",
    "\n",
    "header_list = ['hash', 'hora', 'minuto', 'consumo_memoria']\n",
    "\n",
    "df_memoria = pd.read_csv(f'{path_projeto}{path_memoria_processados}consolidado_memoria.csv', skiprows = 1, header=None, names=header_list)\n",
    "\n",
    "df_memoria"
   ]
  },
  {
   "cell_type": "code",
   "execution_count": 8,
   "metadata": {},
   "outputs": [
    {
     "data": {
      "text/html": [
       "<div>\n",
       "<style scoped>\n",
       "    .dataframe tbody tr th:only-of-type {\n",
       "        vertical-align: middle;\n",
       "    }\n",
       "\n",
       "    .dataframe tbody tr th {\n",
       "        vertical-align: top;\n",
       "    }\n",
       "\n",
       "    .dataframe thead th {\n",
       "        text-align: right;\n",
       "    }\n",
       "</style>\n",
       "<table border=\"1\" class=\"dataframe\">\n",
       "  <thead>\n",
       "    <tr style=\"text-align: right;\">\n",
       "      <th></th>\n",
       "      <th>minutos</th>\n",
       "      <th>consumo_memoria</th>\n",
       "    </tr>\n",
       "  </thead>\n",
       "  <tbody>\n",
       "    <tr>\n",
       "      <th>607157</th>\n",
       "      <td>0</td>\n",
       "      <td>60.375000</td>\n",
       "    </tr>\n",
       "    <tr>\n",
       "      <th>467056</th>\n",
       "      <td>15</td>\n",
       "      <td>60.347656</td>\n",
       "    </tr>\n",
       "    <tr>\n",
       "      <th>1108980</th>\n",
       "      <td>30</td>\n",
       "      <td>60.566406</td>\n",
       "    </tr>\n",
       "    <tr>\n",
       "      <th>572132</th>\n",
       "      <td>45</td>\n",
       "      <td>59.746094</td>\n",
       "    </tr>\n",
       "    <tr>\n",
       "      <th>875619</th>\n",
       "      <td>60</td>\n",
       "      <td>58.878906</td>\n",
       "    </tr>\n",
       "    <tr>\n",
       "      <th>...</th>\n",
       "      <td>...</td>\n",
       "      <td>...</td>\n",
       "    </tr>\n",
       "    <tr>\n",
       "      <th>291763</th>\n",
       "      <td>1365</td>\n",
       "      <td>58.972656</td>\n",
       "    </tr>\n",
       "    <tr>\n",
       "      <th>513661</th>\n",
       "      <td>1380</td>\n",
       "      <td>58.417969</td>\n",
       "    </tr>\n",
       "    <tr>\n",
       "      <th>992247</th>\n",
       "      <td>1395</td>\n",
       "      <td>58.742188</td>\n",
       "    </tr>\n",
       "    <tr>\n",
       "      <th>1085669</th>\n",
       "      <td>1410</td>\n",
       "      <td>58.101562</td>\n",
       "    </tr>\n",
       "    <tr>\n",
       "      <th>373476</th>\n",
       "      <td>1425</td>\n",
       "      <td>58.742188</td>\n",
       "    </tr>\n",
       "  </tbody>\n",
       "</table>\n",
       "<p>96 rows × 2 columns</p>\n",
       "</div>"
      ],
      "text/plain": [
       "         minutos  consumo_memoria\n",
       "607157         0        60.375000\n",
       "467056        15        60.347656\n",
       "1108980       30        60.566406\n",
       "572132        45        59.746094\n",
       "875619        60        58.878906\n",
       "...          ...              ...\n",
       "291763      1365        58.972656\n",
       "513661      1380        58.417969\n",
       "992247      1395        58.742188\n",
       "1085669     1410        58.101562\n",
       "373476      1425        58.742188\n",
       "\n",
       "[96 rows x 2 columns]"
      ]
     },
     "execution_count": 8,
     "metadata": {},
     "output_type": "execute_result"
    }
   ],
   "source": [
    "# Filtrando uma aplicação\n",
    "df_memoria['minutos'] = df_memoria['hora'] * 60 + df_memoria['minuto']\n",
    "app1_mm = df_memoria[df_memoria['hash']==hash_app].sort_values('hora')\n",
    "app1_mm = app1_mm[['minutos', 'consumo_memoria']]\n",
    "\n",
    "# Converte tamanho de memória de bytes para MB\n",
    "app1_mm['consumo_memoria'] = app1_mm['consumo_memoria'] / (1024 * 1024)\n",
    "app1_mm = app1_mm.sort_values(by=['minutos'])\n",
    "app1_mm"
   ]
  },
  {
   "cell_type": "code",
   "execution_count": 9,
   "metadata": {},
   "outputs": [
    {
     "data": {
      "text/plain": [
       "<AxesSubplot:xlabel='minutos', ylabel='MB'>"
      ]
     },
     "execution_count": 9,
     "metadata": {},
     "output_type": "execute_result"
    },
    {
     "data": {
      "image/png": "[encoded data removed]",
      "text/plain": [
       "<Figure size 432x288 with 1 Axes>"
      ]
     },
     "metadata": {
      "needs_background": "light"
     },
     "output_type": "display_data"
    }
   ],
   "source": [
    "app1_mm.plot(x ='minutos', y='consumo_memoria', kind = 'line', ylabel='MB')"
   ]
  },
  {
   "cell_type": "markdown",
   "metadata": {},
   "source": [
    "## Comportamento de um JOB"
   ]
  },
  {
   "cell_type": "code",
   "execution_count": 10,
   "metadata": {},
   "outputs": [
    {
     "data": {
      "text/html": [
       "<div>\n",
       "<style scoped>\n",
       "    .dataframe tbody tr th:only-of-type {\n",
       "        vertical-align: middle;\n",
       "    }\n",
       "\n",
       "    .dataframe tbody tr th {\n",
       "        vertical-align: top;\n",
       "    }\n",
       "\n",
       "    .dataframe thead th {\n",
       "        text-align: right;\n",
       "    }\n",
       "</style>\n",
       "<table border=\"1\" class=\"dataframe\">\n",
       "  <thead>\n",
       "    <tr style=\"text-align: right;\">\n",
       "      <th></th>\n",
       "      <th>hash</th>\n",
       "      <th>hora</th>\n",
       "      <th>minuto</th>\n",
       "      <th>consumo_cpu</th>\n",
       "    </tr>\n",
       "  </thead>\n",
       "  <tbody>\n",
       "    <tr>\n",
       "      <th>294818</th>\n",
       "      <td>d7278d4c1bac8c01dc52358de78dcb5f</td>\n",
       "      <td>10</td>\n",
       "      <td>0</td>\n",
       "      <td>0.259645</td>\n",
       "    </tr>\n",
       "  </tbody>\n",
       "</table>\n",
       "</div>"
      ],
      "text/plain": [
       "                                    hash  hora  minuto  consumo_cpu\n",
       "294818  d7278d4c1bac8c01dc52358de78dcb5f    10       0     0.259645"
      ]
     },
     "execution_count": 10,
     "metadata": {},
     "output_type": "execute_result"
    }
   ],
   "source": [
    "# Filtrando um job de um extrator que roda a cada 10 minutos (cada execução é um novo job, novo pod, novo contêiner)\n",
    "hash_job = 'd7278d4c1bac8c01dc52358de78dcb5f'\n",
    "app1 = df_cpu[df_cpu['hash']==hash_job].sort_values(['hora','minuto'])\n",
    "app1"
   ]
  },
  {
   "cell_type": "code",
   "execution_count": 14,
   "metadata": {},
   "outputs": [],
   "source": [
    "# Selecão das colunas\n",
    "app_selected = app1[['hora', 'minuto', 'consumo_cpu']]\n",
    "\n",
    "# Calculo dos minutos\n",
    "app_selected['minutos'] = app1['hora'] * 60 + app1['minuto']\n",
    "\n",
    "# Transforma o consumo de cpu em mCPU (*1000)\n",
    "app_selected['consumo_cpu'] = app_selected['consumo_cpu'].apply(lambda x: x * 1000)"
   ]
  },
  {
   "cell_type": "code",
   "execution_count": 20,
   "metadata": {},
   "outputs": [
    {
     "data": {
      "text/plain": [
       "<AxesSubplot:xlabel='minutos', ylabel='mCPU'>"
      ]
     },
     "execution_count": 20,
     "metadata": {},
     "output_type": "execute_result"
    },
    {
     "data": {
      "image/png": "[encoded data removed]",
      "text/plain": [
       "<Figure size 432x288 with 1 Axes>"
      ]
     },
     "metadata": {
      "needs_background": "light"
     },
     "output_type": "display_data"
    }
   ],
   "source": [
    "app_selected.plot(x ='minutos', y='consumo_cpu', kind = 'bar', ylabel='mCPU')"
   ]
  },
  {
   "cell_type": "code",
   "execution_count": 21,
   "metadata": {},
   "outputs": [
    {
     "data": {
      "text/html": [
       "<div>\n",
       "<style scoped>\n",
       "    .dataframe tbody tr th:only-of-type {\n",
       "        vertical-align: middle;\n",
       "    }\n",
       "\n",
       "    .dataframe tbody tr th {\n",
       "        vertical-align: top;\n",
       "    }\n",
       "\n",
       "    .dataframe thead th {\n",
       "        text-align: right;\n",
       "    }\n",
       "</style>\n",
       "<table border=\"1\" class=\"dataframe\">\n",
       "  <thead>\n",
       "    <tr style=\"text-align: right;\">\n",
       "      <th></th>\n",
       "      <th>minutos</th>\n",
       "      <th>consumo_memoria</th>\n",
       "    </tr>\n",
       "  </thead>\n",
       "  <tbody>\n",
       "    <tr>\n",
       "      <th>529618</th>\n",
       "      <td>600</td>\n",
       "      <td>45.464844</td>\n",
       "    </tr>\n",
       "  </tbody>\n",
       "</table>\n",
       "</div>"
      ],
      "text/plain": [
       "        minutos  consumo_memoria\n",
       "529618      600        45.464844"
      ]
     },
     "execution_count": 21,
     "metadata": {},
     "output_type": "execute_result"
    }
   ],
   "source": [
    "# Memoria consumida pelo Job\n",
    "app1_mm = df_memoria[df_memoria['hash']==hash_job].sort_values('hora')\n",
    "app1_mm = app1_mm[['minutos', 'consumo_memoria']]\n",
    "\n",
    "# Converte tamanho de memória de bytes para MB\n",
    "app1_mm['consumo_memoria'] = app1_mm['consumo_memoria'] / (1024 * 1024)\n",
    "app1_mm = app1_mm.sort_values(by=['minutos'])\n",
    "app1_mm"
   ]
  },
  {
   "cell_type": "code",
   "execution_count": 22,
   "metadata": {},
   "outputs": [
    {
     "data": {
      "text/plain": [
       "<AxesSubplot:xlabel='minutos', ylabel='MB'>"
      ]
     },
     "execution_count": 22,
     "metadata": {},
     "output_type": "execute_result"
    },
    {
     "data": {
      "image/png": "[encoded data removed]",
      "text/plain": [
       "<Figure size 432x288 with 1 Axes>"
      ]
     },
     "metadata": {
      "needs_background": "light"
     },
     "output_type": "display_data"
    }
   ],
   "source": [
    "app1_mm.plot(x ='minutos', y='consumo_memoria', kind = 'bar', ylabel='MB')"
   ]
  },
  {
   "cell_type": "markdown",
   "metadata": {},
   "source": [
    "Como esperado, os recursos consumidos por um job são pontuais, ou seja, não se estendem além do tempo de execução da sua tarefa. Neste caso, os valores consumidos são iguais a valores médios e de pico."
   ]
  },
  {
   "cell_type": "markdown",
   "metadata": {},
   "source": [
    "## Comportamento de um Addon (Serviços com imagens pré-configuradas que rodam continuamente)"
   ]
  },
  {
   "cell_type": "code",
   "execution_count": 23,
   "metadata": {},
   "outputs": [
    {
     "data": {
      "text/html": [
       "<div>\n",
       "<style scoped>\n",
       "    .dataframe tbody tr th:only-of-type {\n",
       "        vertical-align: middle;\n",
       "    }\n",
       "\n",
       "    .dataframe tbody tr th {\n",
       "        vertical-align: top;\n",
       "    }\n",
       "\n",
       "    .dataframe thead th {\n",
       "        text-align: right;\n",
       "    }\n",
       "</style>\n",
       "<table border=\"1\" class=\"dataframe\">\n",
       "  <thead>\n",
       "    <tr style=\"text-align: right;\">\n",
       "      <th></th>\n",
       "      <th>hash</th>\n",
       "      <th>hora</th>\n",
       "      <th>minuto</th>\n",
       "      <th>consumo_cpu</th>\n",
       "    </tr>\n",
       "  </thead>\n",
       "  <tbody>\n",
       "    <tr>\n",
       "      <th>667232</th>\n",
       "      <td>1457559cc9eace85bfa102b973d26b2f</td>\n",
       "      <td>0</td>\n",
       "      <td>0</td>\n",
       "      <td>0.001971</td>\n",
       "    </tr>\n",
       "    <tr>\n",
       "      <th>5093</th>\n",
       "      <td>1457559cc9eace85bfa102b973d26b2f</td>\n",
       "      <td>0</td>\n",
       "      <td>15</td>\n",
       "      <td>0.001322</td>\n",
       "    </tr>\n",
       "    <tr>\n",
       "      <th>1085699</th>\n",
       "      <td>1457559cc9eace85bfa102b973d26b2f</td>\n",
       "      <td>0</td>\n",
       "      <td>30</td>\n",
       "      <td>0.001361</td>\n",
       "    </tr>\n",
       "    <tr>\n",
       "      <th>527923</th>\n",
       "      <td>1457559cc9eace85bfa102b973d26b2f</td>\n",
       "      <td>0</td>\n",
       "      <td>45</td>\n",
       "      <td>0.001472</td>\n",
       "    </tr>\n",
       "    <tr>\n",
       "      <th>318843</th>\n",
       "      <td>1457559cc9eace85bfa102b973d26b2f</td>\n",
       "      <td>1</td>\n",
       "      <td>0</td>\n",
       "      <td>0.001581</td>\n",
       "    </tr>\n",
       "    <tr>\n",
       "      <th>...</th>\n",
       "      <td>...</td>\n",
       "      <td>...</td>\n",
       "      <td>...</td>\n",
       "      <td>...</td>\n",
       "    </tr>\n",
       "    <tr>\n",
       "      <th>1027593</th>\n",
       "      <td>1457559cc9eace85bfa102b973d26b2f</td>\n",
       "      <td>22</td>\n",
       "      <td>45</td>\n",
       "      <td>0.001301</td>\n",
       "    </tr>\n",
       "    <tr>\n",
       "      <th>156125</th>\n",
       "      <td>1457559cc9eace85bfa102b973d26b2f</td>\n",
       "      <td>23</td>\n",
       "      <td>0</td>\n",
       "      <td>0.001385</td>\n",
       "    </tr>\n",
       "    <tr>\n",
       "      <th>992711</th>\n",
       "      <td>1457559cc9eace85bfa102b973d26b2f</td>\n",
       "      <td>23</td>\n",
       "      <td>15</td>\n",
       "      <td>0.001377</td>\n",
       "    </tr>\n",
       "    <tr>\n",
       "      <th>620780</th>\n",
       "      <td>1457559cc9eace85bfa102b973d26b2f</td>\n",
       "      <td>23</td>\n",
       "      <td>30</td>\n",
       "      <td>0.001366</td>\n",
       "    </tr>\n",
       "    <tr>\n",
       "      <th>585917</th>\n",
       "      <td>1457559cc9eace85bfa102b973d26b2f</td>\n",
       "      <td>23</td>\n",
       "      <td>45</td>\n",
       "      <td>0.001137</td>\n",
       "    </tr>\n",
       "  </tbody>\n",
       "</table>\n",
       "<p>96 rows × 4 columns</p>\n",
       "</div>"
      ],
      "text/plain": [
       "                                     hash  hora  minuto  consumo_cpu\n",
       "667232   1457559cc9eace85bfa102b973d26b2f     0       0     0.001971\n",
       "5093     1457559cc9eace85bfa102b973d26b2f     0      15     0.001322\n",
       "1085699  1457559cc9eace85bfa102b973d26b2f     0      30     0.001361\n",
       "527923   1457559cc9eace85bfa102b973d26b2f     0      45     0.001472\n",
       "318843   1457559cc9eace85bfa102b973d26b2f     1       0     0.001581\n",
       "...                                   ...   ...     ...          ...\n",
       "1027593  1457559cc9eace85bfa102b973d26b2f    22      45     0.001301\n",
       "156125   1457559cc9eace85bfa102b973d26b2f    23       0     0.001385\n",
       "992711   1457559cc9eace85bfa102b973d26b2f    23      15     0.001377\n",
       "620780   1457559cc9eace85bfa102b973d26b2f    23      30     0.001366\n",
       "585917   1457559cc9eace85bfa102b973d26b2f    23      45     0.001137\n",
       "\n",
       "[96 rows x 4 columns]"
      ]
     },
     "execution_count": 23,
     "metadata": {},
     "output_type": "execute_result"
    }
   ],
   "source": [
    "# Filtrando um job do serviço Grafana\n",
    "hash_addon = '1457559cc9eace85bfa102b973d26b2f'\n",
    "app1 = df_cpu[df_cpu['hash']==hash_addon].sort_values(['hora','minuto'])\n",
    "app1"
   ]
  },
  {
   "cell_type": "code",
   "execution_count": 24,
   "metadata": {},
   "outputs": [
    {
     "data": {
      "text/plain": [
       "<AxesSubplot:xlabel='minutos', ylabel='mCPU'>"
      ]
     },
     "execution_count": 24,
     "metadata": {},
     "output_type": "execute_result"
    },
    {
     "data": {
      "image/png": "[encoded data removed]",
      "text/plain": [
       "<Figure size 432x288 with 1 Axes>"
      ]
     },
     "metadata": {
      "needs_background": "light"
     },
     "output_type": "display_data"
    }
   ],
   "source": [
    "# Consumo de CPU\n",
    "# Selecão das colunas\n",
    "app_selected = app1[['hora', 'minuto', 'consumo_cpu']]\n",
    "\n",
    "# Calculo dos minutos\n",
    "app_selected['minutos'] = app1['hora'] * 60 + app1['minuto']\n",
    "\n",
    "# Transforma o consumo de cpu em mCPU (*1000)\n",
    "app_selected['consumo_cpu'] = app_selected['consumo_cpu'].apply(lambda x: x * 1000)\n",
    "\n",
    "app_selected.plot(x ='minutos', y='consumo_cpu', kind = 'line', ylabel='mCPU')"
   ]
  },
  {
   "cell_type": "code",
   "execution_count": 25,
   "metadata": {},
   "outputs": [
    {
     "data": {
      "text/html": [
       "<div>\n",
       "<style scoped>\n",
       "    .dataframe tbody tr th:only-of-type {\n",
       "        vertical-align: middle;\n",
       "    }\n",
       "\n",
       "    .dataframe tbody tr th {\n",
       "        vertical-align: top;\n",
       "    }\n",
       "\n",
       "    .dataframe thead th {\n",
       "        text-align: right;\n",
       "    }\n",
       "</style>\n",
       "<table border=\"1\" class=\"dataframe\">\n",
       "  <thead>\n",
       "    <tr style=\"text-align: right;\">\n",
       "      <th></th>\n",
       "      <th>minutos</th>\n",
       "      <th>consumo_memoria</th>\n",
       "    </tr>\n",
       "  </thead>\n",
       "  <tbody>\n",
       "    <tr>\n",
       "      <th>612270</th>\n",
       "      <td>0</td>\n",
       "      <td>115.832031</td>\n",
       "    </tr>\n",
       "    <tr>\n",
       "      <th>472164</th>\n",
       "      <td>15</td>\n",
       "      <td>115.839844</td>\n",
       "    </tr>\n",
       "    <tr>\n",
       "      <th>1114090</th>\n",
       "      <td>30</td>\n",
       "      <td>115.832031</td>\n",
       "    </tr>\n",
       "    <tr>\n",
       "      <th>577234</th>\n",
       "      <td>45</td>\n",
       "      <td>115.832031</td>\n",
       "    </tr>\n",
       "    <tr>\n",
       "      <th>880718</th>\n",
       "      <td>60</td>\n",
       "      <td>115.832031</td>\n",
       "    </tr>\n",
       "    <tr>\n",
       "      <th>...</th>\n",
       "      <td>...</td>\n",
       "      <td>...</td>\n",
       "    </tr>\n",
       "    <tr>\n",
       "      <th>296887</th>\n",
       "      <td>1365</td>\n",
       "      <td>115.988281</td>\n",
       "    </tr>\n",
       "    <tr>\n",
       "      <th>518783</th>\n",
       "      <td>1380</td>\n",
       "      <td>115.984375</td>\n",
       "    </tr>\n",
       "    <tr>\n",
       "      <th>997360</th>\n",
       "      <td>1395</td>\n",
       "      <td>115.984375</td>\n",
       "    </tr>\n",
       "    <tr>\n",
       "      <th>1090797</th>\n",
       "      <td>1410</td>\n",
       "      <td>115.984375</td>\n",
       "    </tr>\n",
       "    <tr>\n",
       "      <th>378602</th>\n",
       "      <td>1425</td>\n",
       "      <td>116.078125</td>\n",
       "    </tr>\n",
       "  </tbody>\n",
       "</table>\n",
       "<p>96 rows × 2 columns</p>\n",
       "</div>"
      ],
      "text/plain": [
       "         minutos  consumo_memoria\n",
       "612270         0       115.832031\n",
       "472164        15       115.839844\n",
       "1114090       30       115.832031\n",
       "577234        45       115.832031\n",
       "880718        60       115.832031\n",
       "...          ...              ...\n",
       "296887      1365       115.988281\n",
       "518783      1380       115.984375\n",
       "997360      1395       115.984375\n",
       "1090797     1410       115.984375\n",
       "378602      1425       116.078125\n",
       "\n",
       "[96 rows x 2 columns]"
      ]
     },
     "execution_count": 25,
     "metadata": {},
     "output_type": "execute_result"
    }
   ],
   "source": [
    "# Consumo de Memória\n",
    "# Filtrando uma aplicação\n",
    "app1_mm = df_memoria[df_memoria['hash']==hash_addon].sort_values('hora')\n",
    "app1_mm = app1_mm[['minutos', 'consumo_memoria']]\n",
    "\n",
    "# Converte tamanho de memória de bytes para MB\n",
    "app1_mm['consumo_memoria'] = app1_mm['consumo_memoria'] / (1024 * 1024)\n",
    "app1_mm = app1_mm.sort_values(by=['minutos'])\n",
    "app1_mm"
   ]
  },
  {
   "cell_type": "code",
   "execution_count": 26,
   "metadata": {},
   "outputs": [
    {
     "data": {
      "text/plain": [
       "<AxesSubplot:xlabel='minutos', ylabel='MB'>"
      ]
     },
     "execution_count": 26,
     "metadata": {},
     "output_type": "execute_result"
    },
    {
     "data": {
      "image/png": "[encoded data removed]",
      "text/plain": [
       "<Figure size 432x288 with 1 Axes>"
      ]
     },
     "metadata": {
      "needs_background": "light"
     },
     "output_type": "display_data"
    }
   ],
   "source": [
    "app1_mm.plot(x ='minutos', y='consumo_memoria', kind = 'line', ylabel='MB')"
   ]
  },
  {
   "cell_type": "markdown",
   "metadata": {},
   "source": [
    "O comportamento do Addon se aproxima a de uma aplicação típica sofrendo variações do consumo de recursos conforme o serviço é demandado."
   ]
  },
  {
   "cell_type": "code",
   "execution_count": null,
   "metadata": {},
   "outputs": [],
   "source": []
  }
 ],
 "metadata": {
  "kernelspec": {
   "display_name": "Python 3 (ipykernel)",
   "language": "python",
   "name": "python3"
  },
  "language_info": {
   "codemirror_mode": {
    "name": "ipython",
    "version": 3
   },
   "file_extension": ".py",
   "mimetype": "text/x-python",
   "name": "python",
   "nbconvert_exporter": "python",
   "pygments_lexer": "ipython3",
   "version": "3.9.12"
  }
 },
 "nbformat": 4,
 "nbformat_minor": 2
}
