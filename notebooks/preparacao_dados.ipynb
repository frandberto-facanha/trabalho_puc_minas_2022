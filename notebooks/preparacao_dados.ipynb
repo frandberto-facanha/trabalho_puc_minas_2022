{
 "cells": [
  {
   "cell_type": "markdown",
   "metadata": {},
   "source": [
    "## Processamento das coletas\n",
    "\n",
    "### Agrega as leituras das coletas de uma aplicação\n",
    "\n",
    "**Considerações:**\n",
    "\n",
    "- Para **Memória** a regra utilizada é obter o valor máximo de memória, visto que a falta de memória implica na destruição do POD e sinalização do erro OOMKilled.\n",
    "- Para **CPU** será considerada a mediana a fim de atenuar valores de pico. Menos CPU implica em execução mais lenta mas não causa a interrupção da aplicação."
   ]
  },
  {
   "cell_type": "code",
   "execution_count": 2,
   "metadata": {},
   "outputs": [],
   "source": [
    "import pandas as pd\n",
    "import hashlib\n",
    "import glob\n",
    "import math\n",
    "from matplotlib import pyplot as plt #para plotar os gráficos"
   ]
  },
  {
   "cell_type": "markdown",
   "metadata": {},
   "source": [
    "### Agregação dos consumo de CPU"
   ]
  },
  {
   "cell_type": "code",
   "execution_count": 17,
   "metadata": {},
   "outputs": [
    {
     "data": {
      "text/html": [
       "<div>\n",
       "<style scoped>\n",
       "    .dataframe tbody tr th:only-of-type {\n",
       "        vertical-align: middle;\n",
       "    }\n",
       "\n",
       "    .dataframe tbody tr th {\n",
       "        vertical-align: top;\n",
       "    }\n",
       "\n",
       "    .dataframe thead th {\n",
       "        text-align: right;\n",
       "    }\n",
       "</style>\n",
       "<table border=\"1\" class=\"dataframe\">\n",
       "  <thead>\n",
       "    <tr style=\"text-align: right;\">\n",
       "      <th></th>\n",
       "      <th>hash</th>\n",
       "      <th>hora</th>\n",
       "      <th>consumo_cpu</th>\n",
       "    </tr>\n",
       "  </thead>\n",
       "  <tbody>\n",
       "    <tr>\n",
       "      <th>0</th>\n",
       "      <td>ce4468ee8389709c20b40ed1c09a36c1</td>\n",
       "      <td>1</td>\n",
       "      <td>0.000956</td>\n",
       "    </tr>\n",
       "    <tr>\n",
       "      <th>1</th>\n",
       "      <td>0dcf61756612a9edfc06d254802e4b28</td>\n",
       "      <td>1</td>\n",
       "      <td>0.001107</td>\n",
       "    </tr>\n",
       "    <tr>\n",
       "      <th>2</th>\n",
       "      <td>d1ba4017a8bc09b01bae73e48dba56ea</td>\n",
       "      <td>1</td>\n",
       "      <td>0.000995</td>\n",
       "    </tr>\n",
       "    <tr>\n",
       "      <th>3</th>\n",
       "      <td>19d9963e0460ed384a60ef724eb79ba0</td>\n",
       "      <td>1</td>\n",
       "      <td>0.000964</td>\n",
       "    </tr>\n",
       "    <tr>\n",
       "      <th>4</th>\n",
       "      <td>1e300feefc2f05d7e69bbae4dd0a7bda</td>\n",
       "      <td>1</td>\n",
       "      <td>0.001019</td>\n",
       "    </tr>\n",
       "    <tr>\n",
       "      <th>...</th>\n",
       "      <td>...</td>\n",
       "      <td>...</td>\n",
       "      <td>...</td>\n",
       "    </tr>\n",
       "    <tr>\n",
       "      <th>243777</th>\n",
       "      <td>d17ad87eb3f09d8d50ace42558838b09</td>\n",
       "      <td>11</td>\n",
       "      <td>0.000025</td>\n",
       "    </tr>\n",
       "    <tr>\n",
       "      <th>243778</th>\n",
       "      <td>d7eb36ec208f3ce4320866a5a1b98913</td>\n",
       "      <td>11</td>\n",
       "      <td>0.000434</td>\n",
       "    </tr>\n",
       "    <tr>\n",
       "      <th>243779</th>\n",
       "      <td>0da32886ef25a6f5d6c81d4562215fbd</td>\n",
       "      <td>11</td>\n",
       "      <td>0.000344</td>\n",
       "    </tr>\n",
       "    <tr>\n",
       "      <th>243780</th>\n",
       "      <td>7b4176d7c0eb25ec1f031eef91e46e7d</td>\n",
       "      <td>11</td>\n",
       "      <td>0.000429</td>\n",
       "    </tr>\n",
       "    <tr>\n",
       "      <th>243781</th>\n",
       "      <td>f01c2aafd9c5b5f4b168c4bfc0643900</td>\n",
       "      <td>11</td>\n",
       "      <td>0.000369</td>\n",
       "    </tr>\n",
       "  </tbody>\n",
       "</table>\n",
       "<p>243782 rows × 3 columns</p>\n",
       "</div>"
      ],
      "text/plain": [
       "                                    hash  hora  consumo_cpu\n",
       "0       ce4468ee8389709c20b40ed1c09a36c1     1     0.000956\n",
       "1       0dcf61756612a9edfc06d254802e4b28     1     0.001107\n",
       "2       d1ba4017a8bc09b01bae73e48dba56ea     1     0.000995\n",
       "3       19d9963e0460ed384a60ef724eb79ba0     1     0.000964\n",
       "4       1e300feefc2f05d7e69bbae4dd0a7bda     1     0.001019\n",
       "...                                  ...   ...          ...\n",
       "243777  d17ad87eb3f09d8d50ace42558838b09    11     0.000025\n",
       "243778  d7eb36ec208f3ce4320866a5a1b98913    11     0.000434\n",
       "243779  0da32886ef25a6f5d6c81d4562215fbd    11     0.000344\n",
       "243780  7b4176d7c0eb25ec1f031eef91e46e7d    11     0.000429\n",
       "243781  f01c2aafd9c5b5f4b168c4bfc0643900    11     0.000369\n",
       "\n",
       "[243782 rows x 3 columns]"
      ]
     },
     "execution_count": 17,
     "metadata": {},
     "output_type": "execute_result"
    }
   ],
   "source": [
    "## Agregação dos valores de CPU\n",
    "path_processados_cpu = './dados/metrics/cpu/processados'\n",
    "csv_file_consolidado_cpu = f'{path_processados_cpu}/consolidado_cpu.csv'\n",
    "df_consolidado_cpu = pd.read_csv(csv_file_consolidado_cpu, sep=',',decimal='.')\n",
    "df_consolidado_cpu = df_consolidado_cpu.rename(columns = {'6':'hash', '5':'hora', '4':'consumo_cpu'})\n",
    "df_consolidado_cpu"
   ]
  },
  {
   "cell_type": "code",
   "execution_count": 19,
   "metadata": {},
   "outputs": [
    {
     "data": {
      "text/html": [
       "<div>\n",
       "<style scoped>\n",
       "    .dataframe tbody tr th:only-of-type {\n",
       "        vertical-align: middle;\n",
       "    }\n",
       "\n",
       "    .dataframe tbody tr th {\n",
       "        vertical-align: top;\n",
       "    }\n",
       "\n",
       "    .dataframe thead th {\n",
       "        text-align: right;\n",
       "    }\n",
       "</style>\n",
       "<table border=\"1\" class=\"dataframe\">\n",
       "  <thead>\n",
       "    <tr style=\"text-align: right;\">\n",
       "      <th></th>\n",
       "      <th>hash</th>\n",
       "      <th>hora</th>\n",
       "      <th>consumo_cpu</th>\n",
       "    </tr>\n",
       "  </thead>\n",
       "  <tbody>\n",
       "    <tr>\n",
       "      <th>0</th>\n",
       "      <td>ce4468ee8389709c20b40ed1c09a36c1</td>\n",
       "      <td>1</td>\n",
       "      <td>0.000956</td>\n",
       "    </tr>\n",
       "    <tr>\n",
       "      <th>1</th>\n",
       "      <td>0dcf61756612a9edfc06d254802e4b28</td>\n",
       "      <td>1</td>\n",
       "      <td>0.001107</td>\n",
       "    </tr>\n",
       "    <tr>\n",
       "      <th>2</th>\n",
       "      <td>d1ba4017a8bc09b01bae73e48dba56ea</td>\n",
       "      <td>1</td>\n",
       "      <td>0.000995</td>\n",
       "    </tr>\n",
       "    <tr>\n",
       "      <th>3</th>\n",
       "      <td>19d9963e0460ed384a60ef724eb79ba0</td>\n",
       "      <td>1</td>\n",
       "      <td>0.000964</td>\n",
       "    </tr>\n",
       "    <tr>\n",
       "      <th>4</th>\n",
       "      <td>1e300feefc2f05d7e69bbae4dd0a7bda</td>\n",
       "      <td>1</td>\n",
       "      <td>0.001019</td>\n",
       "    </tr>\n",
       "    <tr>\n",
       "      <th>...</th>\n",
       "      <td>...</td>\n",
       "      <td>...</td>\n",
       "      <td>...</td>\n",
       "    </tr>\n",
       "    <tr>\n",
       "      <th>243777</th>\n",
       "      <td>d17ad87eb3f09d8d50ace42558838b09</td>\n",
       "      <td>11</td>\n",
       "      <td>0.000025</td>\n",
       "    </tr>\n",
       "    <tr>\n",
       "      <th>243778</th>\n",
       "      <td>d7eb36ec208f3ce4320866a5a1b98913</td>\n",
       "      <td>11</td>\n",
       "      <td>0.000434</td>\n",
       "    </tr>\n",
       "    <tr>\n",
       "      <th>243779</th>\n",
       "      <td>0da32886ef25a6f5d6c81d4562215fbd</td>\n",
       "      <td>11</td>\n",
       "      <td>0.000344</td>\n",
       "    </tr>\n",
       "    <tr>\n",
       "      <th>243780</th>\n",
       "      <td>7b4176d7c0eb25ec1f031eef91e46e7d</td>\n",
       "      <td>11</td>\n",
       "      <td>0.000429</td>\n",
       "    </tr>\n",
       "    <tr>\n",
       "      <th>243781</th>\n",
       "      <td>f01c2aafd9c5b5f4b168c4bfc0643900</td>\n",
       "      <td>11</td>\n",
       "      <td>0.000369</td>\n",
       "    </tr>\n",
       "  </tbody>\n",
       "</table>\n",
       "<p>212394 rows × 3 columns</p>\n",
       "</div>"
      ],
      "text/plain": [
       "                                    hash  hora  consumo_cpu\n",
       "0       ce4468ee8389709c20b40ed1c09a36c1     1     0.000956\n",
       "1       0dcf61756612a9edfc06d254802e4b28     1     0.001107\n",
       "2       d1ba4017a8bc09b01bae73e48dba56ea     1     0.000995\n",
       "3       19d9963e0460ed384a60ef724eb79ba0     1     0.000964\n",
       "4       1e300feefc2f05d7e69bbae4dd0a7bda     1     0.001019\n",
       "...                                  ...   ...          ...\n",
       "243777  d17ad87eb3f09d8d50ace42558838b09    11     0.000025\n",
       "243778  d7eb36ec208f3ce4320866a5a1b98913    11     0.000434\n",
       "243779  0da32886ef25a6f5d6c81d4562215fbd    11     0.000344\n",
       "243780  7b4176d7c0eb25ec1f031eef91e46e7d    11     0.000429\n",
       "243781  f01c2aafd9c5b5f4b168c4bfc0643900    11     0.000369\n",
       "\n",
       "[212394 rows x 3 columns]"
      ]
     },
     "execution_count": 19,
     "metadata": {},
     "output_type": "execute_result"
    }
   ],
   "source": [
    "# Remove coletas zeradas\n",
    "df_consolidado_cpu = df_consolidado_cpu[df_consolidado_cpu['consumo_cpu'] > 0]\n",
    "df_consolidado_cpu"
   ]
  },
  {
   "cell_type": "code",
   "execution_count": 20,
   "metadata": {},
   "outputs": [
    {
     "data": {
      "text/html": [
       "<div>\n",
       "<style scoped>\n",
       "    .dataframe tbody tr th:only-of-type {\n",
       "        vertical-align: middle;\n",
       "    }\n",
       "\n",
       "    .dataframe tbody tr th {\n",
       "        vertical-align: top;\n",
       "    }\n",
       "\n",
       "    .dataframe thead th {\n",
       "        text-align: right;\n",
       "    }\n",
       "</style>\n",
       "<table border=\"1\" class=\"dataframe\">\n",
       "  <thead>\n",
       "    <tr style=\"text-align: right;\">\n",
       "      <th></th>\n",
       "      <th>hash</th>\n",
       "      <th>hora</th>\n",
       "      <th>consumo_cpu</th>\n",
       "    </tr>\n",
       "  </thead>\n",
       "  <tbody>\n",
       "    <tr>\n",
       "      <th>0</th>\n",
       "      <td>ce4468ee8389709c20b40ed1c09a36c1</td>\n",
       "      <td>1</td>\n",
       "      <td>0.955533</td>\n",
       "    </tr>\n",
       "    <tr>\n",
       "      <th>1</th>\n",
       "      <td>0dcf61756612a9edfc06d254802e4b28</td>\n",
       "      <td>1</td>\n",
       "      <td>1.106964</td>\n",
       "    </tr>\n",
       "    <tr>\n",
       "      <th>2</th>\n",
       "      <td>d1ba4017a8bc09b01bae73e48dba56ea</td>\n",
       "      <td>1</td>\n",
       "      <td>0.994724</td>\n",
       "    </tr>\n",
       "    <tr>\n",
       "      <th>3</th>\n",
       "      <td>19d9963e0460ed384a60ef724eb79ba0</td>\n",
       "      <td>1</td>\n",
       "      <td>0.964463</td>\n",
       "    </tr>\n",
       "    <tr>\n",
       "      <th>4</th>\n",
       "      <td>1e300feefc2f05d7e69bbae4dd0a7bda</td>\n",
       "      <td>1</td>\n",
       "      <td>1.018835</td>\n",
       "    </tr>\n",
       "    <tr>\n",
       "      <th>...</th>\n",
       "      <td>...</td>\n",
       "      <td>...</td>\n",
       "      <td>...</td>\n",
       "    </tr>\n",
       "    <tr>\n",
       "      <th>243777</th>\n",
       "      <td>d17ad87eb3f09d8d50ace42558838b09</td>\n",
       "      <td>11</td>\n",
       "      <td>0.025104</td>\n",
       "    </tr>\n",
       "    <tr>\n",
       "      <th>243778</th>\n",
       "      <td>d7eb36ec208f3ce4320866a5a1b98913</td>\n",
       "      <td>11</td>\n",
       "      <td>0.434370</td>\n",
       "    </tr>\n",
       "    <tr>\n",
       "      <th>243779</th>\n",
       "      <td>0da32886ef25a6f5d6c81d4562215fbd</td>\n",
       "      <td>11</td>\n",
       "      <td>0.344358</td>\n",
       "    </tr>\n",
       "    <tr>\n",
       "      <th>243780</th>\n",
       "      <td>7b4176d7c0eb25ec1f031eef91e46e7d</td>\n",
       "      <td>11</td>\n",
       "      <td>0.429213</td>\n",
       "    </tr>\n",
       "    <tr>\n",
       "      <th>243781</th>\n",
       "      <td>f01c2aafd9c5b5f4b168c4bfc0643900</td>\n",
       "      <td>11</td>\n",
       "      <td>0.369076</td>\n",
       "    </tr>\n",
       "  </tbody>\n",
       "</table>\n",
       "<p>212394 rows × 3 columns</p>\n",
       "</div>"
      ],
      "text/plain": [
       "                                    hash  hora  consumo_cpu\n",
       "0       ce4468ee8389709c20b40ed1c09a36c1     1     0.955533\n",
       "1       0dcf61756612a9edfc06d254802e4b28     1     1.106964\n",
       "2       d1ba4017a8bc09b01bae73e48dba56ea     1     0.994724\n",
       "3       19d9963e0460ed384a60ef724eb79ba0     1     0.964463\n",
       "4       1e300feefc2f05d7e69bbae4dd0a7bda     1     1.018835\n",
       "...                                  ...   ...          ...\n",
       "243777  d17ad87eb3f09d8d50ace42558838b09    11     0.025104\n",
       "243778  d7eb36ec208f3ce4320866a5a1b98913    11     0.434370\n",
       "243779  0da32886ef25a6f5d6c81d4562215fbd    11     0.344358\n",
       "243780  7b4176d7c0eb25ec1f031eef91e46e7d    11     0.429213\n",
       "243781  f01c2aafd9c5b5f4b168c4bfc0643900    11     0.369076\n",
       "\n",
       "[212394 rows x 3 columns]"
      ]
     },
     "execution_count": 20,
     "metadata": {},
     "output_type": "execute_result"
    }
   ],
   "source": [
    "# Transforma em miliCPU (x 1000)\n",
    "df_consolidado_cpu['consumo_cpu'] = df_consolidado_cpu['consumo_cpu'] * 1000\n",
    "df_consolidado_cpu"
   ]
  },
  {
   "cell_type": "code",
   "execution_count": 21,
   "metadata": {},
   "outputs": [
    {
     "data": {
      "text/html": [
       "<div>\n",
       "<style scoped>\n",
       "    .dataframe tbody tr th:only-of-type {\n",
       "        vertical-align: middle;\n",
       "    }\n",
       "\n",
       "    .dataframe tbody tr th {\n",
       "        vertical-align: top;\n",
       "    }\n",
       "\n",
       "    .dataframe thead th {\n",
       "        text-align: right;\n",
       "    }\n",
       "</style>\n",
       "<table border=\"1\" class=\"dataframe\">\n",
       "  <thead>\n",
       "    <tr style=\"text-align: right;\">\n",
       "      <th></th>\n",
       "      <th>hash</th>\n",
       "      <th>consumo_cpu</th>\n",
       "    </tr>\n",
       "  </thead>\n",
       "  <tbody>\n",
       "    <tr>\n",
       "      <th>0</th>\n",
       "      <td>ce4468ee8389709c20b40ed1c09a36c1</td>\n",
       "      <td>0.955533</td>\n",
       "    </tr>\n",
       "    <tr>\n",
       "      <th>1</th>\n",
       "      <td>0dcf61756612a9edfc06d254802e4b28</td>\n",
       "      <td>1.106964</td>\n",
       "    </tr>\n",
       "    <tr>\n",
       "      <th>2</th>\n",
       "      <td>d1ba4017a8bc09b01bae73e48dba56ea</td>\n",
       "      <td>0.994724</td>\n",
       "    </tr>\n",
       "    <tr>\n",
       "      <th>3</th>\n",
       "      <td>19d9963e0460ed384a60ef724eb79ba0</td>\n",
       "      <td>0.964463</td>\n",
       "    </tr>\n",
       "    <tr>\n",
       "      <th>4</th>\n",
       "      <td>1e300feefc2f05d7e69bbae4dd0a7bda</td>\n",
       "      <td>1.018835</td>\n",
       "    </tr>\n",
       "    <tr>\n",
       "      <th>...</th>\n",
       "      <td>...</td>\n",
       "      <td>...</td>\n",
       "    </tr>\n",
       "    <tr>\n",
       "      <th>243777</th>\n",
       "      <td>d17ad87eb3f09d8d50ace42558838b09</td>\n",
       "      <td>0.025104</td>\n",
       "    </tr>\n",
       "    <tr>\n",
       "      <th>243778</th>\n",
       "      <td>d7eb36ec208f3ce4320866a5a1b98913</td>\n",
       "      <td>0.434370</td>\n",
       "    </tr>\n",
       "    <tr>\n",
       "      <th>243779</th>\n",
       "      <td>0da32886ef25a6f5d6c81d4562215fbd</td>\n",
       "      <td>0.344358</td>\n",
       "    </tr>\n",
       "    <tr>\n",
       "      <th>243780</th>\n",
       "      <td>7b4176d7c0eb25ec1f031eef91e46e7d</td>\n",
       "      <td>0.429213</td>\n",
       "    </tr>\n",
       "    <tr>\n",
       "      <th>243781</th>\n",
       "      <td>f01c2aafd9c5b5f4b168c4bfc0643900</td>\n",
       "      <td>0.369076</td>\n",
       "    </tr>\n",
       "  </tbody>\n",
       "</table>\n",
       "<p>212394 rows × 2 columns</p>\n",
       "</div>"
      ],
      "text/plain": [
       "                                    hash  consumo_cpu\n",
       "0       ce4468ee8389709c20b40ed1c09a36c1     0.955533\n",
       "1       0dcf61756612a9edfc06d254802e4b28     1.106964\n",
       "2       d1ba4017a8bc09b01bae73e48dba56ea     0.994724\n",
       "3       19d9963e0460ed384a60ef724eb79ba0     0.964463\n",
       "4       1e300feefc2f05d7e69bbae4dd0a7bda     1.018835\n",
       "...                                  ...          ...\n",
       "243777  d17ad87eb3f09d8d50ace42558838b09     0.025104\n",
       "243778  d7eb36ec208f3ce4320866a5a1b98913     0.434370\n",
       "243779  0da32886ef25a6f5d6c81d4562215fbd     0.344358\n",
       "243780  7b4176d7c0eb25ec1f031eef91e46e7d     0.429213\n",
       "243781  f01c2aafd9c5b5f4b168c4bfc0643900     0.369076\n",
       "\n",
       "[212394 rows x 2 columns]"
      ]
     },
     "execution_count": 21,
     "metadata": {},
     "output_type": "execute_result"
    }
   ],
   "source": [
    "# Exclui coluna de hora\n",
    "del df_consolidado_cpu['hora']\n",
    "df_consolidado_cpu"
   ]
  },
  {
   "cell_type": "code",
   "execution_count": 22,
   "metadata": {},
   "outputs": [
    {
     "data": {
      "text/html": [
       "<div>\n",
       "<style scoped>\n",
       "    .dataframe tbody tr th:only-of-type {\n",
       "        vertical-align: middle;\n",
       "    }\n",
       "\n",
       "    .dataframe tbody tr th {\n",
       "        vertical-align: top;\n",
       "    }\n",
       "\n",
       "    .dataframe thead th {\n",
       "        text-align: right;\n",
       "    }\n",
       "</style>\n",
       "<table border=\"1\" class=\"dataframe\">\n",
       "  <thead>\n",
       "    <tr style=\"text-align: right;\">\n",
       "      <th></th>\n",
       "      <th>consumo_cpu</th>\n",
       "    </tr>\n",
       "  </thead>\n",
       "  <tbody>\n",
       "    <tr>\n",
       "      <th>count</th>\n",
       "      <td>212394.000000</td>\n",
       "    </tr>\n",
       "    <tr>\n",
       "      <th>mean</th>\n",
       "      <td>68.576141</td>\n",
       "    </tr>\n",
       "    <tr>\n",
       "      <th>std</th>\n",
       "      <td>599.346856</td>\n",
       "    </tr>\n",
       "    <tr>\n",
       "      <th>min</th>\n",
       "      <td>0.000013</td>\n",
       "    </tr>\n",
       "    <tr>\n",
       "      <th>25%</th>\n",
       "      <td>0.814414</td>\n",
       "    </tr>\n",
       "    <tr>\n",
       "      <th>50%</th>\n",
       "      <td>1.676832</td>\n",
       "    </tr>\n",
       "    <tr>\n",
       "      <th>75%</th>\n",
       "      <td>6.677979</td>\n",
       "    </tr>\n",
       "    <tr>\n",
       "      <th>max</th>\n",
       "      <td>15268.367293</td>\n",
       "    </tr>\n",
       "  </tbody>\n",
       "</table>\n",
       "</div>"
      ],
      "text/plain": [
       "         consumo_cpu\n",
       "count  212394.000000\n",
       "mean       68.576141\n",
       "std       599.346856\n",
       "min         0.000013\n",
       "25%         0.814414\n",
       "50%         1.676832\n",
       "75%         6.677979\n",
       "max     15268.367293"
      ]
     },
     "execution_count": 22,
     "metadata": {},
     "output_type": "execute_result"
    }
   ],
   "source": [
    "# Estatística do dado\n",
    "df_consolidado_cpu.describe()"
   ]
  },
  {
   "cell_type": "code",
   "execution_count": 23,
   "metadata": {},
   "outputs": [
    {
     "data": {
      "text/html": [
       "<div>\n",
       "<style scoped>\n",
       "    .dataframe tbody tr th:only-of-type {\n",
       "        vertical-align: middle;\n",
       "    }\n",
       "\n",
       "    .dataframe tbody tr th {\n",
       "        vertical-align: top;\n",
       "    }\n",
       "\n",
       "    .dataframe thead th {\n",
       "        text-align: right;\n",
       "    }\n",
       "</style>\n",
       "<table border=\"1\" class=\"dataframe\">\n",
       "  <thead>\n",
       "    <tr style=\"text-align: right;\">\n",
       "      <th></th>\n",
       "      <th>hash</th>\n",
       "      <th>pico_cpu</th>\n",
       "    </tr>\n",
       "  </thead>\n",
       "  <tbody>\n",
       "    <tr>\n",
       "      <th>0</th>\n",
       "      <td>0000c672f5e96d5c7078db295c99dd1f</td>\n",
       "      <td>8.738411</td>\n",
       "    </tr>\n",
       "    <tr>\n",
       "      <th>1</th>\n",
       "      <td>00115d136a63167e961d60147809aff7</td>\n",
       "      <td>315.642122</td>\n",
       "    </tr>\n",
       "    <tr>\n",
       "      <th>2</th>\n",
       "      <td>001b37c1ee0862b0326ee3571c4f05de</td>\n",
       "      <td>0.084502</td>\n",
       "    </tr>\n",
       "    <tr>\n",
       "      <th>3</th>\n",
       "      <td>0028c4dfdf4f19f3914cc5ca96f7b3d4</td>\n",
       "      <td>1.106187</td>\n",
       "    </tr>\n",
       "    <tr>\n",
       "      <th>4</th>\n",
       "      <td>002b850fcc1b96f2b1b0621d6b5ee97b</td>\n",
       "      <td>1.719575</td>\n",
       "    </tr>\n",
       "    <tr>\n",
       "      <th>...</th>\n",
       "      <td>...</td>\n",
       "      <td>...</td>\n",
       "    </tr>\n",
       "    <tr>\n",
       "      <th>10618</th>\n",
       "      <td>ffdd3f9ace04c87c5360e682942cbe80</td>\n",
       "      <td>15.462593</td>\n",
       "    </tr>\n",
       "    <tr>\n",
       "      <th>10619</th>\n",
       "      <td>ffdf76b5e9458fb21062d50557d7f8fa</td>\n",
       "      <td>0.126827</td>\n",
       "    </tr>\n",
       "    <tr>\n",
       "      <th>10620</th>\n",
       "      <td>ffe759fe7996f523feb279a03a48233a</td>\n",
       "      <td>0.009233</td>\n",
       "    </tr>\n",
       "    <tr>\n",
       "      <th>10621</th>\n",
       "      <td>ffee4328dfcdb0cc27e380c4339553e6</td>\n",
       "      <td>528.148654</td>\n",
       "    </tr>\n",
       "    <tr>\n",
       "      <th>10622</th>\n",
       "      <td>fffccdea8e33694fe0152305f4b359ef</td>\n",
       "      <td>27.479527</td>\n",
       "    </tr>\n",
       "  </tbody>\n",
       "</table>\n",
       "<p>10623 rows × 2 columns</p>\n",
       "</div>"
      ],
      "text/plain": [
       "                                   hash    pico_cpu\n",
       "0      0000c672f5e96d5c7078db295c99dd1f    8.738411\n",
       "1      00115d136a63167e961d60147809aff7  315.642122\n",
       "2      001b37c1ee0862b0326ee3571c4f05de    0.084502\n",
       "3      0028c4dfdf4f19f3914cc5ca96f7b3d4    1.106187\n",
       "4      002b850fcc1b96f2b1b0621d6b5ee97b    1.719575\n",
       "...                                 ...         ...\n",
       "10618  ffdd3f9ace04c87c5360e682942cbe80   15.462593\n",
       "10619  ffdf76b5e9458fb21062d50557d7f8fa    0.126827\n",
       "10620  ffe759fe7996f523feb279a03a48233a    0.009233\n",
       "10621  ffee4328dfcdb0cc27e380c4339553e6  528.148654\n",
       "10622  fffccdea8e33694fe0152305f4b359ef   27.479527\n",
       "\n",
       "[10623 rows x 2 columns]"
      ]
     },
     "execution_count": 23,
     "metadata": {},
     "output_type": "execute_result"
    }
   ],
   "source": [
    "# Agrupa pelo hash e agrega pela valor máximo (pico) de consumo de CPU\n",
    "df_group_by_max_cpu = df_consolidado_cpu.groupby(['hash']).max()\n",
    "# Reseta o índice\n",
    "df_group_by_max_cpu.reset_index(inplace=True)\n",
    "df_group_by_max_cpu = df_group_by_max_cpu.rename(columns = {'consumo_cpu':'pico_cpu'})\n",
    "df_group_by_max_cpu"
   ]
  },
  {
   "cell_type": "code",
   "execution_count": 24,
   "metadata": {},
   "outputs": [
    {
     "data": {
      "text/plain": [
       "<AxesSubplot:>"
      ]
     },
     "execution_count": 24,
     "metadata": {},
     "output_type": "execute_result"
    },
    {
     "data": {
      "image/png": "[encoded data removed]",
      "text/plain": [
       "<Figure size 432x288 with 1 Axes>"
      ]
     },
     "metadata": {
      "needs_background": "light"
     },
     "output_type": "display_data"
    }
   ],
   "source": [
    "df_group_by_max_cpu.plot()"
   ]
  },
  {
   "cell_type": "code",
   "execution_count": 25,
   "metadata": {},
   "outputs": [
    {
     "data": {
      "text/html": [
       "<div>\n",
       "<style scoped>\n",
       "    .dataframe tbody tr th:only-of-type {\n",
       "        vertical-align: middle;\n",
       "    }\n",
       "\n",
       "    .dataframe tbody tr th {\n",
       "        vertical-align: top;\n",
       "    }\n",
       "\n",
       "    .dataframe thead th {\n",
       "        text-align: right;\n",
       "    }\n",
       "</style>\n",
       "<table border=\"1\" class=\"dataframe\">\n",
       "  <thead>\n",
       "    <tr style=\"text-align: right;\">\n",
       "      <th></th>\n",
       "      <th>hash</th>\n",
       "      <th>mediana_cpu</th>\n",
       "    </tr>\n",
       "  </thead>\n",
       "  <tbody>\n",
       "    <tr>\n",
       "      <th>0</th>\n",
       "      <td>0000c672f5e96d5c7078db295c99dd1f</td>\n",
       "      <td>6.028352</td>\n",
       "    </tr>\n",
       "    <tr>\n",
       "      <th>1</th>\n",
       "      <td>00115d136a63167e961d60147809aff7</td>\n",
       "      <td>184.985555</td>\n",
       "    </tr>\n",
       "    <tr>\n",
       "      <th>2</th>\n",
       "      <td>001b37c1ee0862b0326ee3571c4f05de</td>\n",
       "      <td>0.079422</td>\n",
       "    </tr>\n",
       "    <tr>\n",
       "      <th>3</th>\n",
       "      <td>0028c4dfdf4f19f3914cc5ca96f7b3d4</td>\n",
       "      <td>0.948848</td>\n",
       "    </tr>\n",
       "    <tr>\n",
       "      <th>4</th>\n",
       "      <td>002b850fcc1b96f2b1b0621d6b5ee97b</td>\n",
       "      <td>1.719575</td>\n",
       "    </tr>\n",
       "    <tr>\n",
       "      <th>...</th>\n",
       "      <td>...</td>\n",
       "      <td>...</td>\n",
       "    </tr>\n",
       "    <tr>\n",
       "      <th>10618</th>\n",
       "      <td>ffdd3f9ace04c87c5360e682942cbe80</td>\n",
       "      <td>3.362830</td>\n",
       "    </tr>\n",
       "    <tr>\n",
       "      <th>10619</th>\n",
       "      <td>ffdf76b5e9458fb21062d50557d7f8fa</td>\n",
       "      <td>0.126827</td>\n",
       "    </tr>\n",
       "    <tr>\n",
       "      <th>10620</th>\n",
       "      <td>ffe759fe7996f523feb279a03a48233a</td>\n",
       "      <td>0.007061</td>\n",
       "    </tr>\n",
       "    <tr>\n",
       "      <th>10621</th>\n",
       "      <td>ffee4328dfcdb0cc27e380c4339553e6</td>\n",
       "      <td>66.968071</td>\n",
       "    </tr>\n",
       "    <tr>\n",
       "      <th>10622</th>\n",
       "      <td>fffccdea8e33694fe0152305f4b359ef</td>\n",
       "      <td>27.479527</td>\n",
       "    </tr>\n",
       "  </tbody>\n",
       "</table>\n",
       "<p>10623 rows × 2 columns</p>\n",
       "</div>"
      ],
      "text/plain": [
       "                                   hash  mediana_cpu\n",
       "0      0000c672f5e96d5c7078db295c99dd1f     6.028352\n",
       "1      00115d136a63167e961d60147809aff7   184.985555\n",
       "2      001b37c1ee0862b0326ee3571c4f05de     0.079422\n",
       "3      0028c4dfdf4f19f3914cc5ca96f7b3d4     0.948848\n",
       "4      002b850fcc1b96f2b1b0621d6b5ee97b     1.719575\n",
       "...                                 ...          ...\n",
       "10618  ffdd3f9ace04c87c5360e682942cbe80     3.362830\n",
       "10619  ffdf76b5e9458fb21062d50557d7f8fa     0.126827\n",
       "10620  ffe759fe7996f523feb279a03a48233a     0.007061\n",
       "10621  ffee4328dfcdb0cc27e380c4339553e6    66.968071\n",
       "10622  fffccdea8e33694fe0152305f4b359ef    27.479527\n",
       "\n",
       "[10623 rows x 2 columns]"
      ]
     },
     "execution_count": 25,
     "metadata": {},
     "output_type": "execute_result"
    }
   ],
   "source": [
    "# Agrupa pelo hash e agrega pela mediana dos valores de consumo de CPU\n",
    "df_group_by_med_cpu = df_consolidado_cpu.groupby(['hash']).median()\n",
    "# Reseta o índice\n",
    "df_group_by_med_cpu.reset_index(inplace=True)\n",
    "df_group_by_med_cpu = df_group_by_med_cpu.rename(columns = {'consumo_cpu':'mediana_cpu'})\n",
    "df_group_by_med_cpu"
   ]
  },
  {
   "cell_type": "code",
   "execution_count": 30,
   "metadata": {},
   "outputs": [],
   "source": [
    "# Salva em Arquivo\n",
    "# df_group_by_cpu.to_csv(f'{path_processados}/group_by_cpu.csv', index=False)"
   ]
  },
  {
   "cell_type": "code",
   "execution_count": 26,
   "metadata": {},
   "outputs": [
    {
     "data": {
      "text/plain": [
       "<AxesSubplot:>"
      ]
     },
     "execution_count": 26,
     "metadata": {},
     "output_type": "execute_result"
    },
    {
     "data": {
      "image/png": "[encoded data removed]",
      "text/plain": [
       "<Figure size 432x288 with 1 Axes>"
      ]
     },
     "metadata": {
      "needs_background": "light"
     },
     "output_type": "display_data"
    }
   ],
   "source": [
    "df_group_by_med_cpu.plot()"
   ]
  },
  {
   "cell_type": "markdown",
   "metadata": {},
   "source": [
    "### Agregação de Memória"
   ]
  },
  {
   "cell_type": "code",
   "execution_count": 27,
   "metadata": {},
   "outputs": [
    {
     "data": {
      "text/html": [
       "<div>\n",
       "<style scoped>\n",
       "    .dataframe tbody tr th:only-of-type {\n",
       "        vertical-align: middle;\n",
       "    }\n",
       "\n",
       "    .dataframe tbody tr th {\n",
       "        vertical-align: top;\n",
       "    }\n",
       "\n",
       "    .dataframe thead th {\n",
       "        text-align: right;\n",
       "    }\n",
       "</style>\n",
       "<table border=\"1\" class=\"dataframe\">\n",
       "  <thead>\n",
       "    <tr style=\"text-align: right;\">\n",
       "      <th></th>\n",
       "      <th>hash</th>\n",
       "      <th>hora</th>\n",
       "      <th>consumo_memoria</th>\n",
       "    </tr>\n",
       "  </thead>\n",
       "  <tbody>\n",
       "    <tr>\n",
       "      <th>0</th>\n",
       "      <td>ce4468ee8389709c20b40ed1c09a36c1</td>\n",
       "      <td>9</td>\n",
       "      <td>1995317248</td>\n",
       "    </tr>\n",
       "    <tr>\n",
       "      <th>1</th>\n",
       "      <td>0dcf61756612a9edfc06d254802e4b28</td>\n",
       "      <td>9</td>\n",
       "      <td>2037846016</td>\n",
       "    </tr>\n",
       "    <tr>\n",
       "      <th>2</th>\n",
       "      <td>d1ba4017a8bc09b01bae73e48dba56ea</td>\n",
       "      <td>9</td>\n",
       "      <td>831680512</td>\n",
       "    </tr>\n",
       "    <tr>\n",
       "      <th>3</th>\n",
       "      <td>19d9963e0460ed384a60ef724eb79ba0</td>\n",
       "      <td>9</td>\n",
       "      <td>2014523392</td>\n",
       "    </tr>\n",
       "    <tr>\n",
       "      <th>4</th>\n",
       "      <td>1e300feefc2f05d7e69bbae4dd0a7bda</td>\n",
       "      <td>9</td>\n",
       "      <td>2039582720</td>\n",
       "    </tr>\n",
       "    <tr>\n",
       "      <th>...</th>\n",
       "      <td>...</td>\n",
       "      <td>...</td>\n",
       "      <td>...</td>\n",
       "    </tr>\n",
       "    <tr>\n",
       "      <th>244949</th>\n",
       "      <td>d17ad87eb3f09d8d50ace42558838b09</td>\n",
       "      <td>1</td>\n",
       "      <td>1912832</td>\n",
       "    </tr>\n",
       "    <tr>\n",
       "      <th>244950</th>\n",
       "      <td>d7eb36ec208f3ce4320866a5a1b98913</td>\n",
       "      <td>1</td>\n",
       "      <td>1978368</td>\n",
       "    </tr>\n",
       "    <tr>\n",
       "      <th>244951</th>\n",
       "      <td>0da32886ef25a6f5d6c81d4562215fbd</td>\n",
       "      <td>1</td>\n",
       "      <td>1871872</td>\n",
       "    </tr>\n",
       "    <tr>\n",
       "      <th>244952</th>\n",
       "      <td>7b4176d7c0eb25ec1f031eef91e46e7d</td>\n",
       "      <td>1</td>\n",
       "      <td>2015232</td>\n",
       "    </tr>\n",
       "    <tr>\n",
       "      <th>244953</th>\n",
       "      <td>f01c2aafd9c5b5f4b168c4bfc0643900</td>\n",
       "      <td>1</td>\n",
       "      <td>1900544</td>\n",
       "    </tr>\n",
       "  </tbody>\n",
       "</table>\n",
       "<p>244954 rows × 3 columns</p>\n",
       "</div>"
      ],
      "text/plain": [
       "                                    hash  hora  consumo_memoria\n",
       "0       ce4468ee8389709c20b40ed1c09a36c1     9       1995317248\n",
       "1       0dcf61756612a9edfc06d254802e4b28     9       2037846016\n",
       "2       d1ba4017a8bc09b01bae73e48dba56ea     9        831680512\n",
       "3       19d9963e0460ed384a60ef724eb79ba0     9       2014523392\n",
       "4       1e300feefc2f05d7e69bbae4dd0a7bda     9       2039582720\n",
       "...                                  ...   ...              ...\n",
       "244949  d17ad87eb3f09d8d50ace42558838b09     1          1912832\n",
       "244950  d7eb36ec208f3ce4320866a5a1b98913     1          1978368\n",
       "244951  0da32886ef25a6f5d6c81d4562215fbd     1          1871872\n",
       "244952  7b4176d7c0eb25ec1f031eef91e46e7d     1          2015232\n",
       "244953  f01c2aafd9c5b5f4b168c4bfc0643900     1          1900544\n",
       "\n",
       "[244954 rows x 3 columns]"
      ]
     },
     "execution_count": 27,
     "metadata": {},
     "output_type": "execute_result"
    }
   ],
   "source": [
    "## Agregação dos dados de Memória\n",
    "path_processados_memoria = './dados/metrics/memoria/processados'\n",
    "csv_file_consolidado_memoria = f'{path_processados_memoria}/consolidado_memoria.csv'\n",
    "df_consolidado_memoria = pd.read_csv(csv_file_consolidado_memoria, sep=',',decimal='.')\n",
    "df_consolidado_memoria = df_consolidado_memoria.rename(columns = {'6':'hash', '5':'hora', '4':'consumo_memoria'})\n",
    "df_consolidado_memoria"
   ]
  },
  {
   "cell_type": "code",
   "execution_count": 28,
   "metadata": {},
   "outputs": [
    {
     "data": {
      "text/html": [
       "<div>\n",
       "<style scoped>\n",
       "    .dataframe tbody tr th:only-of-type {\n",
       "        vertical-align: middle;\n",
       "    }\n",
       "\n",
       "    .dataframe tbody tr th {\n",
       "        vertical-align: top;\n",
       "    }\n",
       "\n",
       "    .dataframe thead th {\n",
       "        text-align: right;\n",
       "    }\n",
       "</style>\n",
       "<table border=\"1\" class=\"dataframe\">\n",
       "  <thead>\n",
       "    <tr style=\"text-align: right;\">\n",
       "      <th></th>\n",
       "      <th>hash</th>\n",
       "      <th>hora</th>\n",
       "      <th>consumo_memoria</th>\n",
       "    </tr>\n",
       "  </thead>\n",
       "  <tbody>\n",
       "    <tr>\n",
       "      <th>0</th>\n",
       "      <td>ce4468ee8389709c20b40ed1c09a36c1</td>\n",
       "      <td>9</td>\n",
       "      <td>1995317248</td>\n",
       "    </tr>\n",
       "    <tr>\n",
       "      <th>1</th>\n",
       "      <td>0dcf61756612a9edfc06d254802e4b28</td>\n",
       "      <td>9</td>\n",
       "      <td>2037846016</td>\n",
       "    </tr>\n",
       "    <tr>\n",
       "      <th>2</th>\n",
       "      <td>d1ba4017a8bc09b01bae73e48dba56ea</td>\n",
       "      <td>9</td>\n",
       "      <td>831680512</td>\n",
       "    </tr>\n",
       "    <tr>\n",
       "      <th>3</th>\n",
       "      <td>19d9963e0460ed384a60ef724eb79ba0</td>\n",
       "      <td>9</td>\n",
       "      <td>2014523392</td>\n",
       "    </tr>\n",
       "    <tr>\n",
       "      <th>4</th>\n",
       "      <td>1e300feefc2f05d7e69bbae4dd0a7bda</td>\n",
       "      <td>9</td>\n",
       "      <td>2039582720</td>\n",
       "    </tr>\n",
       "    <tr>\n",
       "      <th>...</th>\n",
       "      <td>...</td>\n",
       "      <td>...</td>\n",
       "      <td>...</td>\n",
       "    </tr>\n",
       "    <tr>\n",
       "      <th>244949</th>\n",
       "      <td>d17ad87eb3f09d8d50ace42558838b09</td>\n",
       "      <td>1</td>\n",
       "      <td>1912832</td>\n",
       "    </tr>\n",
       "    <tr>\n",
       "      <th>244950</th>\n",
       "      <td>d7eb36ec208f3ce4320866a5a1b98913</td>\n",
       "      <td>1</td>\n",
       "      <td>1978368</td>\n",
       "    </tr>\n",
       "    <tr>\n",
       "      <th>244951</th>\n",
       "      <td>0da32886ef25a6f5d6c81d4562215fbd</td>\n",
       "      <td>1</td>\n",
       "      <td>1871872</td>\n",
       "    </tr>\n",
       "    <tr>\n",
       "      <th>244952</th>\n",
       "      <td>7b4176d7c0eb25ec1f031eef91e46e7d</td>\n",
       "      <td>1</td>\n",
       "      <td>2015232</td>\n",
       "    </tr>\n",
       "    <tr>\n",
       "      <th>244953</th>\n",
       "      <td>f01c2aafd9c5b5f4b168c4bfc0643900</td>\n",
       "      <td>1</td>\n",
       "      <td>1900544</td>\n",
       "    </tr>\n",
       "  </tbody>\n",
       "</table>\n",
       "<p>244954 rows × 3 columns</p>\n",
       "</div>"
      ],
      "text/plain": [
       "                                    hash  hora  consumo_memoria\n",
       "0       ce4468ee8389709c20b40ed1c09a36c1     9       1995317248\n",
       "1       0dcf61756612a9edfc06d254802e4b28     9       2037846016\n",
       "2       d1ba4017a8bc09b01bae73e48dba56ea     9        831680512\n",
       "3       19d9963e0460ed384a60ef724eb79ba0     9       2014523392\n",
       "4       1e300feefc2f05d7e69bbae4dd0a7bda     9       2039582720\n",
       "...                                  ...   ...              ...\n",
       "244949  d17ad87eb3f09d8d50ace42558838b09     1          1912832\n",
       "244950  d7eb36ec208f3ce4320866a5a1b98913     1          1978368\n",
       "244951  0da32886ef25a6f5d6c81d4562215fbd     1          1871872\n",
       "244952  7b4176d7c0eb25ec1f031eef91e46e7d     1          2015232\n",
       "244953  f01c2aafd9c5b5f4b168c4bfc0643900     1          1900544\n",
       "\n",
       "[244954 rows x 3 columns]"
      ]
     },
     "execution_count": 28,
     "metadata": {},
     "output_type": "execute_result"
    }
   ],
   "source": [
    "# Remove valores de coletas zeradas\n",
    "df_consolidado_memoria = df_consolidado_memoria[df_consolidado_memoria['consumo_memoria'] > 0]\n",
    "df_consolidado_memoria"
   ]
  },
  {
   "cell_type": "code",
   "execution_count": 29,
   "metadata": {},
   "outputs": [
    {
     "data": {
      "text/html": [
       "<div>\n",
       "<style scoped>\n",
       "    .dataframe tbody tr th:only-of-type {\n",
       "        vertical-align: middle;\n",
       "    }\n",
       "\n",
       "    .dataframe tbody tr th {\n",
       "        vertical-align: top;\n",
       "    }\n",
       "\n",
       "    .dataframe thead th {\n",
       "        text-align: right;\n",
       "    }\n",
       "</style>\n",
       "<table border=\"1\" class=\"dataframe\">\n",
       "  <thead>\n",
       "    <tr style=\"text-align: right;\">\n",
       "      <th></th>\n",
       "      <th>hash</th>\n",
       "      <th>consumo_memoria</th>\n",
       "    </tr>\n",
       "  </thead>\n",
       "  <tbody>\n",
       "    <tr>\n",
       "      <th>0</th>\n",
       "      <td>ce4468ee8389709c20b40ed1c09a36c1</td>\n",
       "      <td>1995317248</td>\n",
       "    </tr>\n",
       "    <tr>\n",
       "      <th>1</th>\n",
       "      <td>0dcf61756612a9edfc06d254802e4b28</td>\n",
       "      <td>2037846016</td>\n",
       "    </tr>\n",
       "    <tr>\n",
       "      <th>2</th>\n",
       "      <td>d1ba4017a8bc09b01bae73e48dba56ea</td>\n",
       "      <td>831680512</td>\n",
       "    </tr>\n",
       "    <tr>\n",
       "      <th>3</th>\n",
       "      <td>19d9963e0460ed384a60ef724eb79ba0</td>\n",
       "      <td>2014523392</td>\n",
       "    </tr>\n",
       "    <tr>\n",
       "      <th>4</th>\n",
       "      <td>1e300feefc2f05d7e69bbae4dd0a7bda</td>\n",
       "      <td>2039582720</td>\n",
       "    </tr>\n",
       "    <tr>\n",
       "      <th>...</th>\n",
       "      <td>...</td>\n",
       "      <td>...</td>\n",
       "    </tr>\n",
       "    <tr>\n",
       "      <th>244949</th>\n",
       "      <td>d17ad87eb3f09d8d50ace42558838b09</td>\n",
       "      <td>1912832</td>\n",
       "    </tr>\n",
       "    <tr>\n",
       "      <th>244950</th>\n",
       "      <td>d7eb36ec208f3ce4320866a5a1b98913</td>\n",
       "      <td>1978368</td>\n",
       "    </tr>\n",
       "    <tr>\n",
       "      <th>244951</th>\n",
       "      <td>0da32886ef25a6f5d6c81d4562215fbd</td>\n",
       "      <td>1871872</td>\n",
       "    </tr>\n",
       "    <tr>\n",
       "      <th>244952</th>\n",
       "      <td>7b4176d7c0eb25ec1f031eef91e46e7d</td>\n",
       "      <td>2015232</td>\n",
       "    </tr>\n",
       "    <tr>\n",
       "      <th>244953</th>\n",
       "      <td>f01c2aafd9c5b5f4b168c4bfc0643900</td>\n",
       "      <td>1900544</td>\n",
       "    </tr>\n",
       "  </tbody>\n",
       "</table>\n",
       "<p>244954 rows × 2 columns</p>\n",
       "</div>"
      ],
      "text/plain": [
       "                                    hash  consumo_memoria\n",
       "0       ce4468ee8389709c20b40ed1c09a36c1       1995317248\n",
       "1       0dcf61756612a9edfc06d254802e4b28       2037846016\n",
       "2       d1ba4017a8bc09b01bae73e48dba56ea        831680512\n",
       "3       19d9963e0460ed384a60ef724eb79ba0       2014523392\n",
       "4       1e300feefc2f05d7e69bbae4dd0a7bda       2039582720\n",
       "...                                  ...              ...\n",
       "244949  d17ad87eb3f09d8d50ace42558838b09          1912832\n",
       "244950  d7eb36ec208f3ce4320866a5a1b98913          1978368\n",
       "244951  0da32886ef25a6f5d6c81d4562215fbd          1871872\n",
       "244952  7b4176d7c0eb25ec1f031eef91e46e7d          2015232\n",
       "244953  f01c2aafd9c5b5f4b168c4bfc0643900          1900544\n",
       "\n",
       "[244954 rows x 2 columns]"
      ]
     },
     "execution_count": 29,
     "metadata": {},
     "output_type": "execute_result"
    }
   ],
   "source": [
    "# Exclui a coluna de hora\n",
    "del df_consolidado_memoria['hora']\n",
    "df_consolidado_memoria"
   ]
  },
  {
   "cell_type": "code",
   "execution_count": 30,
   "metadata": {},
   "outputs": [
    {
     "data": {
      "text/html": [
       "<div>\n",
       "<style scoped>\n",
       "    .dataframe tbody tr th:only-of-type {\n",
       "        vertical-align: middle;\n",
       "    }\n",
       "\n",
       "    .dataframe tbody tr th {\n",
       "        vertical-align: top;\n",
       "    }\n",
       "\n",
       "    .dataframe thead th {\n",
       "        text-align: right;\n",
       "    }\n",
       "</style>\n",
       "<table border=\"1\" class=\"dataframe\">\n",
       "  <thead>\n",
       "    <tr style=\"text-align: right;\">\n",
       "      <th></th>\n",
       "      <th>consumo_memoria</th>\n",
       "    </tr>\n",
       "  </thead>\n",
       "  <tbody>\n",
       "    <tr>\n",
       "      <th>count</th>\n",
       "      <td>2.449540e+05</td>\n",
       "    </tr>\n",
       "    <tr>\n",
       "      <th>mean</th>\n",
       "      <td>4.630007e+08</td>\n",
       "    </tr>\n",
       "    <tr>\n",
       "      <th>std</th>\n",
       "      <td>7.435342e+08</td>\n",
       "    </tr>\n",
       "    <tr>\n",
       "      <th>min</th>\n",
       "      <td>1.925120e+05</td>\n",
       "    </tr>\n",
       "    <tr>\n",
       "      <th>25%</th>\n",
       "      <td>4.503962e+07</td>\n",
       "    </tr>\n",
       "    <tr>\n",
       "      <th>50%</th>\n",
       "      <td>2.522767e+08</td>\n",
       "    </tr>\n",
       "    <tr>\n",
       "      <th>75%</th>\n",
       "      <td>6.023414e+08</td>\n",
       "    </tr>\n",
       "    <tr>\n",
       "      <th>max</th>\n",
       "      <td>2.508991e+10</td>\n",
       "    </tr>\n",
       "  </tbody>\n",
       "</table>\n",
       "</div>"
      ],
      "text/plain": [
       "       consumo_memoria\n",
       "count     2.449540e+05\n",
       "mean      4.630007e+08\n",
       "std       7.435342e+08\n",
       "min       1.925120e+05\n",
       "25%       4.503962e+07\n",
       "50%       2.522767e+08\n",
       "75%       6.023414e+08\n",
       "max       2.508991e+10"
      ]
     },
     "execution_count": 30,
     "metadata": {},
     "output_type": "execute_result"
    }
   ],
   "source": [
    "## Estatística do dado\n",
    "df_consolidado_memoria.describe()"
   ]
  },
  {
   "cell_type": "code",
   "execution_count": 31,
   "metadata": {},
   "outputs": [
    {
     "data": {
      "text/html": [
       "<div>\n",
       "<style scoped>\n",
       "    .dataframe tbody tr th:only-of-type {\n",
       "        vertical-align: middle;\n",
       "    }\n",
       "\n",
       "    .dataframe tbody tr th {\n",
       "        vertical-align: top;\n",
       "    }\n",
       "\n",
       "    .dataframe thead th {\n",
       "        text-align: right;\n",
       "    }\n",
       "</style>\n",
       "<table border=\"1\" class=\"dataframe\">\n",
       "  <thead>\n",
       "    <tr style=\"text-align: right;\">\n",
       "      <th></th>\n",
       "      <th>hash</th>\n",
       "      <th>pico_memoria</th>\n",
       "    </tr>\n",
       "  </thead>\n",
       "  <tbody>\n",
       "    <tr>\n",
       "      <th>0</th>\n",
       "      <td>0000c672f5e96d5c7078db295c99dd1f</td>\n",
       "      <td>465.085938</td>\n",
       "    </tr>\n",
       "    <tr>\n",
       "      <th>1</th>\n",
       "      <td>00115d136a63167e961d60147809aff7</td>\n",
       "      <td>204.296875</td>\n",
       "    </tr>\n",
       "    <tr>\n",
       "      <th>2</th>\n",
       "      <td>001b37c1ee0862b0326ee3571c4f05de</td>\n",
       "      <td>55.792969</td>\n",
       "    </tr>\n",
       "    <tr>\n",
       "      <th>3</th>\n",
       "      <td>0028c4dfdf4f19f3914cc5ca96f7b3d4</td>\n",
       "      <td>636.355469</td>\n",
       "    </tr>\n",
       "    <tr>\n",
       "      <th>4</th>\n",
       "      <td>002b850fcc1b96f2b1b0621d6b5ee97b</td>\n",
       "      <td>1031.480469</td>\n",
       "    </tr>\n",
       "    <tr>\n",
       "      <th>...</th>\n",
       "      <td>...</td>\n",
       "      <td>...</td>\n",
       "    </tr>\n",
       "    <tr>\n",
       "      <th>12502</th>\n",
       "      <td>ffdd3f9ace04c87c5360e682942cbe80</td>\n",
       "      <td>1694.851562</td>\n",
       "    </tr>\n",
       "    <tr>\n",
       "      <th>12503</th>\n",
       "      <td>ffdf76b5e9458fb21062d50557d7f8fa</td>\n",
       "      <td>47.679688</td>\n",
       "    </tr>\n",
       "    <tr>\n",
       "      <th>12504</th>\n",
       "      <td>ffe759fe7996f523feb279a03a48233a</td>\n",
       "      <td>4.664062</td>\n",
       "    </tr>\n",
       "    <tr>\n",
       "      <th>12505</th>\n",
       "      <td>ffee4328dfcdb0cc27e380c4339553e6</td>\n",
       "      <td>2002.929688</td>\n",
       "    </tr>\n",
       "    <tr>\n",
       "      <th>12506</th>\n",
       "      <td>fffccdea8e33694fe0152305f4b359ef</td>\n",
       "      <td>236.222656</td>\n",
       "    </tr>\n",
       "  </tbody>\n",
       "</table>\n",
       "<p>12507 rows × 2 columns</p>\n",
       "</div>"
      ],
      "text/plain": [
       "                                   hash  pico_memoria\n",
       "0      0000c672f5e96d5c7078db295c99dd1f    465.085938\n",
       "1      00115d136a63167e961d60147809aff7    204.296875\n",
       "2      001b37c1ee0862b0326ee3571c4f05de     55.792969\n",
       "3      0028c4dfdf4f19f3914cc5ca96f7b3d4    636.355469\n",
       "4      002b850fcc1b96f2b1b0621d6b5ee97b   1031.480469\n",
       "...                                 ...           ...\n",
       "12502  ffdd3f9ace04c87c5360e682942cbe80   1694.851562\n",
       "12503  ffdf76b5e9458fb21062d50557d7f8fa     47.679688\n",
       "12504  ffe759fe7996f523feb279a03a48233a      4.664062\n",
       "12505  ffee4328dfcdb0cc27e380c4339553e6   2002.929688\n",
       "12506  fffccdea8e33694fe0152305f4b359ef    236.222656\n",
       "\n",
       "[12507 rows x 2 columns]"
      ]
     },
     "execution_count": 31,
     "metadata": {},
     "output_type": "execute_result"
    }
   ],
   "source": [
    "# Pico de Memória\n",
    "df_group_by_max_memoria = df_consolidado_memoria.groupby(['hash']).max()\n",
    "# Reseta o índice\n",
    "df_group_by_max_memoria.reset_index(inplace=True)\n",
    "df_group_by_max_memoria = df_group_by_max_memoria.rename(columns = {'consumo_memoria':'pico_memoria'})\n",
    "# Transforma de bytes para MB (/ (1024 * 1024)\n",
    "df_group_by_max_memoria['pico_memoria'] = df_group_by_max_memoria['pico_memoria'] / (1024 * 1024)\n",
    "df_group_by_max_memoria"
   ]
  },
  {
   "cell_type": "code",
   "execution_count": 32,
   "metadata": {},
   "outputs": [
    {
     "data": {
      "text/plain": [
       "<AxesSubplot:ylabel='memoria (Mb)'>"
      ]
     },
     "execution_count": 32,
     "metadata": {},
     "output_type": "execute_result"
    },
    {
     "data": {
      "image/png": "[encoded data removed]",
      "text/plain": [
       "<Figure size 432x288 with 1 Axes>"
      ]
     },
     "metadata": {
      "needs_background": "light"
     },
     "output_type": "display_data"
    }
   ],
   "source": [
    "df_group_by_max_memoria.plot(ylabel='memoria (Mb)')"
   ]
  },
  {
   "cell_type": "code",
   "execution_count": 33,
   "metadata": {},
   "outputs": [
    {
     "data": {
      "text/html": [
       "<div>\n",
       "<style scoped>\n",
       "    .dataframe tbody tr th:only-of-type {\n",
       "        vertical-align: middle;\n",
       "    }\n",
       "\n",
       "    .dataframe tbody tr th {\n",
       "        vertical-align: top;\n",
       "    }\n",
       "\n",
       "    .dataframe thead th {\n",
       "        text-align: right;\n",
       "    }\n",
       "</style>\n",
       "<table border=\"1\" class=\"dataframe\">\n",
       "  <thead>\n",
       "    <tr style=\"text-align: right;\">\n",
       "      <th></th>\n",
       "      <th>hash</th>\n",
       "      <th>mediana_memoria</th>\n",
       "    </tr>\n",
       "  </thead>\n",
       "  <tbody>\n",
       "    <tr>\n",
       "      <th>0</th>\n",
       "      <td>0000c672f5e96d5c7078db295c99dd1f</td>\n",
       "      <td>463.753906</td>\n",
       "    </tr>\n",
       "    <tr>\n",
       "      <th>1</th>\n",
       "      <td>00115d136a63167e961d60147809aff7</td>\n",
       "      <td>204.269531</td>\n",
       "    </tr>\n",
       "    <tr>\n",
       "      <th>2</th>\n",
       "      <td>001b37c1ee0862b0326ee3571c4f05de</td>\n",
       "      <td>54.570312</td>\n",
       "    </tr>\n",
       "    <tr>\n",
       "      <th>3</th>\n",
       "      <td>0028c4dfdf4f19f3914cc5ca96f7b3d4</td>\n",
       "      <td>636.351562</td>\n",
       "    </tr>\n",
       "    <tr>\n",
       "      <th>4</th>\n",
       "      <td>002b850fcc1b96f2b1b0621d6b5ee97b</td>\n",
       "      <td>1031.480469</td>\n",
       "    </tr>\n",
       "    <tr>\n",
       "      <th>...</th>\n",
       "      <td>...</td>\n",
       "      <td>...</td>\n",
       "    </tr>\n",
       "    <tr>\n",
       "      <th>12502</th>\n",
       "      <td>ffdd3f9ace04c87c5360e682942cbe80</td>\n",
       "      <td>1678.222656</td>\n",
       "    </tr>\n",
       "    <tr>\n",
       "      <th>12503</th>\n",
       "      <td>ffdf76b5e9458fb21062d50557d7f8fa</td>\n",
       "      <td>47.679688</td>\n",
       "    </tr>\n",
       "    <tr>\n",
       "      <th>12504</th>\n",
       "      <td>ffe759fe7996f523feb279a03a48233a</td>\n",
       "      <td>4.656250</td>\n",
       "    </tr>\n",
       "    <tr>\n",
       "      <th>12505</th>\n",
       "      <td>ffee4328dfcdb0cc27e380c4339553e6</td>\n",
       "      <td>1995.833984</td>\n",
       "    </tr>\n",
       "    <tr>\n",
       "      <th>12506</th>\n",
       "      <td>fffccdea8e33694fe0152305f4b359ef</td>\n",
       "      <td>236.222656</td>\n",
       "    </tr>\n",
       "  </tbody>\n",
       "</table>\n",
       "<p>12507 rows × 2 columns</p>\n",
       "</div>"
      ],
      "text/plain": [
       "                                   hash  mediana_memoria\n",
       "0      0000c672f5e96d5c7078db295c99dd1f       463.753906\n",
       "1      00115d136a63167e961d60147809aff7       204.269531\n",
       "2      001b37c1ee0862b0326ee3571c4f05de        54.570312\n",
       "3      0028c4dfdf4f19f3914cc5ca96f7b3d4       636.351562\n",
       "4      002b850fcc1b96f2b1b0621d6b5ee97b      1031.480469\n",
       "...                                 ...              ...\n",
       "12502  ffdd3f9ace04c87c5360e682942cbe80      1678.222656\n",
       "12503  ffdf76b5e9458fb21062d50557d7f8fa        47.679688\n",
       "12504  ffe759fe7996f523feb279a03a48233a         4.656250\n",
       "12505  ffee4328dfcdb0cc27e380c4339553e6      1995.833984\n",
       "12506  fffccdea8e33694fe0152305f4b359ef       236.222656\n",
       "\n",
       "[12507 rows x 2 columns]"
      ]
     },
     "execution_count": 33,
     "metadata": {},
     "output_type": "execute_result"
    }
   ],
   "source": [
    "# Mediana de Consumo de Memória\n",
    "df_group_by_med_memoria = df_consolidado_memoria.groupby(['hash']).median()\n",
    "# Reseta o índice\n",
    "df_group_by_med_memoria.reset_index(inplace=True)\n",
    "df_group_by_med_memoria = df_group_by_med_memoria.rename(columns = {'consumo_memoria':'mediana_memoria'})\n",
    "# Transforma de bytes para MB (/ (1024 * 1024)\n",
    "df_group_by_med_memoria['mediana_memoria'] = df_group_by_med_memoria['mediana_memoria'] / (1024 * 1024)\n",
    "df_group_by_med_memoria"
   ]
  },
  {
   "cell_type": "code",
   "execution_count": 34,
   "metadata": {},
   "outputs": [
    {
     "data": {
      "text/plain": [
       "<AxesSubplot:ylabel='memoria (Mb)'>"
      ]
     },
     "execution_count": 34,
     "metadata": {},
     "output_type": "execute_result"
    },
    {
     "data": {
      "image/png": "[encoded data removed]",
      "text/plain": [
       "<Figure size 432x288 with 1 Axes>"
      ]
     },
     "metadata": {
      "needs_background": "light"
     },
     "output_type": "display_data"
    }
   ],
   "source": [
    "df_group_by_med_memoria.plot(ylabel='memoria (Mb)')"
   ]
  },
  {
   "cell_type": "markdown",
   "metadata": {},
   "source": [
    "### Agregação dos valores de consumo de CPU e Memória"
   ]
  },
  {
   "cell_type": "code",
   "execution_count": 92,
   "metadata": {},
   "outputs": [
    {
     "data": {
      "text/html": [
       "<div>\n",
       "<style scoped>\n",
       "    .dataframe tbody tr th:only-of-type {\n",
       "        vertical-align: middle;\n",
       "    }\n",
       "\n",
       "    .dataframe tbody tr th {\n",
       "        vertical-align: top;\n",
       "    }\n",
       "\n",
       "    .dataframe thead th {\n",
       "        text-align: right;\n",
       "    }\n",
       "</style>\n",
       "<table border=\"1\" class=\"dataframe\">\n",
       "  <thead>\n",
       "    <tr style=\"text-align: right;\">\n",
       "      <th></th>\n",
       "      <th>hash</th>\n",
       "      <th>mediana_cpu</th>\n",
       "      <th>pico_cpu</th>\n",
       "      <th>mediana_memoria</th>\n",
       "      <th>pico_memoria</th>\n",
       "    </tr>\n",
       "  </thead>\n",
       "  <tbody>\n",
       "    <tr>\n",
       "      <th>0</th>\n",
       "      <td>0000c672f5e96d5c7078db295c99dd1f</td>\n",
       "      <td>6.028352</td>\n",
       "      <td>8.738411</td>\n",
       "      <td>463.753906</td>\n",
       "      <td>465.085938</td>\n",
       "    </tr>\n",
       "    <tr>\n",
       "      <th>1</th>\n",
       "      <td>00115d136a63167e961d60147809aff7</td>\n",
       "      <td>184.985555</td>\n",
       "      <td>315.642122</td>\n",
       "      <td>204.269531</td>\n",
       "      <td>204.296875</td>\n",
       "    </tr>\n",
       "    <tr>\n",
       "      <th>2</th>\n",
       "      <td>001b37c1ee0862b0326ee3571c4f05de</td>\n",
       "      <td>0.079422</td>\n",
       "      <td>0.084502</td>\n",
       "      <td>54.570312</td>\n",
       "      <td>55.792969</td>\n",
       "    </tr>\n",
       "    <tr>\n",
       "      <th>3</th>\n",
       "      <td>0028c4dfdf4f19f3914cc5ca96f7b3d4</td>\n",
       "      <td>0.948848</td>\n",
       "      <td>1.106187</td>\n",
       "      <td>636.351562</td>\n",
       "      <td>636.355469</td>\n",
       "    </tr>\n",
       "    <tr>\n",
       "      <th>4</th>\n",
       "      <td>002b850fcc1b96f2b1b0621d6b5ee97b</td>\n",
       "      <td>1.719575</td>\n",
       "      <td>1.719575</td>\n",
       "      <td>1031.480469</td>\n",
       "      <td>1031.480469</td>\n",
       "    </tr>\n",
       "    <tr>\n",
       "      <th>...</th>\n",
       "      <td>...</td>\n",
       "      <td>...</td>\n",
       "      <td>...</td>\n",
       "      <td>...</td>\n",
       "      <td>...</td>\n",
       "    </tr>\n",
       "    <tr>\n",
       "      <th>10500</th>\n",
       "      <td>ffdd3f9ace04c87c5360e682942cbe80</td>\n",
       "      <td>3.362830</td>\n",
       "      <td>15.462593</td>\n",
       "      <td>1678.222656</td>\n",
       "      <td>1694.851562</td>\n",
       "    </tr>\n",
       "    <tr>\n",
       "      <th>10501</th>\n",
       "      <td>ffdf76b5e9458fb21062d50557d7f8fa</td>\n",
       "      <td>0.126827</td>\n",
       "      <td>0.126827</td>\n",
       "      <td>47.679688</td>\n",
       "      <td>47.679688</td>\n",
       "    </tr>\n",
       "    <tr>\n",
       "      <th>10502</th>\n",
       "      <td>ffe759fe7996f523feb279a03a48233a</td>\n",
       "      <td>0.007061</td>\n",
       "      <td>0.009233</td>\n",
       "      <td>4.656250</td>\n",
       "      <td>4.664062</td>\n",
       "    </tr>\n",
       "    <tr>\n",
       "      <th>10503</th>\n",
       "      <td>ffee4328dfcdb0cc27e380c4339553e6</td>\n",
       "      <td>66.968071</td>\n",
       "      <td>528.148654</td>\n",
       "      <td>1995.833984</td>\n",
       "      <td>2002.929688</td>\n",
       "    </tr>\n",
       "    <tr>\n",
       "      <th>10504</th>\n",
       "      <td>fffccdea8e33694fe0152305f4b359ef</td>\n",
       "      <td>27.479527</td>\n",
       "      <td>27.479527</td>\n",
       "      <td>236.222656</td>\n",
       "      <td>236.222656</td>\n",
       "    </tr>\n",
       "  </tbody>\n",
       "</table>\n",
       "<p>10505 rows × 5 columns</p>\n",
       "</div>"
      ],
      "text/plain": [
       "                                   hash  mediana_cpu    pico_cpu  \\\n",
       "0      0000c672f5e96d5c7078db295c99dd1f     6.028352    8.738411   \n",
       "1      00115d136a63167e961d60147809aff7   184.985555  315.642122   \n",
       "2      001b37c1ee0862b0326ee3571c4f05de     0.079422    0.084502   \n",
       "3      0028c4dfdf4f19f3914cc5ca96f7b3d4     0.948848    1.106187   \n",
       "4      002b850fcc1b96f2b1b0621d6b5ee97b     1.719575    1.719575   \n",
       "...                                 ...          ...         ...   \n",
       "10500  ffdd3f9ace04c87c5360e682942cbe80     3.362830   15.462593   \n",
       "10501  ffdf76b5e9458fb21062d50557d7f8fa     0.126827    0.126827   \n",
       "10502  ffe759fe7996f523feb279a03a48233a     0.007061    0.009233   \n",
       "10503  ffee4328dfcdb0cc27e380c4339553e6    66.968071  528.148654   \n",
       "10504  fffccdea8e33694fe0152305f4b359ef    27.479527   27.479527   \n",
       "\n",
       "       mediana_memoria  pico_memoria  \n",
       "0           463.753906    465.085938  \n",
       "1           204.269531    204.296875  \n",
       "2            54.570312     55.792969  \n",
       "3           636.351562    636.355469  \n",
       "4          1031.480469   1031.480469  \n",
       "...                ...           ...  \n",
       "10500      1678.222656   1694.851562  \n",
       "10501        47.679688     47.679688  \n",
       "10502         4.656250      4.664062  \n",
       "10503      1995.833984   2002.929688  \n",
       "10504       236.222656    236.222656  \n",
       "\n",
       "[10505 rows x 5 columns]"
      ]
     },
     "execution_count": 92,
     "metadata": {},
     "output_type": "execute_result"
    }
   ],
   "source": [
    "# Realizando o join do consumo de memória e cpu\n",
    "# Agregação das colunas de valores mediana e pico da CPU\n",
    "df_group_by_cpu = pd.concat([df_group_by_med_cpu.set_index('hash'),df_group_by_max_cpu.set_index('hash')], axis=1, join='inner').reset_index()\n",
    "\n",
    "# Agregação das colunas de valores mediana e pico da Memoria\n",
    "df_group_by_memoria = pd.concat([df_group_by_med_memoria.set_index('hash'),df_group_by_max_memoria.set_index('hash')], axis=1, join='inner').reset_index()\n",
    "\n",
    "# Agregação das colunas de CPU e Memoria\n",
    "df_group_by_cpu_memoria = pd.concat([df_group_by_cpu.set_index('hash'),df_group_by_memoria.set_index('hash')], axis=1, join='inner').reset_index()\n",
    "df_group_by_cpu_memoria"
   ]
  },
  {
   "cell_type": "code",
   "execution_count": 93,
   "metadata": {},
   "outputs": [
    {
     "data": {
      "text/html": [
       "<div>\n",
       "<style scoped>\n",
       "    .dataframe tbody tr th:only-of-type {\n",
       "        vertical-align: middle;\n",
       "    }\n",
       "\n",
       "    .dataframe tbody tr th {\n",
       "        vertical-align: top;\n",
       "    }\n",
       "\n",
       "    .dataframe thead th {\n",
       "        text-align: right;\n",
       "    }\n",
       "</style>\n",
       "<table border=\"1\" class=\"dataframe\">\n",
       "  <thead>\n",
       "    <tr style=\"text-align: right;\">\n",
       "      <th></th>\n",
       "      <th>hash</th>\n",
       "      <th>mediana_cpu</th>\n",
       "      <th>pico_cpu</th>\n",
       "      <th>mediana_memoria</th>\n",
       "      <th>pico_memoria</th>\n",
       "    </tr>\n",
       "  </thead>\n",
       "  <tbody>\n",
       "    <tr>\n",
       "      <th>0</th>\n",
       "      <td>0000c672f5e96d5c7078db295c99dd1f</td>\n",
       "      <td>6.028352</td>\n",
       "      <td>8.738411</td>\n",
       "      <td>463.753906</td>\n",
       "      <td>465.085938</td>\n",
       "    </tr>\n",
       "    <tr>\n",
       "      <th>1</th>\n",
       "      <td>00115d136a63167e961d60147809aff7</td>\n",
       "      <td>184.985555</td>\n",
       "      <td>315.642122</td>\n",
       "      <td>204.269531</td>\n",
       "      <td>204.296875</td>\n",
       "    </tr>\n",
       "    <tr>\n",
       "      <th>2</th>\n",
       "      <td>001b37c1ee0862b0326ee3571c4f05de</td>\n",
       "      <td>0.079422</td>\n",
       "      <td>0.084502</td>\n",
       "      <td>54.570312</td>\n",
       "      <td>55.792969</td>\n",
       "    </tr>\n",
       "    <tr>\n",
       "      <th>3</th>\n",
       "      <td>0028c4dfdf4f19f3914cc5ca96f7b3d4</td>\n",
       "      <td>0.948848</td>\n",
       "      <td>1.106187</td>\n",
       "      <td>636.351562</td>\n",
       "      <td>636.355469</td>\n",
       "    </tr>\n",
       "    <tr>\n",
       "      <th>4</th>\n",
       "      <td>002b850fcc1b96f2b1b0621d6b5ee97b</td>\n",
       "      <td>1.719575</td>\n",
       "      <td>1.719575</td>\n",
       "      <td>1031.480469</td>\n",
       "      <td>1031.480469</td>\n",
       "    </tr>\n",
       "    <tr>\n",
       "      <th>...</th>\n",
       "      <td>...</td>\n",
       "      <td>...</td>\n",
       "      <td>...</td>\n",
       "      <td>...</td>\n",
       "      <td>...</td>\n",
       "    </tr>\n",
       "    <tr>\n",
       "      <th>10500</th>\n",
       "      <td>ffdd3f9ace04c87c5360e682942cbe80</td>\n",
       "      <td>3.362830</td>\n",
       "      <td>15.462593</td>\n",
       "      <td>1678.222656</td>\n",
       "      <td>1694.851562</td>\n",
       "    </tr>\n",
       "    <tr>\n",
       "      <th>10501</th>\n",
       "      <td>ffdf76b5e9458fb21062d50557d7f8fa</td>\n",
       "      <td>0.126827</td>\n",
       "      <td>0.126827</td>\n",
       "      <td>47.679688</td>\n",
       "      <td>47.679688</td>\n",
       "    </tr>\n",
       "    <tr>\n",
       "      <th>10502</th>\n",
       "      <td>ffe759fe7996f523feb279a03a48233a</td>\n",
       "      <td>0.007061</td>\n",
       "      <td>0.009233</td>\n",
       "      <td>4.656250</td>\n",
       "      <td>4.664062</td>\n",
       "    </tr>\n",
       "    <tr>\n",
       "      <th>10503</th>\n",
       "      <td>ffee4328dfcdb0cc27e380c4339553e6</td>\n",
       "      <td>66.968071</td>\n",
       "      <td>528.148654</td>\n",
       "      <td>1995.833984</td>\n",
       "      <td>2002.929688</td>\n",
       "    </tr>\n",
       "    <tr>\n",
       "      <th>10504</th>\n",
       "      <td>fffccdea8e33694fe0152305f4b359ef</td>\n",
       "      <td>27.479527</td>\n",
       "      <td>27.479527</td>\n",
       "      <td>236.222656</td>\n",
       "      <td>236.222656</td>\n",
       "    </tr>\n",
       "  </tbody>\n",
       "</table>\n",
       "<p>10505 rows × 5 columns</p>\n",
       "</div>"
      ],
      "text/plain": [
       "                                   hash  mediana_cpu    pico_cpu  \\\n",
       "0      0000c672f5e96d5c7078db295c99dd1f     6.028352    8.738411   \n",
       "1      00115d136a63167e961d60147809aff7   184.985555  315.642122   \n",
       "2      001b37c1ee0862b0326ee3571c4f05de     0.079422    0.084502   \n",
       "3      0028c4dfdf4f19f3914cc5ca96f7b3d4     0.948848    1.106187   \n",
       "4      002b850fcc1b96f2b1b0621d6b5ee97b     1.719575    1.719575   \n",
       "...                                 ...          ...         ...   \n",
       "10500  ffdd3f9ace04c87c5360e682942cbe80     3.362830   15.462593   \n",
       "10501  ffdf76b5e9458fb21062d50557d7f8fa     0.126827    0.126827   \n",
       "10502  ffe759fe7996f523feb279a03a48233a     0.007061    0.009233   \n",
       "10503  ffee4328dfcdb0cc27e380c4339553e6    66.968071  528.148654   \n",
       "10504  fffccdea8e33694fe0152305f4b359ef    27.479527   27.479527   \n",
       "\n",
       "       mediana_memoria  pico_memoria  \n",
       "0           463.753906    465.085938  \n",
       "1           204.269531    204.296875  \n",
       "2            54.570312     55.792969  \n",
       "3           636.351562    636.355469  \n",
       "4          1031.480469   1031.480469  \n",
       "...                ...           ...  \n",
       "10500      1678.222656   1694.851562  \n",
       "10501        47.679688     47.679688  \n",
       "10502         4.656250      4.664062  \n",
       "10503      1995.833984   2002.929688  \n",
       "10504       236.222656    236.222656  \n",
       "\n",
       "[10505 rows x 5 columns]"
      ]
     },
     "execution_count": 93,
     "metadata": {},
     "output_type": "execute_result"
    }
   ],
   "source": [
    "# Remove valores zerados de consumo de CPU e Memoria\n",
    "df_group_by_cpu_memoria = df_group_by_cpu_memoria[df_group_by_cpu_memoria['mediana_cpu'] > 0]\n",
    "df_group_by_cpu_memoria = df_group_by_cpu_memoria[df_group_by_cpu_memoria['mediana_memoria'] > 0]\n",
    "df_group_by_cpu_memoria"
   ]
  },
  {
   "cell_type": "code",
   "execution_count": 21,
   "metadata": {},
   "outputs": [
    {
     "data": {
      "text/html": [
       "<div>\n",
       "<style scoped>\n",
       "    .dataframe tbody tr th:only-of-type {\n",
       "        vertical-align: middle;\n",
       "    }\n",
       "\n",
       "    .dataframe tbody tr th {\n",
       "        vertical-align: top;\n",
       "    }\n",
       "\n",
       "    .dataframe thead th {\n",
       "        text-align: right;\n",
       "    }\n",
       "</style>\n",
       "<table border=\"1\" class=\"dataframe\">\n",
       "  <thead>\n",
       "    <tr style=\"text-align: right;\">\n",
       "      <th></th>\n",
       "      <th>hash</th>\n",
       "      <th>mediana_cpu</th>\n",
       "      <th>pico_cpu</th>\n",
       "      <th>mediana_memoria</th>\n",
       "      <th>pico_memoria</th>\n",
       "    </tr>\n",
       "  </thead>\n",
       "  <tbody>\n",
       "    <tr>\n",
       "      <th>1</th>\n",
       "      <td>00115d136a63167e961d60147809aff7</td>\n",
       "      <td>184.985555</td>\n",
       "      <td>315.642122</td>\n",
       "      <td>204.269531</td>\n",
       "      <td>204.296875</td>\n",
       "    </tr>\n",
       "    <tr>\n",
       "      <th>6</th>\n",
       "      <td>003a266a21249ee7746b74f29c93ed07</td>\n",
       "      <td>0.565047</td>\n",
       "      <td>0.642564</td>\n",
       "      <td>51.771484</td>\n",
       "      <td>52.007812</td>\n",
       "    </tr>\n",
       "    <tr>\n",
       "      <th>8</th>\n",
       "      <td>0043c4bdb50683091fe680d49a228cb0</td>\n",
       "      <td>2.047644</td>\n",
       "      <td>3.267156</td>\n",
       "      <td>144.992188</td>\n",
       "      <td>145.238281</td>\n",
       "    </tr>\n",
       "    <tr>\n",
       "      <th>9</th>\n",
       "      <td>004c9e7693790e99b0ca076df995ec6f</td>\n",
       "      <td>0.606720</td>\n",
       "      <td>0.716241</td>\n",
       "      <td>46.699219</td>\n",
       "      <td>46.718750</td>\n",
       "    </tr>\n",
       "    <tr>\n",
       "      <th>11</th>\n",
       "      <td>0051b976de3a404cb691cdf2efcfcca2</td>\n",
       "      <td>1.760725</td>\n",
       "      <td>2.363896</td>\n",
       "      <td>18.349609</td>\n",
       "      <td>18.480469</td>\n",
       "    </tr>\n",
       "    <tr>\n",
       "      <th>...</th>\n",
       "      <td>...</td>\n",
       "      <td>...</td>\n",
       "      <td>...</td>\n",
       "      <td>...</td>\n",
       "      <td>...</td>\n",
       "    </tr>\n",
       "    <tr>\n",
       "      <th>11656</th>\n",
       "      <td>ffad84696ca96a675719f57e0001adc9</td>\n",
       "      <td>2.150566</td>\n",
       "      <td>9.797645</td>\n",
       "      <td>5.191406</td>\n",
       "      <td>5.406250</td>\n",
       "    </tr>\n",
       "    <tr>\n",
       "      <th>11662</th>\n",
       "      <td>ffc59295b896b7b22280d0bf1be0699d</td>\n",
       "      <td>0.075469</td>\n",
       "      <td>0.112743</td>\n",
       "      <td>30.140625</td>\n",
       "      <td>30.441406</td>\n",
       "    </tr>\n",
       "    <tr>\n",
       "      <th>11668</th>\n",
       "      <td>ffdf76b5e9458fb21062d50557d7f8fa</td>\n",
       "      <td>0.126827</td>\n",
       "      <td>0.126827</td>\n",
       "      <td>47.679688</td>\n",
       "      <td>47.679688</td>\n",
       "    </tr>\n",
       "    <tr>\n",
       "      <th>11669</th>\n",
       "      <td>ffe759fe7996f523feb279a03a48233a</td>\n",
       "      <td>0.007061</td>\n",
       "      <td>0.009233</td>\n",
       "      <td>4.656250</td>\n",
       "      <td>4.664062</td>\n",
       "    </tr>\n",
       "    <tr>\n",
       "      <th>11671</th>\n",
       "      <td>fffccdea8e33694fe0152305f4b359ef</td>\n",
       "      <td>27.479527</td>\n",
       "      <td>27.479527</td>\n",
       "      <td>236.222656</td>\n",
       "      <td>236.222656</td>\n",
       "    </tr>\n",
       "  </tbody>\n",
       "</table>\n",
       "<p>4421 rows × 5 columns</p>\n",
       "</div>"
      ],
      "text/plain": [
       "                                   hash  mediana_cpu    pico_cpu  \\\n",
       "1      00115d136a63167e961d60147809aff7   184.985555  315.642122   \n",
       "6      003a266a21249ee7746b74f29c93ed07     0.565047    0.642564   \n",
       "8      0043c4bdb50683091fe680d49a228cb0     2.047644    3.267156   \n",
       "9      004c9e7693790e99b0ca076df995ec6f     0.606720    0.716241   \n",
       "11     0051b976de3a404cb691cdf2efcfcca2     1.760725    2.363896   \n",
       "...                                 ...          ...         ...   \n",
       "11656  ffad84696ca96a675719f57e0001adc9     2.150566    9.797645   \n",
       "11662  ffc59295b896b7b22280d0bf1be0699d     0.075469    0.112743   \n",
       "11668  ffdf76b5e9458fb21062d50557d7f8fa     0.126827    0.126827   \n",
       "11669  ffe759fe7996f523feb279a03a48233a     0.007061    0.009233   \n",
       "11671  fffccdea8e33694fe0152305f4b359ef    27.479527   27.479527   \n",
       "\n",
       "       mediana_memoria  pico_memoria  \n",
       "1           204.269531    204.296875  \n",
       "6            51.771484     52.007812  \n",
       "8           144.992188    145.238281  \n",
       "9            46.699219     46.718750  \n",
       "11           18.349609     18.480469  \n",
       "...                ...           ...  \n",
       "11656         5.191406      5.406250  \n",
       "11662        30.140625     30.441406  \n",
       "11668        47.679688     47.679688  \n",
       "11669         4.656250      4.664062  \n",
       "11671       236.222656    236.222656  \n",
       "\n",
       "[4421 rows x 5 columns]"
      ]
     },
     "execution_count": 21,
     "metadata": {},
     "output_type": "execute_result"
    }
   ],
   "source": [
    "# Remove valores que superam os limites dos flavors Memória > 4096GB\n",
    "# mCPU > 0.000\n",
    "# df_group_by_cpu_memoria = df_group_by_cpu_memoria[df_group_by_cpu_memoria['mediana_cpu'] < 500]\n",
    "# df_group_by_cpu_memoria = df_group_by_cpu_memoria[df_group_by_cpu_memoria['mediana_memoria'] < 256]\n",
    "# df_group_by_cpu_memoria"
   ]
  },
  {
   "cell_type": "code",
   "execution_count": 37,
   "metadata": {},
   "outputs": [
    {
     "data": {
      "text/plain": [
       "Text(0, 0.5, 'CPU mCPUs')"
      ]
     },
     "execution_count": 37,
     "metadata": {},
     "output_type": "execute_result"
    },
    {
     "data": {
      "image/png": "[encoded data removed]",
      "text/plain": [
       "<Figure size 432x288 with 1 Axes>"
      ]
     },
     "metadata": {
      "needs_background": "light"
     },
     "output_type": "display_data"
    }
   ],
   "source": [
    "plt.scatter(df_group_by_cpu_memoria['mediana_cpu'], df_group_by_cpu_memoria['pico_memoria']) #posicionamento dos eixos x e y\n",
    "plt.xlabel('Memória MB')\n",
    "plt.ylabel('CPU mCPUs')"
   ]
  },
  {
   "cell_type": "markdown",
   "metadata": {},
   "source": [
    "# Explorar os dados com KMeans\n",
    "- https://realpython.com/k-means-clustering-python/\n",
    "- https://towardsdatascience.com/machine-learning-algorithms-part-9-k-means-example-in-python-f2ad05ed5203\n",
    "\n",
    "\n",
    "## Abordagem 1\n",
    "\n",
    "### Hierarchical Clustering\n",
    "\n",
    "Hierarchical clustering determines cluster assignments by building a hierarchy. This is implemented by either a bottom-up or a top-down approach:\n",
    "- Divisive clustering is the top-down approach. It starts with all points as one cluster and splits the least similar clusters at each step until only single data points remain. \n",
    "\n",
    "Hierarchical clustering is a deterministic process, meaning cluster assignments won’t change when you run an algorithm twice on the same input data.\n",
    "\n",
    "The strengths of hierarchical clustering methods include the following:\n",
    "\n",
    "    They often reveal the finer details about the relationships between data objects.\n",
    "    They provide an interpretable dendrogram.\n",
    "\n",
    "The weaknesses of hierarchical clustering methods include the following:\n",
    "\n",
    "    They’re computationally expensive with respect to algorithm complexity.\n",
    "    They’re sensitive to noise and outliers.\n",
    "\n",
    "## Abordagem 2\n",
    "\n",
    "### Density-Based Clustering\n",
    "\n",
    "Density-based clustering determines cluster assignments based on the density of data points in a region. Clusters are assigned where there are high densities of data points separated by low-density regions.\n",
    "\n",
    "Unlike the other clustering categories, this approach doesn’t require the user to specify the number of clusters. Instead, there is a distance-based parameter that acts as a tunable threshold. This threshold determines how close points must be to be considered a cluster member.\n",
    "\n",
    "Examples of density-based clustering algorithms include Density-Based Spatial Clustering of Applications with Noise, or DBSCAN, and Ordering Points To Identify the Clustering Structure, or OPTICS.\n",
    "\n",
    "The strengths of density-based clustering methods include the following:\n",
    "\n",
    "    They excel at identifying clusters of nonspherical shapes.\n",
    "    They’re resistant to outliers.\n",
    "\n",
    "The weaknesses of density-based clustering methods include the following:\n",
    "\n",
    "    They aren’t well suited for clustering in high-dimensional spaces.\n",
    "    They have trouble identifying clusters of varying densities.\n"
   ]
  },
  {
   "cell_type": "code",
   "execution_count": 38,
   "metadata": {},
   "outputs": [
    {
     "data": {
      "text/plain": [
       "(10505, 5)"
      ]
     },
     "execution_count": 38,
     "metadata": {},
     "output_type": "execute_result"
    }
   ],
   "source": [
    "df_group_by_cpu_memoria.shape"
   ]
  },
  {
   "cell_type": "code",
   "execution_count": 39,
   "metadata": {},
   "outputs": [],
   "source": [
    "# Pré-processamento\n",
    "from sklearn import preprocessing\n",
    "import numpy as np"
   ]
  },
  {
   "cell_type": "code",
   "execution_count": 40,
   "metadata": {},
   "outputs": [
    {
     "data": {
      "text/plain": [
       "array([['0000c672f5e96d5c7078db295c99dd1f', 6.028352128448001,\n",
       "        8.7384106649279, 463.75390625, 465.0859375],\n",
       "       ['00115d136a63167e961d60147809aff7', 184.9855552577645,\n",
       "        315.642121633187, 204.26953125, 204.296875],\n",
       "       ['001b37c1ee0862b0326ee3571c4f05de', 0.07942229354840938,\n",
       "        0.08450200130125764, 54.5703125, 55.79296875],\n",
       "       ...,\n",
       "       ['ffe759fe7996f523feb279a03a48233a', 0.00706085451283642,\n",
       "        0.00923288639810474, 4.65625, 4.6640625],\n",
       "       ['ffee4328dfcdb0cc27e380c4339553e6', 66.96807071349605,\n",
       "        528.1486542952007, 1995.833984375, 2002.9296875],\n",
       "       ['fffccdea8e33694fe0152305f4b359ef', 27.4795267797065,\n",
       "        27.4795267797065, 236.22265625, 236.22265625]], dtype=object)"
      ]
     },
     "execution_count": 40,
     "metadata": {},
     "output_type": "execute_result"
    }
   ],
   "source": [
    "# Processo de Normalização\n",
    "df_group_by_cpu_memoria_normalized = df_group_by_cpu_memoria.to_numpy()\n",
    "df_group_by_cpu_memoria_normalized"
   ]
  },
  {
   "cell_type": "code",
   "execution_count": 41,
   "metadata": {},
   "outputs": [
    {
     "data": {
      "text/plain": [
       "array([[6.028352128448001, 465.0859375],\n",
       "       [184.9855552577645, 204.296875],\n",
       "       [0.07942229354840938, 55.79296875],\n",
       "       ...,\n",
       "       [0.00706085451283642, 4.6640625],\n",
       "       [66.96807071349605, 2002.9296875],\n",
       "       [27.4795267797065, 236.22265625]], dtype=object)"
      ]
     },
     "execution_count": 41,
     "metadata": {},
     "output_type": "execute_result"
    }
   ],
   "source": [
    "# Consideração de Valores Médios (Mediana)\n",
    "df_group_by_cpu_memoria_normalized = np.delete(df_group_by_cpu_memoria_normalized, 0, axis=1) # Deleta hash\n",
    "df_group_by_cpu_memoria_normalized = np.delete(df_group_by_cpu_memoria_normalized, 1, axis=1) # Deleta pico cpu\n",
    "df_group_by_cpu_memoria_normalized = np.delete(df_group_by_cpu_memoria_normalized, 1, axis=1) # Deleta mediana da memoria\n",
    "# Features consideradas (mediana da CPU e Pico de Memória)\n",
    "df_group_by_cpu_memoria_normalized"
   ]
  },
  {
   "cell_type": "code",
   "execution_count": 42,
   "metadata": {},
   "outputs": [
    {
     "ename": "IndexError",
     "evalue": "index 2 is out of bounds for axis 1 with size 2",
     "output_type": "error",
     "traceback": [
      "\u001b[0;31m---------------------------------------------------------------------------\u001b[0m",
      "\u001b[0;31mIndexError\u001b[0m                                Traceback (most recent call last)",
      "Input \u001b[0;32mIn [42]\u001b[0m, in \u001b[0;36m<cell line: 1>\u001b[0;34m()\u001b[0m\n\u001b[0;32m----> 1\u001b[0m df_group_by_cpu_memoria_normalized \u001b[38;5;241m=\u001b[39m \u001b[43mnp\u001b[49m\u001b[38;5;241;43m.\u001b[39;49m\u001b[43mdelete\u001b[49m\u001b[43m(\u001b[49m\u001b[43mdf_group_by_cpu_memoria_normalized\u001b[49m\u001b[43m,\u001b[49m\u001b[43m \u001b[49m\u001b[38;5;241;43m2\u001b[39;49m\u001b[43m,\u001b[49m\u001b[43m \u001b[49m\u001b[43maxis\u001b[49m\u001b[38;5;241;43m=\u001b[39;49m\u001b[38;5;241;43m1\u001b[39;49m\u001b[43m)\u001b[49m\n",
      "File \u001b[0;32m<__array_function__ internals>:5\u001b[0m, in \u001b[0;36mdelete\u001b[0;34m(*args, **kwargs)\u001b[0m\n",
      "File \u001b[0;32m~/anaconda3/lib/python3.9/site-packages/numpy/lib/function_base.py:4523\u001b[0m, in \u001b[0;36mdelete\u001b[0;34m(arr, obj, axis)\u001b[0m\n\u001b[1;32m   4520\u001b[0m \u001b[38;5;28;01mif\u001b[39;00m \u001b[38;5;28misinstance\u001b[39m(obj, (\u001b[38;5;28mint\u001b[39m, integer)) \u001b[38;5;129;01mand\u001b[39;00m \u001b[38;5;129;01mnot\u001b[39;00m \u001b[38;5;28misinstance\u001b[39m(obj, \u001b[38;5;28mbool\u001b[39m):\n\u001b[1;32m   4521\u001b[0m     \u001b[38;5;66;03m# optimization for a single value\u001b[39;00m\n\u001b[1;32m   4522\u001b[0m     \u001b[38;5;28;01mif\u001b[39;00m (obj \u001b[38;5;241m<\u001b[39m \u001b[38;5;241m-\u001b[39mN \u001b[38;5;129;01mor\u001b[39;00m obj \u001b[38;5;241m>\u001b[39m\u001b[38;5;241m=\u001b[39m N):\n\u001b[0;32m-> 4523\u001b[0m         \u001b[38;5;28;01mraise\u001b[39;00m \u001b[38;5;167;01mIndexError\u001b[39;00m(\n\u001b[1;32m   4524\u001b[0m             \u001b[38;5;124m\"\u001b[39m\u001b[38;5;124mindex \u001b[39m\u001b[38;5;132;01m%i\u001b[39;00m\u001b[38;5;124m is out of bounds for axis \u001b[39m\u001b[38;5;132;01m%i\u001b[39;00m\u001b[38;5;124m with \u001b[39m\u001b[38;5;124m\"\u001b[39m\n\u001b[1;32m   4525\u001b[0m             \u001b[38;5;124m\"\u001b[39m\u001b[38;5;124msize \u001b[39m\u001b[38;5;132;01m%i\u001b[39;00m\u001b[38;5;124m\"\u001b[39m \u001b[38;5;241m%\u001b[39m (obj, axis, N))\n\u001b[1;32m   4526\u001b[0m     \u001b[38;5;28;01mif\u001b[39;00m (obj \u001b[38;5;241m<\u001b[39m \u001b[38;5;241m0\u001b[39m):\n\u001b[1;32m   4527\u001b[0m         obj \u001b[38;5;241m+\u001b[39m\u001b[38;5;241m=\u001b[39m N\n",
      "\u001b[0;31mIndexError\u001b[0m: index 2 is out of bounds for axis 1 with size 2"
     ]
    }
   ],
   "source": [
    "df_group_by_cpu_memoria_normalized = np.delete(df_group_by_cpu_memoria_normalized, 2, axis=1) # Deleta classe"
   ]
  },
  {
   "cell_type": "code",
   "execution_count": 43,
   "metadata": {},
   "outputs": [
    {
     "data": {
      "text/plain": [
       "array([[6.028352128448001, 465.0859375],\n",
       "       [184.9855552577645, 204.296875],\n",
       "       [0.07942229354840938, 55.79296875],\n",
       "       ...,\n",
       "       [0.00706085451283642, 4.6640625],\n",
       "       [66.96807071349605, 2002.9296875],\n",
       "       [27.4795267797065, 236.22265625]], dtype=object)"
      ]
     },
     "execution_count": 43,
     "metadata": {},
     "output_type": "execute_result"
    }
   ],
   "source": [
    "df_group_by_cpu_memoria_normalized"
   ]
  },
  {
   "cell_type": "code",
   "execution_count": 44,
   "metadata": {},
   "outputs": [
    {
     "data": {
      "text/plain": [
       "StandardScaler()"
      ]
     },
     "execution_count": 44,
     "metadata": {},
     "output_type": "execute_result"
    }
   ],
   "source": [
    "# Normalizacao\n",
    "scaler = preprocessing.StandardScaler().fit(df_group_by_cpu_memoria_normalized)\n",
    "scaler"
   ]
  },
  {
   "cell_type": "code",
   "execution_count": 45,
   "metadata": {},
   "outputs": [
    {
     "data": {
      "text/plain": [
       "array([ 66.81506781, 524.60168967])"
      ]
     },
     "execution_count": 45,
     "metadata": {},
     "output_type": "execute_result"
    }
   ],
   "source": [
    "scaler.mean_"
   ]
  },
  {
   "cell_type": "code",
   "execution_count": 46,
   "metadata": {},
   "outputs": [
    {
     "data": {
      "text/plain": [
       "array([556.69555371, 938.9736832 ])"
      ]
     },
     "execution_count": 46,
     "metadata": {},
     "output_type": "execute_result"
    }
   ],
   "source": [
    "scaler.scale_"
   ]
  },
  {
   "cell_type": "code",
   "execution_count": 47,
   "metadata": {},
   "outputs": [
    {
     "data": {
      "text/plain": [
       "array([[-1.09192027e-01, -6.33838341e-02],\n",
       "       [ 2.12271297e-01, -3.41122249e-01],\n",
       "       [-1.19878172e-01, -4.99277807e-01],\n",
       "       ...,\n",
       "       [-1.20008156e-01, -5.53729712e-01],\n",
       "       [ 2.74841260e-04,  1.57440834e+00],\n",
       "       [-7.06589819e-02, -3.07121529e-01]])"
      ]
     },
     "execution_count": 47,
     "metadata": {},
     "output_type": "execute_result"
    }
   ],
   "source": [
    "scaled_features = scaler.transform(df_group_by_cpu_memoria_normalized)\n",
    "scaled_features"
   ]
  },
  {
   "cell_type": "code",
   "execution_count": 48,
   "metadata": {},
   "outputs": [
    {
     "data": {
      "text/plain": [
       "array([-2.36734848e-17,  8.11662335e-18])"
      ]
     },
     "execution_count": 48,
     "metadata": {},
     "output_type": "execute_result"
    }
   ],
   "source": [
    "# Scaled data has zero mean and unit variance:\n",
    "scaled_features.mean(axis=0)"
   ]
  },
  {
   "cell_type": "code",
   "execution_count": 49,
   "metadata": {},
   "outputs": [
    {
     "data": {
      "text/plain": [
       "array([1., 1.])"
      ]
     },
     "execution_count": 49,
     "metadata": {},
     "output_type": "execute_result"
    }
   ],
   "source": [
    "scaled_features.std(axis=0)"
   ]
  },
  {
   "cell_type": "code",
   "execution_count": 50,
   "metadata": {},
   "outputs": [
    {
     "data": {
      "text/plain": [
       "array([-0.12002076, -0.5574031 ])"
      ]
     },
     "execution_count": 50,
     "metadata": {},
     "output_type": "execute_result"
    }
   ],
   "source": [
    "# Valor minimo de cada coluna\n",
    "scaled_features.min(axis=0)"
   ]
  },
  {
   "cell_type": "code",
   "execution_count": 51,
   "metadata": {},
   "outputs": [
    {
     "data": {
      "text/plain": [
       "array([25.23741148, 24.92402108])"
      ]
     },
     "execution_count": 51,
     "metadata": {},
     "output_type": "execute_result"
    }
   ],
   "source": [
    "# Valor máximo de cada coluna\n",
    "scaled_features.max(axis=0)"
   ]
  },
  {
   "cell_type": "markdown",
   "metadata": {},
   "source": [
    "#### Aplicação do K-Means"
   ]
  },
  {
   "cell_type": "code",
   "execution_count": 52,
   "metadata": {},
   "outputs": [],
   "source": [
    "from sklearn.cluster import KMeans"
   ]
  },
  {
   "cell_type": "markdown",
   "metadata": {},
   "source": [
    "## Determinação do Número de Cluster pela técnica ebow"
   ]
  },
  {
   "cell_type": "code",
   "execution_count": 143,
   "metadata": {},
   "outputs": [],
   "source": [
    "# kmeans = KMeans(\n",
    "#  init=\"random\",\n",
    "#  n_clusters=5, # K classes\n",
    "#  n_init=10,\n",
    "#  max_iter=400,\n",
    "#  random_state=42)"
   ]
  },
  {
   "cell_type": "code",
   "execution_count": 55,
   "metadata": {},
   "outputs": [
    {
     "name": "stdout",
     "output_type": "stream",
     "text": [
      "Cluster  2\n",
      "Cluster  3\n",
      "Cluster  4\n",
      "Cluster  5\n",
      "Cluster  6\n",
      "Cluster  7\n",
      "Cluster  8\n",
      "Cluster  9\n"
     ]
    },
    {
     "data": {
      "text/plain": [
       "[13088.170004063486,\n",
       " 6838.466068104484,\n",
       " 4088.3388976704355,\n",
       " 2437.1585982763017,\n",
       " 1769.9821026702427,\n",
       " 1389.8611607444143,\n",
       " 1035.3002556407018,\n",
       " 846.2510657132518]"
      ]
     },
     "execution_count": 55,
     "metadata": {},
     "output_type": "execute_result"
    }
   ],
   "source": [
    "distortions = []\n",
    "n_clusters = range(2, 10)\n",
    "for n in n_clusters:    \n",
    "    print('Cluster ', n)\n",
    "    distortions.append(KMeans(n_clusters=n, n_init=100, max_iter=10_000, random_state=61658).fit(scaled_features).inertia_)\n",
    "distortions"
   ]
  },
  {
   "cell_type": "code",
   "execution_count": 56,
   "metadata": {},
   "outputs": [
    {
     "data": {
      "image/png": "[encoded data removed]",
      "text/plain": [
       "<Figure size 1080x360 with 1 Axes>"
      ]
     },
     "metadata": {
      "needs_background": "light"
     },
     "output_type": "display_data"
    }
   ],
   "source": [
    "plt.figure(figsize=(15,5))\n",
    "plt.plot(n_clusters, distortions)\n",
    "plt.grid()"
   ]
  },
  {
   "cell_type": "code",
   "execution_count": 57,
   "metadata": {},
   "outputs": [],
   "source": [
    "# Treinamento com 5 classes (Cluster = 5)\n",
    "kmeans = KMeans(n_clusters=5, n_init=100, max_iter=10_000, random_state=61658).fit(scaled_features)\n"
   ]
  },
  {
   "cell_type": "code",
   "execution_count": 58,
   "metadata": {},
   "outputs": [
    {
     "data": {
      "text/plain": [
       "2437.1585982763017"
      ]
     },
     "execution_count": 58,
     "metadata": {},
     "output_type": "execute_result"
    }
   ],
   "source": [
    "# Statistics from the initialization run with the lowest SSE \n",
    "# are available as attributes of kmeans after calling .fit():\n",
    "# The lowest SSE value\n",
    "kmeans.inertia_"
   ]
  },
  {
   "cell_type": "code",
   "execution_count": 59,
   "metadata": {},
   "outputs": [
    {
     "data": {
      "text/plain": [
       "array([[-0.09146612, -0.24977836],\n",
       "       [21.14722245,  0.18661559],\n",
       "       [ 0.62835724, 15.17931792],\n",
       "       [ 7.94036967,  0.71300576],\n",
       "       [ 0.11754481,  1.15236016]])"
      ]
     },
     "execution_count": 59,
     "metadata": {},
     "output_type": "execute_result"
    }
   ],
   "source": [
    "# Final locations of the centroid\n",
    "kmeans.cluster_centers_"
   ]
  },
  {
   "cell_type": "code",
   "execution_count": 60,
   "metadata": {},
   "outputs": [
    {
     "data": {
      "text/plain": [
       "12"
      ]
     },
     "execution_count": 60,
     "metadata": {},
     "output_type": "execute_result"
    }
   ],
   "source": [
    "# The number of iterations required to converge\n",
    "kmeans.n_iter_"
   ]
  },
  {
   "cell_type": "code",
   "execution_count": 61,
   "metadata": {},
   "outputs": [
    {
     "data": {
      "text/plain": [
       "array([0, 0, 0, 0, 4], dtype=int32)"
      ]
     },
     "execution_count": 61,
     "metadata": {},
     "output_type": "execute_result"
    }
   ],
   "source": [
    "# The cluster assignments are stored as a one-dimensional NumPy array in kmeans.labels_.\n",
    "kmeans.labels_[:5]"
   ]
  },
  {
   "cell_type": "code",
   "execution_count": null,
   "metadata": {},
   "outputs": [],
   "source": [
    "# Função de Normalização de Max-Min\n",
    "# Mean normalization\n",
    "# (df-df.mean())/df.std()\n",
    "# def normalize(df):\n",
    "#     result = df.copy()\n",
    "#     for feature_name in df.columns:\n",
    "#         if feature_name != 'hash':\n",
    "#             max_value = df[feature_name].max()\n",
    "#             min_value = df[feature_name].min()\n",
    "#             result[feature_name] = (df[feature_name] - min_value) / (max_value - min_value)\n",
    "#     return result"
   ]
  },
  {
   "cell_type": "code",
   "execution_count": 62,
   "metadata": {},
   "outputs": [
    {
     "data": {
      "text/plain": [
       "10505"
      ]
     },
     "execution_count": 62,
     "metadata": {},
     "output_type": "execute_result"
    }
   ],
   "source": [
    "len(kmeans.labels_)"
   ]
  },
  {
   "cell_type": "code",
   "execution_count": 63,
   "metadata": {},
   "outputs": [
    {
     "data": {
      "text/plain": [
       "0        0\n",
       "1        0\n",
       "2        0\n",
       "3        0\n",
       "4        4\n",
       "        ..\n",
       "10500    4\n",
       "10501    0\n",
       "10502    0\n",
       "10503    4\n",
       "10504    0\n",
       "Length: 10505, dtype: int32"
      ]
     },
     "execution_count": 63,
     "metadata": {},
     "output_type": "execute_result"
    }
   ],
   "source": [
    "series_label = pd.Series(kmeans.labels_)\n",
    "series_label"
   ]
  },
  {
   "cell_type": "code",
   "execution_count": 64,
   "metadata": {},
   "outputs": [
    {
     "data": {
      "text/html": [
       "<div>\n",
       "<style scoped>\n",
       "    .dataframe tbody tr th:only-of-type {\n",
       "        vertical-align: middle;\n",
       "    }\n",
       "\n",
       "    .dataframe tbody tr th {\n",
       "        vertical-align: top;\n",
       "    }\n",
       "\n",
       "    .dataframe thead th {\n",
       "        text-align: right;\n",
       "    }\n",
       "</style>\n",
       "<table border=\"1\" class=\"dataframe\">\n",
       "  <thead>\n",
       "    <tr style=\"text-align: right;\">\n",
       "      <th></th>\n",
       "      <th>hash</th>\n",
       "      <th>mediana_cpu</th>\n",
       "      <th>pico_cpu</th>\n",
       "      <th>mediana_memoria</th>\n",
       "      <th>pico_memoria</th>\n",
       "      <th>classe</th>\n",
       "    </tr>\n",
       "  </thead>\n",
       "  <tbody>\n",
       "    <tr>\n",
       "      <th>0</th>\n",
       "      <td>0000c672f5e96d5c7078db295c99dd1f</td>\n",
       "      <td>6.028352</td>\n",
       "      <td>8.738411</td>\n",
       "      <td>463.753906</td>\n",
       "      <td>465.085938</td>\n",
       "      <td>0</td>\n",
       "    </tr>\n",
       "    <tr>\n",
       "      <th>1</th>\n",
       "      <td>00115d136a63167e961d60147809aff7</td>\n",
       "      <td>184.985555</td>\n",
       "      <td>315.642122</td>\n",
       "      <td>204.269531</td>\n",
       "      <td>204.296875</td>\n",
       "      <td>0</td>\n",
       "    </tr>\n",
       "    <tr>\n",
       "      <th>2</th>\n",
       "      <td>001b37c1ee0862b0326ee3571c4f05de</td>\n",
       "      <td>0.079422</td>\n",
       "      <td>0.084502</td>\n",
       "      <td>54.570312</td>\n",
       "      <td>55.792969</td>\n",
       "      <td>0</td>\n",
       "    </tr>\n",
       "    <tr>\n",
       "      <th>3</th>\n",
       "      <td>0028c4dfdf4f19f3914cc5ca96f7b3d4</td>\n",
       "      <td>0.948848</td>\n",
       "      <td>1.106187</td>\n",
       "      <td>636.351562</td>\n",
       "      <td>636.355469</td>\n",
       "      <td>0</td>\n",
       "    </tr>\n",
       "    <tr>\n",
       "      <th>4</th>\n",
       "      <td>002b850fcc1b96f2b1b0621d6b5ee97b</td>\n",
       "      <td>1.719575</td>\n",
       "      <td>1.719575</td>\n",
       "      <td>1031.480469</td>\n",
       "      <td>1031.480469</td>\n",
       "      <td>4</td>\n",
       "    </tr>\n",
       "    <tr>\n",
       "      <th>...</th>\n",
       "      <td>...</td>\n",
       "      <td>...</td>\n",
       "      <td>...</td>\n",
       "      <td>...</td>\n",
       "      <td>...</td>\n",
       "      <td>...</td>\n",
       "    </tr>\n",
       "    <tr>\n",
       "      <th>10500</th>\n",
       "      <td>ffdd3f9ace04c87c5360e682942cbe80</td>\n",
       "      <td>3.362830</td>\n",
       "      <td>15.462593</td>\n",
       "      <td>1678.222656</td>\n",
       "      <td>1694.851562</td>\n",
       "      <td>4</td>\n",
       "    </tr>\n",
       "    <tr>\n",
       "      <th>10501</th>\n",
       "      <td>ffdf76b5e9458fb21062d50557d7f8fa</td>\n",
       "      <td>0.126827</td>\n",
       "      <td>0.126827</td>\n",
       "      <td>47.679688</td>\n",
       "      <td>47.679688</td>\n",
       "      <td>0</td>\n",
       "    </tr>\n",
       "    <tr>\n",
       "      <th>10502</th>\n",
       "      <td>ffe759fe7996f523feb279a03a48233a</td>\n",
       "      <td>0.007061</td>\n",
       "      <td>0.009233</td>\n",
       "      <td>4.656250</td>\n",
       "      <td>4.664062</td>\n",
       "      <td>0</td>\n",
       "    </tr>\n",
       "    <tr>\n",
       "      <th>10503</th>\n",
       "      <td>ffee4328dfcdb0cc27e380c4339553e6</td>\n",
       "      <td>66.968071</td>\n",
       "      <td>528.148654</td>\n",
       "      <td>1995.833984</td>\n",
       "      <td>2002.929688</td>\n",
       "      <td>4</td>\n",
       "    </tr>\n",
       "    <tr>\n",
       "      <th>10504</th>\n",
       "      <td>fffccdea8e33694fe0152305f4b359ef</td>\n",
       "      <td>27.479527</td>\n",
       "      <td>27.479527</td>\n",
       "      <td>236.222656</td>\n",
       "      <td>236.222656</td>\n",
       "      <td>0</td>\n",
       "    </tr>\n",
       "  </tbody>\n",
       "</table>\n",
       "<p>10505 rows × 6 columns</p>\n",
       "</div>"
      ],
      "text/plain": [
       "                                   hash  mediana_cpu    pico_cpu  \\\n",
       "0      0000c672f5e96d5c7078db295c99dd1f     6.028352    8.738411   \n",
       "1      00115d136a63167e961d60147809aff7   184.985555  315.642122   \n",
       "2      001b37c1ee0862b0326ee3571c4f05de     0.079422    0.084502   \n",
       "3      0028c4dfdf4f19f3914cc5ca96f7b3d4     0.948848    1.106187   \n",
       "4      002b850fcc1b96f2b1b0621d6b5ee97b     1.719575    1.719575   \n",
       "...                                 ...          ...         ...   \n",
       "10500  ffdd3f9ace04c87c5360e682942cbe80     3.362830   15.462593   \n",
       "10501  ffdf76b5e9458fb21062d50557d7f8fa     0.126827    0.126827   \n",
       "10502  ffe759fe7996f523feb279a03a48233a     0.007061    0.009233   \n",
       "10503  ffee4328dfcdb0cc27e380c4339553e6    66.968071  528.148654   \n",
       "10504  fffccdea8e33694fe0152305f4b359ef    27.479527   27.479527   \n",
       "\n",
       "       mediana_memoria  pico_memoria  classe  \n",
       "0           463.753906    465.085938       0  \n",
       "1           204.269531    204.296875       0  \n",
       "2            54.570312     55.792969       0  \n",
       "3           636.351562    636.355469       0  \n",
       "4          1031.480469   1031.480469       4  \n",
       "...                ...           ...     ...  \n",
       "10500      1678.222656   1694.851562       4  \n",
       "10501        47.679688     47.679688       0  \n",
       "10502         4.656250      4.664062       0  \n",
       "10503      1995.833984   2002.929688       4  \n",
       "10504       236.222656    236.222656       0  \n",
       "\n",
       "[10505 rows x 6 columns]"
      ]
     },
     "execution_count": 64,
     "metadata": {},
     "output_type": "execute_result"
    }
   ],
   "source": [
    "# Adiciona a série ao dataframe\n",
    "df_group_by_cpu_memoria['classe'] = kmeans.labels_\n",
    "df_group_by_cpu_memoria"
   ]
  },
  {
   "cell_type": "code",
   "execution_count": 65,
   "metadata": {},
   "outputs": [
    {
     "data": {
      "text/plain": [
       "array([-0.10919203,  0.2122713 , -0.11987817, ..., -0.12000816,\n",
       "        0.00027484, -0.07065898])"
      ]
     },
     "execution_count": 65,
     "metadata": {},
     "output_type": "execute_result"
    }
   ],
   "source": [
    "scaled_features[:,0]"
   ]
  },
  {
   "cell_type": "code",
   "execution_count": 66,
   "metadata": {},
   "outputs": [
    {
     "data": {
      "image/png": "[encoded data removed]",
      "text/plain": [
       "<Figure size 432x288 with 1 Axes>"
      ]
     },
     "metadata": {
      "needs_background": "light"
     },
     "output_type": "display_data"
    }
   ],
   "source": [
    "\n",
    "plt.scatter(scaled_features[:,1], scaled_features[:,0], c = kmeans.labels_) #posicionamento dos eixos x e y\n",
    "plt.xlim(-0.15,2.5) #range do eixo x\n",
    "plt.ylim(-0.75, 15) #range do eixo y\n",
    "\n",
    "# plt.scatter(df_group_by_cpu_memoria['mediana_cpu'], df_group_by_cpu_memoria['mediana_memoria'], c = df_group_by_cpu_memoria['classe']) #posicionamento dos eixos x e y\n",
    "# plt.xlabel('Memória MB')\n",
    "# plt.ylabel('CPU mCPUs')\n",
    "# plt.xlim(0, 8000) #range do eixo x\n",
    "# plt.ylim(0, 10000) #range do eixo y\n",
    "plt.grid() #função que desenha a grade no nosso gráfico\n",
    "plt.scatter(kmeans.cluster_centers_[:,1],kmeans.cluster_centers_[:,0], s = 70, c = 'red') #posição de cada centroide no gráfico\n",
    "plt.show()"
   ]
  },
  {
   "cell_type": "code",
   "execution_count": 86,
   "metadata": {},
   "outputs": [
    {
     "data": {
      "image/png": "[encoded data removed]",
      "text/plain": [
       "<Figure size 432x288 with 1 Axes>"
      ]
     },
     "metadata": {
      "needs_background": "light"
     },
     "output_type": "display_data"
    }
   ],
   "source": [
    "# plt.scatter(scaled_features[:,1], scaled_features[:,0], c = kmeans.labels_) #posicionamento dos eixos x e y\n",
    "# plt.xlim(-0.15, 25) #range do eixo x\n",
    "# plt.ylim(-0.75, 35) #range do eixo y\n",
    "\n",
    "plt.scatter(df_group_by_cpu_memoria['mediana_cpu'], df_group_by_cpu_memoria['mediana_memoria'], c = df_group_by_cpu_memoria['classe']) #posicionamento dos eixos x e y\n",
    "plt.xlabel('Memória MB')\n",
    "plt.ylabel('CPU mCPUs')\n",
    "plt.xlim(0, 5800) #range do eixo x\n",
    "plt.ylim(0, 4300) #range do eixo y\n",
    "plt.grid() #função que desenha a grade no nosso gráfico\n",
    "plt.show()"
   ]
  },
  {
   "cell_type": "markdown",
   "metadata": {},
   "source": [
    "## Restrição dos dados removendo as amostras com valores mais discrepantes"
   ]
  },
  {
   "cell_type": "code",
   "execution_count": 94,
   "metadata": {},
   "outputs": [
    {
     "data": {
      "text/html": [
       "<div>\n",
       "<style scoped>\n",
       "    .dataframe tbody tr th:only-of-type {\n",
       "        vertical-align: middle;\n",
       "    }\n",
       "\n",
       "    .dataframe tbody tr th {\n",
       "        vertical-align: top;\n",
       "    }\n",
       "\n",
       "    .dataframe thead th {\n",
       "        text-align: right;\n",
       "    }\n",
       "</style>\n",
       "<table border=\"1\" class=\"dataframe\">\n",
       "  <thead>\n",
       "    <tr style=\"text-align: right;\">\n",
       "      <th></th>\n",
       "      <th>hash</th>\n",
       "      <th>mediana_cpu</th>\n",
       "      <th>pico_cpu</th>\n",
       "      <th>mediana_memoria</th>\n",
       "      <th>pico_memoria</th>\n",
       "    </tr>\n",
       "  </thead>\n",
       "  <tbody>\n",
       "    <tr>\n",
       "      <th>0</th>\n",
       "      <td>0000c672f5e96d5c7078db295c99dd1f</td>\n",
       "      <td>6.028352</td>\n",
       "      <td>8.738411</td>\n",
       "      <td>463.753906</td>\n",
       "      <td>465.085938</td>\n",
       "    </tr>\n",
       "    <tr>\n",
       "      <th>1</th>\n",
       "      <td>00115d136a63167e961d60147809aff7</td>\n",
       "      <td>184.985555</td>\n",
       "      <td>315.642122</td>\n",
       "      <td>204.269531</td>\n",
       "      <td>204.296875</td>\n",
       "    </tr>\n",
       "    <tr>\n",
       "      <th>2</th>\n",
       "      <td>001b37c1ee0862b0326ee3571c4f05de</td>\n",
       "      <td>0.079422</td>\n",
       "      <td>0.084502</td>\n",
       "      <td>54.570312</td>\n",
       "      <td>55.792969</td>\n",
       "    </tr>\n",
       "    <tr>\n",
       "      <th>3</th>\n",
       "      <td>0028c4dfdf4f19f3914cc5ca96f7b3d4</td>\n",
       "      <td>0.948848</td>\n",
       "      <td>1.106187</td>\n",
       "      <td>636.351562</td>\n",
       "      <td>636.355469</td>\n",
       "    </tr>\n",
       "    <tr>\n",
       "      <th>4</th>\n",
       "      <td>002b850fcc1b96f2b1b0621d6b5ee97b</td>\n",
       "      <td>1.719575</td>\n",
       "      <td>1.719575</td>\n",
       "      <td>1031.480469</td>\n",
       "      <td>1031.480469</td>\n",
       "    </tr>\n",
       "    <tr>\n",
       "      <th>...</th>\n",
       "      <td>...</td>\n",
       "      <td>...</td>\n",
       "      <td>...</td>\n",
       "      <td>...</td>\n",
       "      <td>...</td>\n",
       "    </tr>\n",
       "    <tr>\n",
       "      <th>10500</th>\n",
       "      <td>ffdd3f9ace04c87c5360e682942cbe80</td>\n",
       "      <td>3.362830</td>\n",
       "      <td>15.462593</td>\n",
       "      <td>1678.222656</td>\n",
       "      <td>1694.851562</td>\n",
       "    </tr>\n",
       "    <tr>\n",
       "      <th>10501</th>\n",
       "      <td>ffdf76b5e9458fb21062d50557d7f8fa</td>\n",
       "      <td>0.126827</td>\n",
       "      <td>0.126827</td>\n",
       "      <td>47.679688</td>\n",
       "      <td>47.679688</td>\n",
       "    </tr>\n",
       "    <tr>\n",
       "      <th>10502</th>\n",
       "      <td>ffe759fe7996f523feb279a03a48233a</td>\n",
       "      <td>0.007061</td>\n",
       "      <td>0.009233</td>\n",
       "      <td>4.656250</td>\n",
       "      <td>4.664062</td>\n",
       "    </tr>\n",
       "    <tr>\n",
       "      <th>10503</th>\n",
       "      <td>ffee4328dfcdb0cc27e380c4339553e6</td>\n",
       "      <td>66.968071</td>\n",
       "      <td>528.148654</td>\n",
       "      <td>1995.833984</td>\n",
       "      <td>2002.929688</td>\n",
       "    </tr>\n",
       "    <tr>\n",
       "      <th>10504</th>\n",
       "      <td>fffccdea8e33694fe0152305f4b359ef</td>\n",
       "      <td>27.479527</td>\n",
       "      <td>27.479527</td>\n",
       "      <td>236.222656</td>\n",
       "      <td>236.222656</td>\n",
       "    </tr>\n",
       "  </tbody>\n",
       "</table>\n",
       "<p>10505 rows × 5 columns</p>\n",
       "</div>"
      ],
      "text/plain": [
       "                                   hash  mediana_cpu    pico_cpu  \\\n",
       "0      0000c672f5e96d5c7078db295c99dd1f     6.028352    8.738411   \n",
       "1      00115d136a63167e961d60147809aff7   184.985555  315.642122   \n",
       "2      001b37c1ee0862b0326ee3571c4f05de     0.079422    0.084502   \n",
       "3      0028c4dfdf4f19f3914cc5ca96f7b3d4     0.948848    1.106187   \n",
       "4      002b850fcc1b96f2b1b0621d6b5ee97b     1.719575    1.719575   \n",
       "...                                 ...          ...         ...   \n",
       "10500  ffdd3f9ace04c87c5360e682942cbe80     3.362830   15.462593   \n",
       "10501  ffdf76b5e9458fb21062d50557d7f8fa     0.126827    0.126827   \n",
       "10502  ffe759fe7996f523feb279a03a48233a     0.007061    0.009233   \n",
       "10503  ffee4328dfcdb0cc27e380c4339553e6    66.968071  528.148654   \n",
       "10504  fffccdea8e33694fe0152305f4b359ef    27.479527   27.479527   \n",
       "\n",
       "       mediana_memoria  pico_memoria  \n",
       "0           463.753906    465.085938  \n",
       "1           204.269531    204.296875  \n",
       "2            54.570312     55.792969  \n",
       "3           636.351562    636.355469  \n",
       "4          1031.480469   1031.480469  \n",
       "...                ...           ...  \n",
       "10500      1678.222656   1694.851562  \n",
       "10501        47.679688     47.679688  \n",
       "10502         4.656250      4.664062  \n",
       "10503      1995.833984   2002.929688  \n",
       "10504       236.222656    236.222656  \n",
       "\n",
       "[10505 rows x 5 columns]"
      ]
     },
     "execution_count": 94,
     "metadata": {},
     "output_type": "execute_result"
    }
   ],
   "source": [
    "df_group_by_cpu_memoria"
   ]
  },
  {
   "cell_type": "code",
   "execution_count": 95,
   "metadata": {},
   "outputs": [
    {
     "data": {
      "text/plain": [
       "count    10505.000000\n",
       "mean       524.601690\n",
       "std        939.018378\n",
       "min          1.214844\n",
       "25%         81.632812\n",
       "50%        326.093750\n",
       "75%        649.593750\n",
       "max      23927.601562\n",
       "Name: pico_memoria, dtype: float64"
      ]
     },
     "execution_count": 95,
     "metadata": {},
     "output_type": "execute_result"
    }
   ],
   "source": [
    "df_group_by_cpu_memoria['pico_memoria'].describe()"
   ]
  },
  {
   "cell_type": "code",
   "execution_count": 96,
   "metadata": {},
   "outputs": [
    {
     "data": {
      "text/plain": [
       "count    10505.000000\n",
       "mean        66.815068\n",
       "std        556.722052\n",
       "min          0.000043\n",
       "25%          0.772589\n",
       "50%          1.668919\n",
       "75%          7.070047\n",
       "max      14116.369827\n",
       "Name: mediana_cpu, dtype: float64"
      ]
     },
     "execution_count": 96,
     "metadata": {},
     "output_type": "execute_result"
    }
   ],
   "source": [
    "df_group_by_cpu_memoria['mediana_cpu'].describe()"
   ]
  },
  {
   "cell_type": "code",
   "execution_count": 97,
   "metadata": {},
   "outputs": [
    {
     "data": {
      "text/html": [
       "<div>\n",
       "<style scoped>\n",
       "    .dataframe tbody tr th:only-of-type {\n",
       "        vertical-align: middle;\n",
       "    }\n",
       "\n",
       "    .dataframe tbody tr th {\n",
       "        vertical-align: top;\n",
       "    }\n",
       "\n",
       "    .dataframe thead th {\n",
       "        text-align: right;\n",
       "    }\n",
       "</style>\n",
       "<table border=\"1\" class=\"dataframe\">\n",
       "  <thead>\n",
       "    <tr style=\"text-align: right;\">\n",
       "      <th></th>\n",
       "      <th>hash</th>\n",
       "      <th>mediana_cpu</th>\n",
       "      <th>pico_cpu</th>\n",
       "      <th>mediana_memoria</th>\n",
       "      <th>pico_memoria</th>\n",
       "    </tr>\n",
       "  </thead>\n",
       "  <tbody>\n",
       "    <tr>\n",
       "      <th>0</th>\n",
       "      <td>0000c672f5e96d5c7078db295c99dd1f</td>\n",
       "      <td>6.028352</td>\n",
       "      <td>8.738411</td>\n",
       "      <td>463.753906</td>\n",
       "      <td>465.085938</td>\n",
       "    </tr>\n",
       "    <tr>\n",
       "      <th>2</th>\n",
       "      <td>001b37c1ee0862b0326ee3571c4f05de</td>\n",
       "      <td>0.079422</td>\n",
       "      <td>0.084502</td>\n",
       "      <td>54.570312</td>\n",
       "      <td>55.792969</td>\n",
       "    </tr>\n",
       "    <tr>\n",
       "      <th>3</th>\n",
       "      <td>0028c4dfdf4f19f3914cc5ca96f7b3d4</td>\n",
       "      <td>0.948848</td>\n",
       "      <td>1.106187</td>\n",
       "      <td>636.351562</td>\n",
       "      <td>636.355469</td>\n",
       "    </tr>\n",
       "    <tr>\n",
       "      <th>5</th>\n",
       "      <td>002c616e25cfb0f2cac2e6796a914a5b</td>\n",
       "      <td>0.979157</td>\n",
       "      <td>115.668620</td>\n",
       "      <td>279.445312</td>\n",
       "      <td>280.847656</td>\n",
       "    </tr>\n",
       "    <tr>\n",
       "      <th>6</th>\n",
       "      <td>003a266a21249ee7746b74f29c93ed07</td>\n",
       "      <td>0.565047</td>\n",
       "      <td>0.642564</td>\n",
       "      <td>51.771484</td>\n",
       "      <td>52.007812</td>\n",
       "    </tr>\n",
       "    <tr>\n",
       "      <th>...</th>\n",
       "      <td>...</td>\n",
       "      <td>...</td>\n",
       "      <td>...</td>\n",
       "      <td>...</td>\n",
       "      <td>...</td>\n",
       "    </tr>\n",
       "    <tr>\n",
       "      <th>10493</th>\n",
       "      <td>ffb39d3a90154fa331efdff422489197</td>\n",
       "      <td>2.147811</td>\n",
       "      <td>3.943654</td>\n",
       "      <td>511.630859</td>\n",
       "      <td>516.652344</td>\n",
       "    </tr>\n",
       "    <tr>\n",
       "      <th>10495</th>\n",
       "      <td>ffb71df790da9685eb0b280f40583e3b</td>\n",
       "      <td>5.844121</td>\n",
       "      <td>6.939110</td>\n",
       "      <td>585.976562</td>\n",
       "      <td>585.976562</td>\n",
       "    </tr>\n",
       "    <tr>\n",
       "      <th>10496</th>\n",
       "      <td>ffc59295b896b7b22280d0bf1be0699d</td>\n",
       "      <td>0.075469</td>\n",
       "      <td>0.112743</td>\n",
       "      <td>30.140625</td>\n",
       "      <td>30.441406</td>\n",
       "    </tr>\n",
       "    <tr>\n",
       "      <th>10501</th>\n",
       "      <td>ffdf76b5e9458fb21062d50557d7f8fa</td>\n",
       "      <td>0.126827</td>\n",
       "      <td>0.126827</td>\n",
       "      <td>47.679688</td>\n",
       "      <td>47.679688</td>\n",
       "    </tr>\n",
       "    <tr>\n",
       "      <th>10502</th>\n",
       "      <td>ffe759fe7996f523feb279a03a48233a</td>\n",
       "      <td>0.007061</td>\n",
       "      <td>0.009233</td>\n",
       "      <td>4.656250</td>\n",
       "      <td>4.664062</td>\n",
       "    </tr>\n",
       "  </tbody>\n",
       "</table>\n",
       "<p>6557 rows × 5 columns</p>\n",
       "</div>"
      ],
      "text/plain": [
       "                                   hash  mediana_cpu    pico_cpu  \\\n",
       "0      0000c672f5e96d5c7078db295c99dd1f     6.028352    8.738411   \n",
       "2      001b37c1ee0862b0326ee3571c4f05de     0.079422    0.084502   \n",
       "3      0028c4dfdf4f19f3914cc5ca96f7b3d4     0.948848    1.106187   \n",
       "5      002c616e25cfb0f2cac2e6796a914a5b     0.979157  115.668620   \n",
       "6      003a266a21249ee7746b74f29c93ed07     0.565047    0.642564   \n",
       "...                                 ...          ...         ...   \n",
       "10493  ffb39d3a90154fa331efdff422489197     2.147811    3.943654   \n",
       "10495  ffb71df790da9685eb0b280f40583e3b     5.844121    6.939110   \n",
       "10496  ffc59295b896b7b22280d0bf1be0699d     0.075469    0.112743   \n",
       "10501  ffdf76b5e9458fb21062d50557d7f8fa     0.126827    0.126827   \n",
       "10502  ffe759fe7996f523feb279a03a48233a     0.007061    0.009233   \n",
       "\n",
       "       mediana_memoria  pico_memoria  \n",
       "0           463.753906    465.085938  \n",
       "2            54.570312     55.792969  \n",
       "3           636.351562    636.355469  \n",
       "5           279.445312    280.847656  \n",
       "6            51.771484     52.007812  \n",
       "...                ...           ...  \n",
       "10493       511.630859    516.652344  \n",
       "10495       585.976562    585.976562  \n",
       "10496        30.140625     30.441406  \n",
       "10501        47.679688     47.679688  \n",
       "10502         4.656250      4.664062  \n",
       "\n",
       "[6557 rows x 5 columns]"
      ]
     },
     "execution_count": 97,
     "metadata": {},
     "output_type": "execute_result"
    }
   ],
   "source": [
    "# Considerando os 75% mais frequentes do valor médio (mediana) de CPU e valor máximo de memória (pico)\n",
    "df_group_by_cpu_memoria = df_group_by_cpu_memoria[df_group_by_cpu_memoria['mediana_cpu'] < 7.08]\n",
    "df_group_by_cpu_memoria = df_group_by_cpu_memoria[df_group_by_cpu_memoria['pico_memoria'] < 650]\n",
    "df_group_by_cpu_memoria"
   ]
  },
  {
   "cell_type": "code",
   "execution_count": 98,
   "metadata": {},
   "outputs": [
    {
     "ename": "IndexError",
     "evalue": "index 2 is out of bounds for axis 1 with size 2",
     "output_type": "error",
     "traceback": [
      "\u001b[0;31m---------------------------------------------------------------------------\u001b[0m",
      "\u001b[0;31mIndexError\u001b[0m                                Traceback (most recent call last)",
      "Input \u001b[0;32mIn [98]\u001b[0m, in \u001b[0;36m<cell line: 14>\u001b[0;34m()\u001b[0m\n\u001b[1;32m     11\u001b[0m df_group_by_cpu_memoria_normalized\n\u001b[1;32m     13\u001b[0m \u001b[38;5;66;03m# Deleta a classe para uma nova classificação\u001b[39;00m\n\u001b[0;32m---> 14\u001b[0m df_group_by_cpu_memoria_normalized \u001b[38;5;241m=\u001b[39m \u001b[43mnp\u001b[49m\u001b[38;5;241;43m.\u001b[39;49m\u001b[43mdelete\u001b[49m\u001b[43m(\u001b[49m\n\u001b[1;32m     15\u001b[0m \u001b[43mdf_group_by_cpu_memoria_normalized\u001b[49m\u001b[43m,\u001b[49m\u001b[43m \u001b[49m\u001b[38;5;241;43m2\u001b[39;49m\u001b[43m,\u001b[49m\u001b[43m \u001b[49m\u001b[43maxis\u001b[49m\u001b[38;5;241;43m=\u001b[39;49m\u001b[38;5;241;43m1\u001b[39;49m\u001b[43m)\u001b[49m\n",
      "File \u001b[0;32m<__array_function__ internals>:5\u001b[0m, in \u001b[0;36mdelete\u001b[0;34m(*args, **kwargs)\u001b[0m\n",
      "File \u001b[0;32m~/anaconda3/lib/python3.9/site-packages/numpy/lib/function_base.py:4523\u001b[0m, in \u001b[0;36mdelete\u001b[0;34m(arr, obj, axis)\u001b[0m\n\u001b[1;32m   4520\u001b[0m \u001b[38;5;28;01mif\u001b[39;00m \u001b[38;5;28misinstance\u001b[39m(obj, (\u001b[38;5;28mint\u001b[39m, integer)) \u001b[38;5;129;01mand\u001b[39;00m \u001b[38;5;129;01mnot\u001b[39;00m \u001b[38;5;28misinstance\u001b[39m(obj, \u001b[38;5;28mbool\u001b[39m):\n\u001b[1;32m   4521\u001b[0m     \u001b[38;5;66;03m# optimization for a single value\u001b[39;00m\n\u001b[1;32m   4522\u001b[0m     \u001b[38;5;28;01mif\u001b[39;00m (obj \u001b[38;5;241m<\u001b[39m \u001b[38;5;241m-\u001b[39mN \u001b[38;5;129;01mor\u001b[39;00m obj \u001b[38;5;241m>\u001b[39m\u001b[38;5;241m=\u001b[39m N):\n\u001b[0;32m-> 4523\u001b[0m         \u001b[38;5;28;01mraise\u001b[39;00m \u001b[38;5;167;01mIndexError\u001b[39;00m(\n\u001b[1;32m   4524\u001b[0m             \u001b[38;5;124m\"\u001b[39m\u001b[38;5;124mindex \u001b[39m\u001b[38;5;132;01m%i\u001b[39;00m\u001b[38;5;124m is out of bounds for axis \u001b[39m\u001b[38;5;132;01m%i\u001b[39;00m\u001b[38;5;124m with \u001b[39m\u001b[38;5;124m\"\u001b[39m\n\u001b[1;32m   4525\u001b[0m             \u001b[38;5;124m\"\u001b[39m\u001b[38;5;124msize \u001b[39m\u001b[38;5;132;01m%i\u001b[39;00m\u001b[38;5;124m\"\u001b[39m \u001b[38;5;241m%\u001b[39m (obj, axis, N))\n\u001b[1;32m   4526\u001b[0m     \u001b[38;5;28;01mif\u001b[39;00m (obj \u001b[38;5;241m<\u001b[39m \u001b[38;5;241m0\u001b[39m):\n\u001b[1;32m   4527\u001b[0m         obj \u001b[38;5;241m+\u001b[39m\u001b[38;5;241m=\u001b[39m N\n",
      "\u001b[0;31mIndexError\u001b[0m: index 2 is out of bounds for axis 1 with size 2"
     ]
    }
   ],
   "source": [
    "# Redução da amostra para 62%\n",
    "# Processo de Normalização\n",
    "df_group_by_cpu_memoria_normalized = df_group_by_cpu_memoria.to_numpy()\n",
    "df_group_by_cpu_memoria_normalized\n",
    "\n",
    "# Consideração de Valores Médios (Mediana)\n",
    "df_group_by_cpu_memoria_normalized = np.delete(df_group_by_cpu_memoria_normalized, 0, axis=1) # Deleta hash\n",
    "df_group_by_cpu_memoria_normalized = np.delete(df_group_by_cpu_memoria_normalized, 1, axis=1) # Deleta pico cpu\n",
    "df_group_by_cpu_memoria_normalized = np.delete(df_group_by_cpu_memoria_normalized, 1, axis=1) # Deleta mediana da memoria\n",
    "# Features consideradas (mediana da CPU e Pico de Memória)\n",
    "df_group_by_cpu_memoria_normalized\n",
    "\n",
    "# Deleta a classe para uma nova classificação\n",
    "df_group_by_cpu_memoria_normalized = np.delete(\n",
    "df_group_by_cpu_memoria_normalized, 2, axis=1) # Deleta classe"
   ]
  },
  {
   "cell_type": "code",
   "execution_count": 99,
   "metadata": {},
   "outputs": [
    {
     "data": {
      "text/plain": [
       "array([[ 2.95434309,  1.3424618 ],\n",
       "       [-0.90244013, -0.81936764],\n",
       "       [-0.33877782,  2.24708402],\n",
       "       ...,\n",
       "       [-0.90500343, -0.95327113],\n",
       "       [-0.87170662, -0.86222088],\n",
       "       [-0.94935317, -1.08942353]])"
      ]
     },
     "execution_count": 99,
     "metadata": {},
     "output_type": "execute_result"
    }
   ],
   "source": [
    "# Normalizacao\n",
    "scaler = preprocessing.StandardScaler().fit(df_group_by_cpu_memoria_normalized)\n",
    "\n",
    "# Obtencao das features normalizadas\n",
    "scaled_features = scaler.transform(df_group_by_cpu_memoria_normalized)\n",
    "scaled_features"
   ]
  },
  {
   "cell_type": "code",
   "execution_count": 100,
   "metadata": {},
   "outputs": [
    {
     "name": "stdout",
     "output_type": "stream",
     "text": [
      "Cluster  2\n",
      "Cluster  3\n",
      "Cluster  4\n",
      "Cluster  5\n",
      "Cluster  6\n",
      "Cluster  7\n",
      "Cluster  8\n",
      "Cluster  9\n"
     ]
    },
    {
     "data": {
      "image/png": "[encoded data removed]",
      "text/plain": [
       "<Figure size 1080x360 with 1 Axes>"
      ]
     },
     "metadata": {
      "needs_background": "light"
     },
     "output_type": "display_data"
    }
   ],
   "source": [
    "# Determinação do Número de Clusters\n",
    "distortions = []\n",
    "n_clusters = range(2, 10)\n",
    "for n in n_clusters:    \n",
    "    print('Cluster ', n)\n",
    "    distortions.append(KMeans(n_clusters=n, n_init=100, max_iter=10_000, random_state=61658).fit(scaled_features).inertia_)\n",
    "distortions\n",
    "\n",
    "plt.figure(figsize=(15,5))\n",
    "plt.plot(n_clusters, distortions)\n",
    "plt.grid()"
   ]
  },
  {
   "cell_type": "code",
   "execution_count": 101,
   "metadata": {},
   "outputs": [
    {
     "data": {
      "text/html": [
       "<div>\n",
       "<style scoped>\n",
       "    .dataframe tbody tr th:only-of-type {\n",
       "        vertical-align: middle;\n",
       "    }\n",
       "\n",
       "    .dataframe tbody tr th {\n",
       "        vertical-align: top;\n",
       "    }\n",
       "\n",
       "    .dataframe thead th {\n",
       "        text-align: right;\n",
       "    }\n",
       "</style>\n",
       "<table border=\"1\" class=\"dataframe\">\n",
       "  <thead>\n",
       "    <tr style=\"text-align: right;\">\n",
       "      <th></th>\n",
       "      <th>hash</th>\n",
       "      <th>mediana_cpu</th>\n",
       "      <th>pico_cpu</th>\n",
       "      <th>mediana_memoria</th>\n",
       "      <th>pico_memoria</th>\n",
       "      <th>classe</th>\n",
       "    </tr>\n",
       "  </thead>\n",
       "  <tbody>\n",
       "    <tr>\n",
       "      <th>0</th>\n",
       "      <td>0000c672f5e96d5c7078db295c99dd1f</td>\n",
       "      <td>6.028352</td>\n",
       "      <td>8.738411</td>\n",
       "      <td>463.753906</td>\n",
       "      <td>465.085938</td>\n",
       "      <td>2</td>\n",
       "    </tr>\n",
       "    <tr>\n",
       "      <th>2</th>\n",
       "      <td>001b37c1ee0862b0326ee3571c4f05de</td>\n",
       "      <td>0.079422</td>\n",
       "      <td>0.084502</td>\n",
       "      <td>54.570312</td>\n",
       "      <td>55.792969</td>\n",
       "      <td>0</td>\n",
       "    </tr>\n",
       "    <tr>\n",
       "      <th>3</th>\n",
       "      <td>0028c4dfdf4f19f3914cc5ca96f7b3d4</td>\n",
       "      <td>0.948848</td>\n",
       "      <td>1.106187</td>\n",
       "      <td>636.351562</td>\n",
       "      <td>636.355469</td>\n",
       "      <td>1</td>\n",
       "    </tr>\n",
       "    <tr>\n",
       "      <th>5</th>\n",
       "      <td>002c616e25cfb0f2cac2e6796a914a5b</td>\n",
       "      <td>0.979157</td>\n",
       "      <td>115.668620</td>\n",
       "      <td>279.445312</td>\n",
       "      <td>280.847656</td>\n",
       "      <td>1</td>\n",
       "    </tr>\n",
       "    <tr>\n",
       "      <th>6</th>\n",
       "      <td>003a266a21249ee7746b74f29c93ed07</td>\n",
       "      <td>0.565047</td>\n",
       "      <td>0.642564</td>\n",
       "      <td>51.771484</td>\n",
       "      <td>52.007812</td>\n",
       "      <td>0</td>\n",
       "    </tr>\n",
       "    <tr>\n",
       "      <th>...</th>\n",
       "      <td>...</td>\n",
       "      <td>...</td>\n",
       "      <td>...</td>\n",
       "      <td>...</td>\n",
       "      <td>...</td>\n",
       "      <td>...</td>\n",
       "    </tr>\n",
       "    <tr>\n",
       "      <th>10493</th>\n",
       "      <td>ffb39d3a90154fa331efdff422489197</td>\n",
       "      <td>2.147811</td>\n",
       "      <td>3.943654</td>\n",
       "      <td>511.630859</td>\n",
       "      <td>516.652344</td>\n",
       "      <td>1</td>\n",
       "    </tr>\n",
       "    <tr>\n",
       "      <th>10495</th>\n",
       "      <td>ffb71df790da9685eb0b280f40583e3b</td>\n",
       "      <td>5.844121</td>\n",
       "      <td>6.939110</td>\n",
       "      <td>585.976562</td>\n",
       "      <td>585.976562</td>\n",
       "      <td>2</td>\n",
       "    </tr>\n",
       "    <tr>\n",
       "      <th>10496</th>\n",
       "      <td>ffc59295b896b7b22280d0bf1be0699d</td>\n",
       "      <td>0.075469</td>\n",
       "      <td>0.112743</td>\n",
       "      <td>30.140625</td>\n",
       "      <td>30.441406</td>\n",
       "      <td>0</td>\n",
       "    </tr>\n",
       "    <tr>\n",
       "      <th>10501</th>\n",
       "      <td>ffdf76b5e9458fb21062d50557d7f8fa</td>\n",
       "      <td>0.126827</td>\n",
       "      <td>0.126827</td>\n",
       "      <td>47.679688</td>\n",
       "      <td>47.679688</td>\n",
       "      <td>0</td>\n",
       "    </tr>\n",
       "    <tr>\n",
       "      <th>10502</th>\n",
       "      <td>ffe759fe7996f523feb279a03a48233a</td>\n",
       "      <td>0.007061</td>\n",
       "      <td>0.009233</td>\n",
       "      <td>4.656250</td>\n",
       "      <td>4.664062</td>\n",
       "      <td>0</td>\n",
       "    </tr>\n",
       "  </tbody>\n",
       "</table>\n",
       "<p>6557 rows × 6 columns</p>\n",
       "</div>"
      ],
      "text/plain": [
       "                                   hash  mediana_cpu    pico_cpu  \\\n",
       "0      0000c672f5e96d5c7078db295c99dd1f     6.028352    8.738411   \n",
       "2      001b37c1ee0862b0326ee3571c4f05de     0.079422    0.084502   \n",
       "3      0028c4dfdf4f19f3914cc5ca96f7b3d4     0.948848    1.106187   \n",
       "5      002c616e25cfb0f2cac2e6796a914a5b     0.979157  115.668620   \n",
       "6      003a266a21249ee7746b74f29c93ed07     0.565047    0.642564   \n",
       "...                                 ...          ...         ...   \n",
       "10493  ffb39d3a90154fa331efdff422489197     2.147811    3.943654   \n",
       "10495  ffb71df790da9685eb0b280f40583e3b     5.844121    6.939110   \n",
       "10496  ffc59295b896b7b22280d0bf1be0699d     0.075469    0.112743   \n",
       "10501  ffdf76b5e9458fb21062d50557d7f8fa     0.126827    0.126827   \n",
       "10502  ffe759fe7996f523feb279a03a48233a     0.007061    0.009233   \n",
       "\n",
       "       mediana_memoria  pico_memoria  classe  \n",
       "0           463.753906    465.085938       2  \n",
       "2            54.570312     55.792969       0  \n",
       "3           636.351562    636.355469       1  \n",
       "5           279.445312    280.847656       1  \n",
       "6            51.771484     52.007812       0  \n",
       "...                ...           ...     ...  \n",
       "10493       511.630859    516.652344       1  \n",
       "10495       585.976562    585.976562       2  \n",
       "10496        30.140625     30.441406       0  \n",
       "10501        47.679688     47.679688       0  \n",
       "10502         4.656250      4.664062       0  \n",
       "\n",
       "[6557 rows x 6 columns]"
      ]
     },
     "execution_count": 101,
     "metadata": {},
     "output_type": "execute_result"
    }
   ],
   "source": [
    "# Treinamento com 5 classes (Cluster = 3)\n",
    "kmeans = KMeans(n_clusters=3, n_init=100, max_iter=10_000, random_state=61658).fit(scaled_features)\n",
    "\n",
    "# Adiciona os labels ao dataframe\n",
    "df_group_by_cpu_memoria['classe'] = kmeans.labels_\n",
    "df_group_by_cpu_memoria"
   ]
  },
  {
   "cell_type": "code",
   "execution_count": 104,
   "metadata": {},
   "outputs": [
    {
     "data": {
      "image/png": "[encoded data removed]",
      "text/plain": [
       "<Figure size 432x288 with 1 Axes>"
      ]
     },
     "metadata": {
      "needs_background": "light"
     },
     "output_type": "display_data"
    }
   ],
   "source": [
    "# Gráficos dos valores das features normalizadas\n",
    "plt.scatter(scaled_features[:,1], scaled_features[:,0], c = kmeans.labels_) #posicionamento dos eixos x e y\n",
    "plt.xlim(-0.15,2.5) #range do eixo x\n",
    "plt.ylim(-0.75, 4) #range do eixo y\n",
    "\n",
    "# plt.scatter(df_group_by_cpu_memoria['mediana_cpu'], df_group_by_cpu_memoria['mediana_memoria'], c = df_group_by_cpu_memoria['classe']) #posicionamento dos eixos x e y\n",
    "# plt.xlabel('Memória MB')\n",
    "# plt.ylabel('CPU mCPUs')\n",
    "# plt.xlim(0, 8000) #range do eixo x\n",
    "# plt.ylim(0, 10000) #range do eixo y\n",
    "plt.grid() #função que desenha a grade no nosso gráfico\n",
    "plt.scatter(kmeans.cluster_centers_[:,1],kmeans.cluster_centers_[:,0], s = 70, c = 'red') #posição de cada centroide no gráfico\n",
    "plt.show()"
   ]
  },
  {
   "cell_type": "code",
   "execution_count": 108,
   "metadata": {},
   "outputs": [
    {
     "data": {
      "image/png": "[encoded data removed]",
      "text/plain": [
       "<Figure size 432x288 with 1 Axes>"
      ]
     },
     "metadata": {
      "needs_background": "light"
     },
     "output_type": "display_data"
    }
   ],
   "source": [
    "# Gráfico a partir dos valores originais\n",
    "plt.scatter(df_group_by_cpu_memoria['mediana_cpu'], df_group_by_cpu_memoria['pico_memoria'], c = df_group_by_cpu_memoria['classe']) #posicionamento dos eixos x e y\n",
    "plt.xlabel('Memória MB')\n",
    "plt.ylabel('CPU mCPUs')\n",
    "plt.xlim(0, 8) #range do eixo x\n",
    "plt.ylim(0, 700) #range do eixo y\n",
    "plt.grid() #função que desenha a grade no nosso gráfico\n",
    "plt.show()"
   ]
  },
  {
   "cell_type": "code",
   "execution_count": 72,
   "metadata": {},
   "outputs": [
    {
     "data": {
      "text/html": [
       "<div>\n",
       "<style scoped>\n",
       "    .dataframe tbody tr th:only-of-type {\n",
       "        vertical-align: middle;\n",
       "    }\n",
       "\n",
       "    .dataframe tbody tr th {\n",
       "        vertical-align: top;\n",
       "    }\n",
       "\n",
       "    .dataframe thead th {\n",
       "        text-align: right;\n",
       "    }\n",
       "</style>\n",
       "<table border=\"1\" class=\"dataframe\">\n",
       "  <thead>\n",
       "    <tr style=\"text-align: right;\">\n",
       "      <th></th>\n",
       "      <th>flavor</th>\n",
       "      <th>cpu</th>\n",
       "      <th>memoria</th>\n",
       "    </tr>\n",
       "  </thead>\n",
       "  <tbody>\n",
       "    <tr>\n",
       "      <th>0</th>\n",
       "      <td>m0</td>\n",
       "      <td>4</td>\n",
       "      <td>64</td>\n",
       "    </tr>\n",
       "    <tr>\n",
       "      <th>1</th>\n",
       "      <td>m1</td>\n",
       "      <td>8</td>\n",
       "      <td>128</td>\n",
       "    </tr>\n",
       "    <tr>\n",
       "      <th>2</th>\n",
       "      <td>m2</td>\n",
       "      <td>16</td>\n",
       "      <td>256</td>\n",
       "    </tr>\n",
       "    <tr>\n",
       "      <th>3</th>\n",
       "      <td>m3</td>\n",
       "      <td>24</td>\n",
       "      <td>384</td>\n",
       "    </tr>\n",
       "    <tr>\n",
       "      <th>4</th>\n",
       "      <td>m4</td>\n",
       "      <td>32</td>\n",
       "      <td>512</td>\n",
       "    </tr>\n",
       "    <tr>\n",
       "      <th>5</th>\n",
       "      <td>m5</td>\n",
       "      <td>48</td>\n",
       "      <td>768</td>\n",
       "    </tr>\n",
       "    <tr>\n",
       "      <th>6</th>\n",
       "      <td>m6</td>\n",
       "      <td>64</td>\n",
       "      <td>1024</td>\n",
       "    </tr>\n",
       "    <tr>\n",
       "      <th>7</th>\n",
       "      <td>m7</td>\n",
       "      <td>80</td>\n",
       "      <td>1280</td>\n",
       "    </tr>\n",
       "    <tr>\n",
       "      <th>8</th>\n",
       "      <td>m8</td>\n",
       "      <td>96</td>\n",
       "      <td>1536</td>\n",
       "    </tr>\n",
       "    <tr>\n",
       "      <th>9</th>\n",
       "      <td>m9</td>\n",
       "      <td>96</td>\n",
       "      <td>2048</td>\n",
       "    </tr>\n",
       "    <tr>\n",
       "      <th>10</th>\n",
       "      <td>n2</td>\n",
       "      <td>256</td>\n",
       "      <td>4096</td>\n",
       "    </tr>\n",
       "  </tbody>\n",
       "</table>\n",
       "</div>"
      ],
      "text/plain": [
       "   flavor  cpu  memoria\n",
       "0      m0    4       64\n",
       "1      m1    8      128\n",
       "2      m2   16      256\n",
       "3      m3   24      384\n",
       "4      m4   32      512\n",
       "5      m5   48      768\n",
       "6      m6   64     1024\n",
       "7      m7   80     1280\n",
       "8      m8   96     1536\n",
       "9      m9   96     2048\n",
       "10     n2  256     4096"
      ]
     },
     "execution_count": 72,
     "metadata": {},
     "output_type": "execute_result"
    }
   ],
   "source": [
    "data_flavors = {'flavor': ['m0','m1','m2','m3','m4','m5','m6','m7','m8','m9', 'n2'],\n",
    "          'cpu': [4, 8,16, 24, 32, 48, 64, 80, 96, 96, 256],\n",
    "          'memoria': [64, 128, 256, 384, 512, 768, 1024, 1280, 1536, 2048, 4096]\n",
    "        }\n",
    "\n",
    "df_flavors = pd.DataFrame(data_flavors, columns = ['flavor','cpu', 'memoria'])\n",
    "df_flavors"
   ]
  },
  {
   "cell_type": "code",
   "execution_count": null,
   "metadata": {},
   "outputs": [],
   "source": []
  },
  {
   "cell_type": "code",
   "execution_count": 74,
   "metadata": {},
   "outputs": [
    {
     "data": {
      "text/html": [
       "<div>\n",
       "<style scoped>\n",
       "    .dataframe tbody tr th:only-of-type {\n",
       "        vertical-align: middle;\n",
       "    }\n",
       "\n",
       "    .dataframe tbody tr th {\n",
       "        vertical-align: top;\n",
       "    }\n",
       "\n",
       "    .dataframe thead th {\n",
       "        text-align: right;\n",
       "    }\n",
       "</style>\n",
       "<table border=\"1\" class=\"dataframe\">\n",
       "  <thead>\n",
       "    <tr style=\"text-align: right;\">\n",
       "      <th></th>\n",
       "      <th>hash</th>\n",
       "      <th>mCPU</th>\n",
       "      <th>memoria</th>\n",
       "      <th>flavor</th>\n",
       "    </tr>\n",
       "  </thead>\n",
       "  <tbody>\n",
       "    <tr>\n",
       "      <th>0</th>\n",
       "      <td>0000c672f5e96d5c7078db295c99dd1f</td>\n",
       "      <td>6.028352</td>\n",
       "      <td>465.085938</td>\n",
       "      <td>None</td>\n",
       "    </tr>\n",
       "    <tr>\n",
       "      <th>1</th>\n",
       "      <td>00115d136a63167e961d60147809aff7</td>\n",
       "      <td>184.985555</td>\n",
       "      <td>204.296875</td>\n",
       "      <td>None</td>\n",
       "    </tr>\n",
       "    <tr>\n",
       "      <th>3</th>\n",
       "      <td>0028c4dfdf4f19f3914cc5ca96f7b3d4</td>\n",
       "      <td>0.948848</td>\n",
       "      <td>636.355469</td>\n",
       "      <td>None</td>\n",
       "    </tr>\n",
       "    <tr>\n",
       "      <th>5</th>\n",
       "      <td>002c616e25cfb0f2cac2e6796a914a5b</td>\n",
       "      <td>0.979157</td>\n",
       "      <td>280.847656</td>\n",
       "      <td>None</td>\n",
       "    </tr>\n",
       "    <tr>\n",
       "      <th>6</th>\n",
       "      <td>003a266a21249ee7746b74f29c93ed07</td>\n",
       "      <td>0.565047</td>\n",
       "      <td>52.007812</td>\n",
       "      <td>None</td>\n",
       "    </tr>\n",
       "    <tr>\n",
       "      <th>...</th>\n",
       "      <td>...</td>\n",
       "      <td>...</td>\n",
       "      <td>...</td>\n",
       "      <td>...</td>\n",
       "    </tr>\n",
       "    <tr>\n",
       "      <th>11662</th>\n",
       "      <td>ffc59295b896b7b22280d0bf1be0699d</td>\n",
       "      <td>0.075469</td>\n",
       "      <td>30.441406</td>\n",
       "      <td>None</td>\n",
       "    </tr>\n",
       "    <tr>\n",
       "      <th>11664</th>\n",
       "      <td>ffca80265d8a3059193ae0642815206b</td>\n",
       "      <td>559.051871</td>\n",
       "      <td>474.265625</td>\n",
       "      <td>None</td>\n",
       "    </tr>\n",
       "    <tr>\n",
       "      <th>11668</th>\n",
       "      <td>ffdf76b5e9458fb21062d50557d7f8fa</td>\n",
       "      <td>0.126827</td>\n",
       "      <td>47.679688</td>\n",
       "      <td>None</td>\n",
       "    </tr>\n",
       "    <tr>\n",
       "      <th>11669</th>\n",
       "      <td>ffe759fe7996f523feb279a03a48233a</td>\n",
       "      <td>0.007061</td>\n",
       "      <td>4.664062</td>\n",
       "      <td>None</td>\n",
       "    </tr>\n",
       "    <tr>\n",
       "      <th>11671</th>\n",
       "      <td>fffccdea8e33694fe0152305f4b359ef</td>\n",
       "      <td>27.479527</td>\n",
       "      <td>236.222656</td>\n",
       "      <td>None</td>\n",
       "    </tr>\n",
       "  </tbody>\n",
       "</table>\n",
       "<p>7665 rows × 4 columns</p>\n",
       "</div>"
      ],
      "text/plain": [
       "                                   hash        mCPU     memoria flavor\n",
       "0      0000c672f5e96d5c7078db295c99dd1f    6.028352  465.085938   None\n",
       "1      00115d136a63167e961d60147809aff7  184.985555  204.296875   None\n",
       "3      0028c4dfdf4f19f3914cc5ca96f7b3d4    0.948848  636.355469   None\n",
       "5      002c616e25cfb0f2cac2e6796a914a5b    0.979157  280.847656   None\n",
       "6      003a266a21249ee7746b74f29c93ed07    0.565047   52.007812   None\n",
       "...                                 ...         ...         ...    ...\n",
       "11662  ffc59295b896b7b22280d0bf1be0699d    0.075469   30.441406   None\n",
       "11664  ffca80265d8a3059193ae0642815206b  559.051871  474.265625   None\n",
       "11668  ffdf76b5e9458fb21062d50557d7f8fa    0.126827   47.679688   None\n",
       "11669  ffe759fe7996f523feb279a03a48233a    0.007061    4.664062   None\n",
       "11671  fffccdea8e33694fe0152305f4b359ef   27.479527  236.222656   None\n",
       "\n",
       "[7665 rows x 4 columns]"
      ]
     },
     "execution_count": 74,
     "metadata": {},
     "output_type": "execute_result"
    }
   ],
   "source": [
    "# Rotular\n",
    "# Flavors (cpu, memoria)\n",
    "# m0;4;64;\n",
    "# m1;8;128;\n",
    "# m2;16;256;\n",
    "# m3;24;384\n",
    "# m4;32;512;\n",
    "# m5;48;768;\n",
    "# m6;64;1024;\n",
    "# m7;80;1280\n",
    "# m8;96;1536;\n",
    "# m9;96;2048;\n",
    "# n2;256;4096;\n",
    "df_group_by_memoria_cpu['flavor'] = None\n",
    "\n",
    "df_group_by_memoria_cpu"
   ]
  },
  {
   "cell_type": "code",
   "execution_count": 100,
   "metadata": {},
   "outputs": [
    {
     "name": "stderr",
     "output_type": "stream",
     "text": [
      "/home/56740050368/Softwares/anaconda3/lib/python3.7/site-packages/pandas/core/series.py:1056: SettingWithCopyWarning: \n",
      "A value is trying to be set on a copy of a slice from a DataFrame\n",
      "\n",
      "See the caveats in the documentation: https://pandas.pydata.org/pandas-docs/stable/user_guide/indexing.html#returning-a-view-versus-a-copy\n",
      "  cacher_needs_updating = self._check_is_chained_assignment_possible()\n"
     ]
    }
   ],
   "source": [
    "for indice in range(len(df_group_by_memoria_cpu)):\n",
    "    reg = df_group_by_memoria_cpu.iloc[indice]\n",
    "    for i in range(len(df_flavors)):\n",
    "        if reg['memoria'] <= df_flavors.at[i, 'memoria']:\n",
    "            if reg['mCPU'] <= df_flavors.at[i, 'cpu']:\n",
    "                reg['flavor'] = df_flavors.at[i, 'flavor']\n",
    "                break"
   ]
  }
 ],
 "metadata": {
  "kernelspec": {
   "display_name": "Python 3 (ipykernel)",
   "language": "python",
   "name": "python3"
  },
  "language_info": {
   "codemirror_mode": {
    "name": "ipython",
    "version": 3
   },
   "file_extension": ".py",
   "mimetype": "text/x-python",
   "name": "python",
   "nbconvert_exporter": "python",
   "pygments_lexer": "ipython3",
   "version": "3.9.12"
  }
 },
 "nbformat": 4,
 "nbformat_minor": 2
}
